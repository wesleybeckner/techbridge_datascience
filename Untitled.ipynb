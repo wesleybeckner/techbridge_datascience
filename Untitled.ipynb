{
 "cells": [
  {
   "cell_type": "markdown",
   "metadata": {},
   "source": [
    "# techbridge_datascience\n",
    "\n",
    "Interactive datascience lessons for the Techbridge Girls program\n",
    "\n",
    "You can learn more about the underlying algorithms at Google AI's [Teaching Machines to Draw](https://ai.googleblog.com/2017/04/teaching-machines-to-draw.html) and Dan Macnish's [Draw This](https://danmacnish.com/2018/07/01/draw-this/) posts\n",
    "\n",
    "## Install\n",
    "\n",
    "You can setup the environment to run these lessons locally using [conda](https://conda.io/docs/user-guide/tasks/manage-environments.html#creating-an-environment-from-an-environment-yml-file) and the envrionment.yml file:\n",
    "\n",
    "```\n",
    "conda env create -f environment.yml\n",
    "```\n",
    "\n",
    "[magenta](https://github.com/tensorflow/magenta#installation) depends on a `rtimidi` package that may require manual install of headers for some sound libraries on your local system. On Linux:\n",
    "\n",
    "```\n",
    "sudo apt-get install build-essential libasound2-dev libjack-dev\n",
    "```\n",
    "\n",
    "\n"
   ]
  },
  {
   "cell_type": "code",
   "execution_count": null,
   "metadata": {},
   "outputs": [],
   "source": []
  }
 ],
 "metadata": {
  "kernelspec": {
   "display_name": "Python 2",
   "language": "python",
   "name": "python2"
  },
  "language_info": {
   "codemirror_mode": {
    "name": "ipython",
    "version": 2
   },
   "file_extension": ".py",
   "mimetype": "text/x-python",
   "name": "python",
   "nbconvert_exporter": "python",
   "pygments_lexer": "ipython2",
   "version": "2.7.15"
  }
 },
 "nbformat": 4,
 "nbformat_minor": 2
}
