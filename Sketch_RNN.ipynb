{
 "cells": [
  {
   "cell_type": "markdown",
   "metadata": {
    "colab_type": "text",
    "id": "tDybPQiEFQuJ"
   },
   "source": [
    "In this notebook, we will show how to load pre-trained models and draw things with sketch-rnn"
   ]
  },
  {
   "cell_type": "code",
   "execution_count": 1,
   "metadata": {
    "colab": {},
    "colab_type": "code",
    "id": "k0GqvYgB9JLC"
   },
   "outputs": [
    {
     "name": "stdout",
     "output_type": "stream",
     "text": [
      "INFO:tensorflow:TensorFlow Version: 1.12.0\n"
     ]
    }
   ],
   "source": [
    "# import the required libraries\n",
    "import numpy as np\n",
    "import time\n",
    "import random\n",
    "import pickle as cPkickle\n",
    "import codecs\n",
    "import collections\n",
    "import os\n",
    "import math\n",
    "import json\n",
    "import tensorflow as tf\n",
    "from six.moves import xrange\n",
    "\n",
    "# libraries required for visualisation:\n",
    "from IPython.display import SVG, display\n",
    "import PIL\n",
    "from PIL import Image\n",
    "import matplotlib.pyplot as plt\n",
    "\n",
    "# set numpy output to something sensible\n",
    "np.set_printoptions(precision=8, edgeitems=6, linewidth=200, suppress=True)\n",
    "\n",
    "import svgwrite # conda install -c omnia svgwrite=1.1.6\n",
    "import magenta #!pip install -q magenta\n",
    "\n",
    "# import our command line tools\n",
    "from magenta.models.sketch_rnn.sketch_rnn_train import *\n",
    "from magenta.models.sketch_rnn.model import *\n",
    "from magenta.models.sketch_rnn.utils import *\n",
    "from magenta.models.sketch_rnn.rnn import *\n",
    "\n",
    "# check our version of TF\n",
    "tf.logging.info(\"TensorFlow Version: %s\", tf.__version__)"
   ]
  },
  {
   "cell_type": "code",
   "execution_count": 31,
   "metadata": {
    "colab": {},
    "colab_type": "code",
    "id": "GBde4xkEFQuX"
   },
   "outputs": [],
   "source": [
    "# little function that displays vector images and saves them to .svg\n",
    "def draw_strokes(data, factor=0.2, svg_filename = '/tmp/sketch_rnn/svg/sample.svg'):\n",
    "  tf.gfile.MakeDirs(os.path.dirname(svg_filename))\n",
    "  min_x, max_x, min_y, max_y = get_bounds(data, factor)\n",
    "  dims = (50 + max_x - min_x, 50 + max_y - min_y)\n",
    "  dwg = svgwrite.Drawing(svg_filename, size=dims)\n",
    "  dwg.add(dwg.rect(insert=(0, 0), size=dims,fill='white'))\n",
    "  lift_pen = 1\n",
    "  abs_x = 25 - min_x \n",
    "  abs_y = 25 - min_y\n",
    "  p = \"M%s,%s \" % (abs_x, abs_y)\n",
    "  command = \"m\"\n",
    "  for i in xrange(len(data)):\n",
    "    if (lift_pen == 1):\n",
    "      command = \"m\"\n",
    "    elif (command != \"l\"):\n",
    "      command = \"l\"\n",
    "    else:\n",
    "      command = \"\"\n",
    "    x = float(data[i,0])/factor\n",
    "    y = float(data[i,1])/factor\n",
    "    lift_pen = data[i, 2]\n",
    "    p += command+str(x)+\",\"+str(y)+\" \"\n",
    "  the_color = \"black\"\n",
    "  stroke_width = 1\n",
    "  dwg.add(dwg.path(p).stroke(the_color,stroke_width).fill(\"none\"))\n",
    "  dwg.save()\n",
    "  display(SVG(dwg.tostring()))\n",
    "\n",
    "# generate a 2D grid of many vector drawings\n",
    "def make_grid_svg(s_list, grid_space=10.0, grid_space_x=16.0):\n",
    "  def get_start_and_end(x):\n",
    "    x = np.array(x)\n",
    "    x = x[:, 0:2]\n",
    "    x_start = x[0]\n",
    "    x_end = x.sum(axis=0)\n",
    "    x = x.cumsum(axis=0)\n",
    "    x_max = x.max(axis=0)\n",
    "    x_min = x.min(axis=0)\n",
    "    center_loc = (x_max+x_min)*0.5\n",
    "    return x_start-center_loc, x_end\n",
    "  x_pos = 0.0\n",
    "  y_pos = 0.0\n",
    "  result = [[x_pos, y_pos, 1]]\n",
    "  for sample in s_list:\n",
    "    s = sample[0]\n",
    "    grid_loc = sample[1]\n",
    "    grid_y = grid_loc[0]*grid_space+grid_space*0.5\n",
    "    grid_x = grid_loc[1]*grid_space_x+grid_space_x*0.5\n",
    "    start_loc, delta_pos = get_start_and_end(s)\n",
    "\n",
    "    loc_x = start_loc[0]\n",
    "    loc_y = start_loc[1]\n",
    "    new_x_pos = grid_x+loc_x\n",
    "    new_y_pos = grid_y+loc_y\n",
    "    result.append([new_x_pos-x_pos, new_y_pos-y_pos, 0])\n",
    "\n",
    "    result += s.tolist()\n",
    "    result[-1][2] = 1\n",
    "    x_pos = new_x_pos+delta_pos[0]\n",
    "    y_pos = new_y_pos+delta_pos[1]\n",
    "  return np.array(result)"
   ]
  },
  {
   "cell_type": "markdown",
   "metadata": {
    "colab_type": "text",
    "id": "if7-UyxzFQuY"
   },
   "source": [
    "define the path of the model you want to load, and also the path of the dataset"
   ]
  },
  {
   "cell_type": "code",
   "execution_count": 32,
   "metadata": {
    "colab": {},
    "colab_type": "code",
    "id": "Dipv1EbsFQuZ"
   },
   "outputs": [],
   "source": [
    "data_dir = 'http://github.com/hardmaru/sketch-rnn-datasets/raw/master/aaron_sheep/'\n",
    "models_root_dir = '/tmp/sketch_rnn/models'\n",
    "model_dir = '/tmp/sketch_rnn/models/aaron_sheep/layer_norm'"
   ]
  },
  {
   "cell_type": "code",
   "execution_count": 33,
   "metadata": {
    "colab": {
     "base_uri": "https://localhost:8080/",
     "height": 68
    },
    "colab_type": "code",
    "id": "eaSqI0fIFQub",
    "outputId": "06df45a6-cc86-4f50-802e-25ae185037f7"
   },
   "outputs": [
    {
     "name": "stdout",
     "output_type": "stream",
     "text": [
      "INFO:tensorflow:/tmp/sketch_rnn/models/sketch_rnn.zip already exists, using cached copy\n",
      "INFO:tensorflow:Unzipping /tmp/sketch_rnn/models/sketch_rnn.zip...\n",
      "INFO:tensorflow:Unzipping complete.\n"
     ]
    }
   ],
   "source": [
    "download_pretrained_models(models_root_dir=models_root_dir)"
   ]
  },
  {
   "cell_type": "code",
   "execution_count": 34,
   "metadata": {
    "colab": {},
    "colab_type": "code",
    "id": "G4sRuxyn_1aO"
   },
   "outputs": [],
   "source": [
    "def load_env_compatible(data_dir, model_dir):\n",
    "  \"\"\"Loads environment for inference mode, used in jupyter notebook.\"\"\"\n",
    "  # modified https://github.com/tensorflow/magenta/blob/master/magenta/models/sketch_rnn/sketch_rnn_train.py\n",
    "  # to work with depreciated tf.HParams functionality\n",
    "  model_params = sketch_rnn_model.get_default_hparams()\n",
    "  with tf.gfile.Open(os.path.join(model_dir, 'model_config.json'), 'r') as f:\n",
    "    data = json.load(f)\n",
    "  fix_list = ['conditional', 'is_training', 'use_input_dropout', 'use_output_dropout', 'use_recurrent_dropout']\n",
    "  for fix in fix_list:\n",
    "    data[fix] = (data[fix] == 1)\n",
    "  model_params.parse_json(json.dumps(data))\n",
    "  return load_dataset(data_dir, model_params, inference_mode=True)\n",
    "\n",
    "def load_model_compatible(model_dir):\n",
    "  \"\"\"Loads model for inference mode, used in jupyter notebook.\"\"\"\n",
    "  # modified https://github.com/tensorflow/magenta/blob/master/magenta/models/sketch_rnn/sketch_rnn_train.py\n",
    "  # to work with depreciated tf.HParams functionality\n",
    "  model_params = sketch_rnn_model.get_default_hparams()\n",
    "  with tf.gfile.Open(os.path.join(model_dir, 'model_config.json'), 'r') as f:\n",
    "    data = json.load(f)\n",
    "  fix_list = ['conditional', 'is_training', 'use_input_dropout', 'use_output_dropout', 'use_recurrent_dropout']\n",
    "  for fix in fix_list:\n",
    "    data[fix] = (data[fix] == 1)\n",
    "  model_params.parse_json(json.dumps(data))\n",
    "\n",
    "  model_params.batch_size = 1  # only sample one at a time\n",
    "  eval_model_params = sketch_rnn_model.copy_hparams(model_params)\n",
    "  eval_model_params.use_input_dropout = 0\n",
    "  eval_model_params.use_recurrent_dropout = 0\n",
    "  eval_model_params.use_output_dropout = 0\n",
    "  eval_model_params.is_training = 0\n",
    "  sample_model_params = sketch_rnn_model.copy_hparams(eval_model_params)\n",
    "  sample_model_params.max_seq_len = 1  # sample one point at a time\n",
    "  return [model_params, eval_model_params, sample_model_params]"
   ]
  },
  {
   "cell_type": "code",
   "execution_count": 35,
   "metadata": {
    "colab": {
     "base_uri": "https://localhost:8080/",
     "height": 153
    },
    "colab_type": "code",
    "id": "9m-jSAb3FQuf",
    "outputId": "debc045d-d15a-4b30-f747-fa4bcbd069fd"
   },
   "outputs": [
    {
     "name": "stdout",
     "output_type": "stream",
     "text": [
      "INFO:tensorflow:Downloading http://github.com/hardmaru/sketch-rnn-datasets/raw/master/aaron_sheep/aaron_sheep.npz\n",
      "INFO:tensorflow:Loaded 7400/300/300 from aaron_sheep.npz\n",
      "INFO:tensorflow:Dataset combined: 8000 (7400/300/300), avg len 125\n",
      "INFO:tensorflow:model_params.max_seq_len 250.\n",
      "total images <= max_seq_len is 7400\n",
      "total images <= max_seq_len is 300\n",
      "total images <= max_seq_len is 300\n",
      "INFO:tensorflow:normalizing_scale_factor 18.5198.\n"
     ]
    }
   ],
   "source": [
    "[train_set, valid_set, test_set, hps_model, eval_hps_model, sample_hps_model] = load_env_compatible(data_dir, model_dir)"
   ]
  },
  {
   "cell_type": "code",
   "execution_count": 36,
   "metadata": {
    "colab": {
     "base_uri": "https://localhost:8080/",
     "height": 479
    },
    "colab_type": "code",
    "id": "1pHS8TSgFQui",
    "outputId": "50b0e14d-ff0f-43bf-d996-90e9e6a1491e"
   },
   "outputs": [
    {
     "name": "stdout",
     "output_type": "stream",
     "text": [
      "INFO:tensorflow:Model using gpu.\n",
      "INFO:tensorflow:Input dropout mode = False.\n",
      "INFO:tensorflow:Output dropout mode = False.\n",
      "INFO:tensorflow:Recurrent dropout mode = True.\n",
      "WARNING:tensorflow:From /home/wesleybeckner/anaconda3/envs/magenta/lib/python2.7/site-packages/magenta/models/sketch_rnn/rnn.py:136: calling reduce_mean (from tensorflow.python.ops.math_ops) with keep_dims is deprecated and will be removed in a future version.\n",
      "Instructions for updating:\n",
      "keep_dims is deprecated, use keepdims instead\n",
      "WARNING:tensorflow:From /home/wesleybeckner/anaconda3/envs/magenta/lib/python2.7/site-packages/magenta/models/sketch_rnn/model.py:285: calling reduce_sum (from tensorflow.python.ops.math_ops) with keep_dims is deprecated and will be removed in a future version.\n",
      "Instructions for updating:\n",
      "keep_dims is deprecated, use keepdims instead\n",
      "WARNING:tensorflow:From /home/wesleybeckner/anaconda3/envs/magenta/lib/python2.7/site-packages/magenta/models/sketch_rnn/model.py:295: softmax_cross_entropy_with_logits (from tensorflow.python.ops.nn_ops) is deprecated and will be removed in a future version.\n",
      "Instructions for updating:\n",
      "\n",
      "Future major versions of TensorFlow will allow gradients to flow\n",
      "into the labels input on backprop by default.\n",
      "\n",
      "See `tf.nn.softmax_cross_entropy_with_logits_v2`.\n",
      "\n",
      "INFO:tensorflow:Model using gpu.\n",
      "INFO:tensorflow:Input dropout mode = 0.\n",
      "INFO:tensorflow:Output dropout mode = 0.\n",
      "INFO:tensorflow:Recurrent dropout mode = 0.\n",
      "INFO:tensorflow:Model using gpu.\n",
      "INFO:tensorflow:Input dropout mode = 0.\n",
      "INFO:tensorflow:Output dropout mode = 0.\n",
      "INFO:tensorflow:Recurrent dropout mode = 0.\n"
     ]
    }
   ],
   "source": [
    "# construct the sketch-rnn model here:\n",
    "reset_graph()\n",
    "model = Model(hps_model)\n",
    "eval_model = Model(eval_hps_model, reuse=True)\n",
    "sample_model = Model(sample_hps_model, reuse=True)"
   ]
  },
  {
   "cell_type": "code",
   "execution_count": 37,
   "metadata": {
    "colab": {},
    "colab_type": "code",
    "id": "1gxYLPTQFQuk"
   },
   "outputs": [],
   "source": [
    "sess = tf.InteractiveSession()\n",
    "sess.run(tf.global_variables_initializer())"
   ]
  },
  {
   "cell_type": "code",
   "execution_count": 38,
   "metadata": {
    "colab": {
     "base_uri": "https://localhost:8080/",
     "height": 51
    },
    "colab_type": "code",
    "id": "bVlDyfN_FQum",
    "outputId": "fb41ce20-4c7f-4991-e9f6-559ea9b34a31"
   },
   "outputs": [
    {
     "name": "stdout",
     "output_type": "stream",
     "text": [
      "INFO:tensorflow:Loading model /tmp/sketch_rnn/models/aaron_sheep/layer_norm/vector.\n",
      "INFO:tensorflow:Restoring parameters from /tmp/sketch_rnn/models/aaron_sheep/layer_norm/vector\n"
     ]
    }
   ],
   "source": [
    "# loads the weights from checkpoint into our model\n",
    "load_checkpoint(sess, model_dir)"
   ]
  },
  {
   "cell_type": "markdown",
   "metadata": {
    "colab_type": "text",
    "id": "EOblwpFeFQuq"
   },
   "source": [
    "We define two convenience functions to encode a stroke into a latent vector, and decode from latent vector to stroke."
   ]
  },
  {
   "cell_type": "code",
   "execution_count": 39,
   "metadata": {
    "colab": {},
    "colab_type": "code",
    "id": "tMFlV487FQur"
   },
   "outputs": [],
   "source": [
    "def encode(input_strokes):\n",
    "  strokes = to_big_strokes(input_strokes).tolist()\n",
    "  strokes.insert(0, [0, 0, 1, 0, 0])\n",
    "  seq_len = [len(input_strokes)]\n",
    "  draw_strokes(to_normal_strokes(np.array(strokes)))\n",
    "  return sess.run(eval_model.batch_z, feed_dict={eval_model.input_data: [strokes], eval_model.sequence_lengths: seq_len})[0]"
   ]
  },
  {
   "cell_type": "code",
   "execution_count": 40,
   "metadata": {
    "colab": {},
    "colab_type": "code",
    "id": "1D5CV7ZlFQut"
   },
   "outputs": [],
   "source": [
    "def decode(z_input=None, draw_mode=True, temperature=0.1, factor=0.2):\n",
    "  z = None\n",
    "  if z_input is not None:\n",
    "    z = [z_input]\n",
    "  sample_strokes, m = sample(sess, sample_model, seq_len=eval_model.hps.max_seq_len, temperature=temperature, z=z)\n",
    "  strokes = to_normal_strokes(sample_strokes)\n",
    "  if draw_mode:\n",
    "    draw_strokes(strokes, factor)\n",
    "  return strokes"
   ]
  },
  {
   "cell_type": "code",
   "execution_count": 41,
   "metadata": {
    "colab": {
     "base_uri": "https://localhost:8080/",
     "height": 123
    },
    "colab_type": "code",
    "id": "fUOAvRQtFQuw",
    "outputId": "c8e9a1c3-28db-4263-ac67-62ffece1e1e0"
   },
   "outputs": [
    {
     "data": {
      "image/svg+xml": [
       "<svg baseProfile=\"full\" height=\"85.6374906376\" version=\"1.1\" width=\"106.426024958\" xmlns=\"http://www.w3.org/2000/svg\" xmlns:ev=\"http://www.w3.org/2001/xml-events\" xmlns:xlink=\"http://www.w3.org/1999/xlink\"><defs/><rect fill=\"white\" height=\"85.6374906376\" width=\"106.426024958\" x=\"0\" y=\"0\"/><path d=\"M44.4386315346,25.5399619788 m5.9395813942,-0.539961978793 l9.17935311794,2.42982879281 0.809942930937,2.42982879281 l2.69980967045,-2.15984791517 5.3996193409,-1.07992395759 l2.42982879281,0.0 0.269980989397,1.07992395759 l3.77973377705,0.539961978793 2.69980967045,3.5097527504 l2.42982879281,1.61988586187 1.07992395759,1.88986688852 l0.269980989397,2.9697906971 -8.90937209129,4.85965758562 l-7.82944858074,1.34990483522 -12.6891064644,0.0 l-4.58967655897,-0.539961978793 -3.23977172375,-2.42982879281 l-8.36941063404,-4.58967655897 -3.23977172375,-6.74952447414 m10.5292582512,6.74952447414 l0.539961978793,0.539961978793 0.0,9.44933414459 l-1.61988586187,7.28948652744 m15.9288775921,-13.4990489483 l2.15984791517,0.269980989397 3.77973377705,17.2787833214 m-14.3089914322,-17.8187441826 l0.0,15.1189351082 m17.2787833214,-13.4990489483 l1.07992395759,0.809942930937 1.61988586187,3.23977172375 l4.85965758562,14.5789730549 m-37.2573757172,-31.8577551842 l0.0,-0.539961978793 -0.809942930937,-0.539961978793 l-4.0497148037,-1.61988586187 -5.12963891029,-0.539961978793 l-1.34990483522,0.809942930937 -0.809942930937,1.61988586187 l0.269980989397,3.23977172375 1.07992395759,0.809942930937 l3.77973377705,0.539961978793 \" fill=\"none\" stroke=\"black\" stroke-width=\"1\"/></svg>"
      ],
      "text/plain": [
       "<IPython.core.display.SVG object>"
      ]
     },
     "metadata": {},
     "output_type": "display_data"
    }
   ],
   "source": [
    "# get a sample drawing from the test set, and render it to .svg\n",
    "stroke = test_set.random_sample()\n",
    "draw_strokes(stroke)"
   ]
  },
  {
   "cell_type": "markdown",
   "metadata": {
    "colab_type": "text",
    "id": "j114Re2JFQuz"
   },
   "source": [
    "Let's try to encode the sample stroke into latent vector $z$"
   ]
  },
  {
   "cell_type": "code",
   "execution_count": 42,
   "metadata": {
    "colab": {
     "base_uri": "https://localhost:8080/",
     "height": 123
    },
    "colab_type": "code",
    "id": "DBRjPBo-FQu0",
    "outputId": "e089dc78-88e3-44c6-ed7e-f1844471f47f"
   },
   "outputs": [
    {
     "data": {
      "image/svg+xml": [
       "<svg baseProfile=\"full\" height=\"85.6374906376\" version=\"1.1\" width=\"106.426024958\" xmlns=\"http://www.w3.org/2000/svg\" xmlns:ev=\"http://www.w3.org/2001/xml-events\" xmlns:xlink=\"http://www.w3.org/1999/xlink\"><defs/><rect fill=\"white\" height=\"85.6374906376\" width=\"106.426024958\" x=\"0\" y=\"0\"/><path d=\"M44.4386315346,25.5399619788 m0.0,0.0 l5.9395813942,-0.539961978793 9.17935311794,2.42982879281 l0.809942930937,2.42982879281 2.69980967045,-2.15984791517 l5.3996193409,-1.07992395759 2.42982879281,0.0 l0.269980989397,1.07992395759 3.77973377705,0.539961978793 l2.69980967045,3.5097527504 2.42982879281,1.61988586187 l1.07992395759,1.88986688852 0.269980989397,2.9697906971 l-8.90937209129,4.85965758562 -7.82944858074,1.34990483522 l-12.6891064644,0.0 -4.58967655897,-0.539961978793 l-3.23977172375,-2.42982879281 -8.36941063404,-4.58967655897 l-3.23977172375,-6.74952447414 m10.5292582512,6.74952447414 l0.539961978793,0.539961978793 0.0,9.44933414459 l-1.61988586187,7.28948652744 m15.9288775921,-13.4990489483 l2.15984791517,0.269980989397 3.77973377705,17.2787833214 m-14.3089914322,-17.8187441826 l0.0,15.1189351082 m17.2787833214,-13.4990489483 l1.07992395759,0.809942930937 1.61988586187,3.23977172375 l4.85965758562,14.5789730549 m-37.2573757172,-31.8577551842 l0.0,-0.539961978793 -0.809942930937,-0.539961978793 l-4.0497148037,-1.61988586187 -5.12963891029,-0.539961978793 l-1.34990483522,0.809942930937 -0.809942930937,1.61988586187 l0.269980989397,3.23977172375 1.07992395759,0.809942930937 l3.77973377705,0.539961978793 \" fill=\"none\" stroke=\"black\" stroke-width=\"1\"/></svg>"
      ],
      "text/plain": [
       "<IPython.core.display.SVG object>"
      ]
     },
     "metadata": {},
     "output_type": "display_data"
    }
   ],
   "source": [
    "z = encode(stroke)"
   ]
  },
  {
   "cell_type": "code",
   "execution_count": 43,
   "metadata": {
    "colab": {
     "base_uri": "https://localhost:8080/",
     "height": 124
    },
    "colab_type": "code",
    "id": "-37v6eZLFQu5",
    "outputId": "5ddac2f2-5b3b-4cd7-b81f-7a8fa374aa6b"
   },
   "outputs": [
    {
     "data": {
      "image/svg+xml": [
       "<svg baseProfile=\"full\" height=\"85.7570036496\" version=\"1.1\" width=\"107.494223742\" xmlns=\"http://www.w3.org/2000/svg\" xmlns:ev=\"http://www.w3.org/2001/xml-events\" xmlns:xlink=\"http://www.w3.org/1999/xlink\"><defs/><rect fill=\"white\" height=\"85.7570036496\" width=\"107.494223742\" x=\"0\" y=\"0\"/><path d=\"M44.3117197259,25.5064496771 m6.03167355061,-0.50644967705 l4.81600850821,1.13130055368 3.10873985291,1.49059697986 l6.2058699131,4.14669722319 0.00032043986721,-0.100739132613 l2.51514166594,0.181669127196 3.7757435441,0.169805213809 l2.84769535065,0.518902726471 6.37137711048,2.55778431892 l2.48583748937,1.78689330816 0.0240965909325,5.81833004951 l-3.98016542196,3.58016550541 -3.50432932377,-0.532095432281 l-4.15042668581,-1.6642549634 -8.60214352608,1.71312794089 l-1.2687292695,0.0010094854224 -2.93395459652,-0.92544130981 l-5.99110662937,-3.90372782946 -1.41292780638,-1.49561986327 l-4.02320295572,-5.62894999981 -1.53900831938,-1.96144089103 l-1.47616118193,-5.44777274132 0.900419875979,-0.592316314578 m28.1240487099,14.2584562302 l0.000231163357967,13.2055425644 -10.0229632854,1.0129801929 m10.7715725899,-12.0495545864 l-1.71925917268,0.000546381561435 -4.85308349133,15.0835061073 l-0.888233929873,3.40160280466 m-18.0671298504,-18.6006903648 l-1.91544309258,12.2685706615 -3.99779230356,0.105825895444 m-1.4208611846,-16.4127862453 l-4.65983211994,7.5878828764 -4.53741550446,7.98348069191 l-3.69533091784,0.000324909342453 -2.63099551201,-1.67907446623 \" fill=\"none\" stroke=\"black\" stroke-width=\"1\"/></svg>"
      ],
      "text/plain": [
       "<IPython.core.display.SVG object>"
      ]
     },
     "metadata": {},
     "output_type": "display_data"
    }
   ],
   "source": [
    "_ = decode(z, temperature=0.8) # convert z back to drawing at temperature of 0.8"
   ]
  },
  {
   "cell_type": "markdown",
   "metadata": {
    "colab_type": "text",
    "id": "M5ft6IEBFQu9"
   },
   "source": [
    "Create generated grid at various temperatures from 0.1 to 1.0"
   ]
  },
  {
   "cell_type": "code",
   "execution_count": 44,
   "metadata": {
    "colab": {
     "base_uri": "https://localhost:8080/",
     "height": 130
    },
    "colab_type": "code",
    "id": "BuhaZI0aFQu9",
    "outputId": "d87d4b00-30c2-4302-bec8-46566ef26922"
   },
   "outputs": [
    {
     "data": {
      "image/svg+xml": [
       "<svg baseProfile=\"full\" height=\"103.773671826\" version=\"1.1\" width=\"846.073641319\" xmlns=\"http://www.w3.org/2000/svg\" xmlns:ev=\"http://www.w3.org/2001/xml-events\" xmlns:xlink=\"http://www.w3.org/1999/xlink\"><defs/><rect fill=\"white\" height=\"103.773671826\" width=\"846.073641319\" x=\"0\" y=\"0\"/><path d=\"M25,27.4812130956 m0.0,0.0 m33.7233169203,6.37782313872 l6.08506441116,-0.571826472878 7.79703617096,1.62064656615 l3.31480115652,1.88750013709 2.43204295635,2.17980563641 l2.11143031716,2.42447167635 3.55245918036,1.70240834355 l5.8760535717,1.02155841887 5.41208744049,1.00077643991 l2.63573050499,1.65894344449 1.88594564795,3.37332427502 l0.000250199045695,4.88693028688 -2.35937774181,3.22212994099 l-4.89896297455,2.30715528131 -11.5234255791,0.515470430255 l-5.68319439888,-1.29834294319 -8.59780132771,-3.32546174526 l-6.50834321976,-2.65255212784 -3.43211472034,-2.63581216335 l-2.44197711349,-3.45786809921 -1.42677590251,-4.04231667519 l0.506136193871,-3.44614982605 2.24915742874,-2.83628255129 l3.20584475994,-1.5493619442 3.57307076454,1.57763918196e-05 m22.0673179626,13.4385120869 l1.91503614187,0.628037303686 4.46580022573,8.37762117386 l-0.000311248986691,2.63402223587 m-15.7179927826,-3.63842904568 l0.251185242087,5.62934219837 -1.95662930608,7.61825919151 m-9.3260884285,-17.1744430065 l-0.36469232291,8.4354019165 -1.07837833464,7.83821225166 m-13.2423686981,-22.5231456757 l-1.93762496114,7.87853300571 -3.10811460018,7.67175853252 l-2.11168318987,3.10004800558 m102.055004255,-34.4739683317 l6.06158137321,-0.569295659661 7.81378269196,1.65079012513 l3.19423139095,1.81832209229 2.81516224146,2.20257207751 l2.59802818298,1.86085641384 4.05001491308,1.60909324884 l5.92834472656,1.09521448612 2.60321557522,1.32771834731 l2.5842744112,3.07826519012 -0.0313449208625,5.96315681934 l-2.03222870827,2.96827733517 -4.42133665085,2.71942585707 l-10.478758812,1.63186118007 -9.46461617947,0.000638169731246 l-4.72055613995,-1.45646214485 -3.53983461857,-2.19508364797 l-3.30675989389,-3.41357797384 -2.29418352246,-4.43189531565 l-1.03765614331,-6.13349676132 1.27529099584,-5.5918186903 l0.890731364489,-1.37586146593 2.81801998615,-1.59462451935 l3.65445822477,0.000113020305434 m23.0732440948,13.182618618 l1.98681652546,-0.309337619692 2.35368594527,2.12799742818 l3.06497186422,5.19038379192 -1.07000857952e-05,1.62954702973 l-3.70477467775,2.2693349421 -4.18534994125,0.117753008381 m-11.290897131,-0.797761827707 l-0.000369224471797,7.57707297802 -0.68364828825,9.6734136343 m-12.8862845898,-14.9007737637 l0.00463098258479,2.4109582603 0.184337347746,10.54880023 l-0.768222212791,1.3666434586 m-17.3984324932,-19.4093585014 l-2.53994762897,6.79625809193 -5.05973815918,7.78272926807 l-1.4331741631,1.06587804854 m95.5123491499,-34.6439667925 l6.07837557793,-0.584666058421 7.07193434238,-0.000257533411059 l3.91354203224,1.74279928207 2.89870917797,2.66067445278 l2.1154730022,2.69948035479 -0.000307744412567,2.26384833455 l8.41404438019,-0.179743114859 6.84265136719,1.16554617882 l2.36782237887,1.69692948461 1.58783197403,3.50993812084 l0.000148769140651,4.7154968977 -2.43629053235,2.93365031481 l-9.14096057415,1.87874987721 -9.60211277008,0.000554230900889 l-9.12520647049,-2.27589026093 -3.9846637845,-2.15838074684 l-5.09838461876,-2.56106704473 -2.83164829016,-2.64240384102 l-1.78940802813,-3.11778396368 -0.677717626095,-2.15842619538 l0.325905457139,-4.38210904598 0.891050472856,-1.63196340203 l1.2360291183,-0.894960612059 1.6400398314,1.04890818875e-05 m21.3467335701,14.992262125 l-5.39214317641e-08,9.96792316437 -0.521716102958,8.48512887955 m0.285666547716,-12.5349628925 l0.000348117064277,7.26455330849 -4.87416654825,0.786333829165 m-2.36212253571,-10.9051060677 l-1.76789603756e-05,9.08308207989 -3.23761999607,0.382322371006 m13.8328278065,-9.72550094128 l-0.000197625013243,6.46054446697 -1.99519708753,4.95188951492 m-15.8355081081,-22.5760579109 l-3.47552210093,1.54374718666 -5.99662303925,2.14221507311 l-1.44698560238,1.55088290572 -1.21483027935,-0.000501214963151 l-2.68219351768,-1.19165144861 -2.10690841079,-2.64062702656 l-0.722222477198,-3.00424903631 1.15714974701,-1.2920178473 l3.83824795485,-1.38786256313 5.95410645008,-0.000201756593015 l4.14025723934,1.62517294288 1.17679409683,1.96083694696 m84.2813110777,-5.52277938676 l6.07902169228,-0.536930821836 8.40130746365,2.12888062 l1.80825009942,1.7282897234 2.128944695,-0.811709240079 l5.09427845478,-0.521970465779 6.35253190994,1.39194592834 l2.71709084511,2.35276713967 1.68628454208,2.57495045662 l0.275861509144,4.90871727467 -1.98554873466,3.07801812887 l-3.56220155954,1.83045059443 -6.49003446102,0.000399259879487 l-5.51435410976,-1.67271792889 -10.8837902546,-3.70839864016 l-6.26779317856,-0.449217371643 -2.26926982403,-4.12484765053 l-0.967997014523,-3.69301557541 0.151184760034,-3.07665616274 l0.930795222521,-1.28749221563 3.31991612911,-0.958961695433 m25.1892828941,7.10770726204 l2.39772930741,-1.65293365717 3.14237892628,-0.447390116751 l1.75173923373,2.98061013222 -1.36071592569,1.20337940753 l-3.65100622177,-7.65829668126e-06 m-9.58651661873,5.13456225395 l8.70850271895e-05,7.07521677017 0.385991893709,7.76207208633 m-9.93773877621,-11.7237782478 l0.000206506265386,8.96168291569 m-18.3465611935,-9.96434211731 l-0.000185628632607,10.6795585155 -2.45777398348,4.02374118567 m-7.55468249321,-21.1153125763 l-0.00029374326914,7.01269030571 -2.66168534756,7.33307361603 l-2.35312327743,3.88948827982 m91.7850616856,-21.0595122804 l6.20397806168,-0.608327239752 7.69410073757,1.59439593554 l3.53840202093,1.7097094655 2.88290321827,2.15284407139 l2.30591356754,2.41835460067 4.34479653835,-1.19776628911 l6.72098517418,-3.39925438166 2.68878906965,0.132777225226 l-0.162461195141,7.24181115627 -1.98306828737,2.57390916348 l-5.43326675892,1.56887471676 -3.45884978771,0.545572340488 l-6.10642015934,-1.00117206573 -6.55884623528,-0.315600037575 l-7.02021658421,-2.05008223653 -3.73744279146,-2.2551484406 l-2.3065790534,-3.43893915415 -0.730836167932,-2.50242590904 l0.492873415351,-3.07887911797 0.971894487739,-1.0882665962 l2.15390756726,-4.15002942085 m14.3344295025,15.6921255589 l-0.000279088035313,8.07140350342 m12.8645348549,-3.95209312439 l0.272276904434,7.08012223244 m-14.6553778648,-15.6197464466 l3.49480837584,3.82489442825 -0.000247511034104,5.94558656216 m-5.37234485149,-16.5965139866 l-0.000943380437093,4.28263306618 -0.678491070867,1.38583377004 l-1.89503669739,4.64170366526 -1.11768268049,1.52957394719 l-2.83297032118,1.32088929415 -3.52628707886,-0.727031230927 m77.2795809992,-19.3569771885 l6.10265374184,-0.619939416647 7.29050338268,0.000368861983588 l3.64657074213,1.10863976181 3.11050355434,2.66411989927 l2.79434800148,2.98819899559 1.08971022069,-1.17582730949 l3.25459778309,0.000303622164211 6.33927047253,2.00938522816 l1.21707260609,1.14421874285 -0.194095950574,3.19701075554 l-1.10222779214,2.51600623131 -4.30667847395,5.65705478191 l-15.8400011063,0.000278166644421 -5.31316161156,-2.55930513144 l-10.3238606453,-4.71104264259 -1.75109758973,-1.39753237367 l-1.80249974132,-3.81934911013 0.000262257781287,-4.783616364 l0.683165788651,-1.09084621072 3.11054676771,-1.89701795578 l2.49780192971,-0.344479493797 m3.61384183168,21.5483951569 l0.668023079634,9.84001636505 1.39436870813,2.66185611486 m8.01286995411,-11.8862175941 l0.27029465884,9.93245363235 m22.0450472832,-10.235145092 l-0.275452286005,9.58554446697 m3.28179001808,-8.89176249504 l0.00027207628591,1.63423791528 m-10.6986474991,-18.3696460724 l2.7014824748,1.68626695871 4.36058402061,1.18702575564 l-0.314849168062,6.47711753845 -0.52678912878,1.10388800502 l-0.354149267077,0.000411959372286 -1.40043988824,-0.457806475461 l-1.50753602386,2.0576672256 -1.36930331588,-0.000455987028545 m55.5403281723,-12.6849878726 l6.09599232674,-0.610995925963 8.10917556286,0.287418682128 l2.49310359359,3.89333456755 -0.000298952982121,-1.42905294895 l4.31517481804,-1.54998883605 10.6437885761,3.8421818614 l1.27121075988,2.46753826737 0.29770815745,2.12382346392 l-0.000149658753799,1.14320099354 -1.35515704751,6.15135669708 l-8.47975611687,0.128530422226 -2.61478364468,-2.53853917122 l-4.74701881409,2.24365264177 -7.00603663921,0.000175694076461 l-8.11377286911,-2.84367710352 -1.60435199738,0.138459885493 l-9.99632775784,-6.84589624405 -0.711870789528,-1.62126794457 l1.09882302582,-4.5425927639 2.74868100882,-3.48618477583 l5.81038296223,-3.01626205444 2.96396970749,-0.384550094604 l3.88202995062,0.769061967731 1.23018495739,0.984191671014 m15.5364477634,8.52054357529 l-0.000554454818484,1.29384770989 2.36125290394,2.58405923843 l0.886687412858,10.8427774906 0.285065826029,11.5946233273 m-17.0182406902,-14.7076880932 l-0.000176465164259,5.15945672989 -1.93643525243,7.09955751896 m-11.7117702961,-11.7967748642 l-1.35469689965,1.69190138578 m5.24456202984,-12.8802537918 l1.61817014217,-1.19892463088 0.766919627786,-3.43645006418 l-0.604708082974,-1.33085027337 -3.22825461626,0.000325365617755 m85.744380012,-6.80842267576 l6.2186139822,-0.581688433886 7.63070046902,1.41247674823 l1.34628787637,2.86544173956 4.55089837313,-2.16851055622 l4.5671531558,-0.599808245897 4.80430930853,0.888722911477 l1.33275359869,0.994484573603 0.29151622206,1.20597310364 l1.76389932632,4.44384127855 -1.83161273599,5.20479857922 l-0.11132654734,3.03792625666 0.378913022578,1.14735849202 l-2.79746592045,3.05773228407 -5.23484289646,1.71160399914 l-6.98349237442,1.91546544433 -7.77174293995,-0.87523534894 l-13.1675684452,-5.9678375721 -3.37173491716,-2.4523319304 l-1.76795810461,-6.02307617664 0.168133564293,-3.05895090103 l1.87553137541,-2.8529843688 2.00186043978,-1.42312183976 l2.43276208639,-1.14564597607 1.77481085062,-1.76040396094 l4.67925876379,-0.788394287229 m-15.7453179359,31.2678360939 l-0.583486743271,3.75820577145 -2.72795766592,8.82625937462 m11.0390484333,-7.37330436707 l1.68475106359,9.89538371563 m14.5682299137,-22.7808952332 l3.14232349396,9.27565038204 3.00801813602,5.19004404545 m8.05615067482,-17.1425402164 l0.473051741719,1.95525586605 -1.81001320481,8.54807078838 l-2.5275850296,8.89377355576 -0.70258744061,4.24805700779 m-18.1159067154,-37.9461431503 l1.17463491857,-1.90820336342 2.32052758336,-5.11931061745 l0.0641904957592,-1.51816830039 -0.757702067494,-0.934077501297 l-0.795792117715,-0.000189274996956 -1.76361858845,0.970958918333 l-5.79179346561,2.44564339519 -2.21357420087,2.30598315597 l-0.446580462158,6.68594777584 m74.5951565423,1.29536947615 l6.2516695261,-0.673033744097 9.58816587925,2.21146196127 l1.1837208271,1.46068349481 0.329613946378,-1.61470383406 l3.28329890966,-2.2729486227 9.3418431282,2.26359724998 l5.19835650921,4.78153020144 0.000274911380984,1.23730324209 l-2.58451610804,2.78717011213 -4.45275992155,2.06815421581 l-12.1755707264,0.272102784365 -0.578450411558,-1.46370381117 l-10.4874420166,0.3992664814 -2.00462788343,0.0003002593985 l-0.0574909942225,-5.93679666519 -3.07117640972,-3.9571171999 l-2.2277072072,-0.56544303894 -1.73637658358,-2.08329230547 l0.000492663311888,-2.43358671665 2.62547641993,0.775011405349 l3.15339654684,0.530295744538 m11.9617855549,16.2583208084 l-0.0505778566003,10.7169592381 m7.69774258137,-8.11034917831 l0.000526241710759,8.59305918217 -0.532268173993,0.835527703166 m-4.97316151857,-15.7867789268 l0.14503843151,3.33637982607 -0.355418547988,1.48718252778 m6.32875859737,-2.39168077707 l0.00043731808546,3.01922649145 0.826124772429,9.68194246292 m7.18422830105,-24.3785834312 l6.81010842323,6.82348430157 6.02314829826,2.52094596624 l-6.82420969009,-7.32349872589 -0.229048803449,0.00100935081718 l-1.74111261964,-3.84106814861 -4.92879211903,-3.6599189043 l-5.33221125603,0.000381577192456 -9.19295012951,4.05558288097 l-8.38693857193,-0.000135334485094 -3.43068480492,2.91567623615 m81.0131446483,-12.7560659489 l6.00588321686,-0.594377182424 7.31460511684,0.30911821872 l5.24397671223,2.14791178703 2.91729927063,2.53238797188 l1.11119031906,2.13919997215 0.10105076246,-1.21254362166 l3.84308129549,-1.57066568732 4.45420980453,-1.16710290313 l0.482719838619,-0.648535490036 3.14155548811,8.10002744198 l-1.85401514173,3.71660023928 -10.8967030048,12.1463012695 l-2.66636699438,3.67677271366 -3.55947822332,2.0514844358 l-8.3603566885,-3.09275287691e-05 -16.8004775047,-5.01494348049 l-5.16183435917,-2.33894184232 6.45992696285,-18.7263572216 l-3.1067237258,-6.72824859619 0.502408705652,-4.58599686623 m18.1164503098,10.9851002693 l0.000803580624051,0.109125999734 -2.03431859612,1.6073012352 l-4.29903566837,0.490213185549 m5.41841626167,-0.616396702826 l0.000430959153164,-10.9052300453 -3.55689555407,7.21897900105 l-1.64925813675,4.92611438036 m13.0657124519,-12.2126555443 l1.6007207334,-1.20899118483 5.5695861578,6.79901540279 l-2.55972623825,2.64870524406 -2.18911498785,1.23095683753 m3.32688301802,26.5046024323 l4.03091728687,9.0850174427 5.19688725471,2.48847737908 l1.53155595064,4.62333649397 6.35831177235,-0.000133292242026 m8.01135182381,-17.7154302597 l-0.0681373476982,-5.05592882633 0.408363230526,3.33890616894 l-0.797603800893,2.88941979408 -2.18954727054,2.02265560627 l-3.60911786556,0.875527188182 \" fill=\"none\" stroke=\"black\" stroke-width=\"1\"/></svg>"
      ],
      "text/plain": [
       "<IPython.core.display.SVG object>"
      ]
     },
     "metadata": {},
     "output_type": "display_data"
    }
   ],
   "source": [
    "stroke_list = []\n",
    "for i in range(10):\n",
    "  stroke_list.append([decode(z, draw_mode=False, temperature=0.1*i+0.1), [0, i]])\n",
    "stroke_grid = make_grid_svg(stroke_list)\n",
    "draw_strokes(stroke_grid)"
   ]
  },
  {
   "cell_type": "markdown",
   "metadata": {
    "colab_type": "text",
    "id": "4xiwp3_DFQvB"
   },
   "source": [
    "Latent Space Interpolation Example between $z_0$ and $z_1$"
   ]
  },
  {
   "cell_type": "code",
   "execution_count": 45,
   "metadata": {
    "colab": {
     "base_uri": "https://localhost:8080/",
     "height": 123
    },
    "colab_type": "code",
    "id": "WSX0uvZTFQvD",
    "outputId": "cd67af4e-5ae6-4327-876e-e1385dadbafc"
   },
   "outputs": [
    {
     "data": {
      "image/svg+xml": [
       "<svg baseProfile=\"full\" height=\"89.7367749363\" version=\"1.1\" width=\"129.997123871\" xmlns=\"http://www.w3.org/2000/svg\" xmlns:ev=\"http://www.w3.org/2001/xml-events\" xmlns:xlink=\"http://www.w3.org/1999/xlink\"><defs/><rect fill=\"white\" height=\"89.7367749363\" width=\"129.997123871\" x=\"0\" y=\"0\"/><path d=\"M64.0568762221,25.5872968584 m6.0799241066,-0.58729685843 l8.04027199745,1.55994579196 3.47152918577,1.89116939902 l2.63572394848,2.18754455447 2.11009383202,2.2379411757 l2.87753462791,1.77779227495 5.28723716736,1.50322943926 l5.8264195919,1.67067423463 2.78731673956,1.89781159163 l1.82400211692,3.33088487387 0.000194335370907,5.03156363964 l-2.58984744549,3.14725339413 -8.1864708662,2.72058546543 l-11.3339328766,-0.731228441 -4.82471108437,-1.9706915319 l-7.58717596531,-3.28027665615 -5.89239835739,-3.02591323853 l-2.98301070929,-2.89813280106 -2.08709403872,-3.71179610491 l-0.703151077032,-3.93862038851 1.21033243835,-3.30180943012 l2.74652510881,-2.27940618992 3.45629900694,-1.18665508926 m24.2043638229,13.9297354221 l1.81683599949,1.02970376611 4.29759174585,8.96981418133 l-0.000355129013769,2.26066857576 m-15.4915046692,-3.0757561326 l-0.000210357957258,7.2900301218 -2.0494414866,6.70071303844 m-8.06667327881,-17.8893816471 l-0.409008152783,8.50899040699 -0.811380073428,8.28163266182 m-14.0959298611,-23.1749463081 l0.000237009098782,5.61655282974 -1.81285381317,9.06431078911 l-1.65116220713,3.40675234795 m-5.47477304935,-30.6978178024 l-3.57242226601,-0.58616001159 -6.79526746273,-1.67521446943 l-5.56646943092,0.0487924646586 -2.25922375917,1.1611713469 l-1.90127581358,1.87709778547 -1.58356577158,3.79677832127 l1.81626273843e-05,3.52093845606 3.16805809736,1.68086603284 l7.06805825233,-0.000117784411486 4.95876789093,-2.05672904849 \" fill=\"none\" stroke=\"black\" stroke-width=\"1\"/></svg>"
      ],
      "text/plain": [
       "<IPython.core.display.SVG object>"
      ]
     },
     "metadata": {},
     "output_type": "display_data"
    }
   ],
   "source": [
    "# get a sample drawing from the test set, and render it to .svg\n",
    "z0 = z\n",
    "_ = decode(z0)"
   ]
  },
  {
   "cell_type": "code",
   "execution_count": 46,
   "metadata": {
    "colab": {
     "base_uri": "https://localhost:8080/",
     "height": 194
    },
    "colab_type": "code",
    "id": "jQf99TxOFQvH",
    "outputId": "4265bd5f-8c66-494e-b26e-d3ac874d69bb"
   },
   "outputs": [
    {
     "data": {
      "image/svg+xml": [
       "<svg baseProfile=\"full\" height=\"95.3568060696\" version=\"1.1\" width=\"115.065415837\" xmlns=\"http://www.w3.org/2000/svg\" xmlns:ev=\"http://www.w3.org/2001/xml-events\" xmlns:xlink=\"http://www.w3.org/1999/xlink\"><defs/><rect fill=\"white\" height=\"95.3568060696\" width=\"115.065415837\" x=\"0\" y=\"0\"/><path d=\"M41.7388207093,33.369410336 m0.0,0.0 l1.61988586187,-3.5097527504 2.69980967045,-3.23977172375 l4.85965758562,-1.61988586187 4.58967655897,0.269980989397 l1.34990483522,1.34990483522 0.539961978793,1.07992395759 l0.0,1.61988586187 -0.809942930937,0.539961978793 l-1.34990483522,0.0 1.61988586187,-1.61988586187 l6.47954344749,-1.34990483522 0.809942930937,0.0 l0.0,4.0497148037 0.0,-1.34990483522 l1.34990483522,-1.88986688852 1.88986688852,-0.809942930937 l1.61988586187,0.0 0.809942930937,0.539961978793 l0.809942930937,1.07992395759 0.0,2.42982879281 l0.0,-0.539961978793 2.42982879281,-0.809942930937 l7.01950550079,-0.539961978793 0.809942930937,0.539961978793 l0.539961978793,1.61988586187 0.0,2.15984791517 l-0.539961978793,1.07992395759 0.269980989397,-0.809942930937 l1.34990483522,-0.539961978793 4.31969583035,0.0 l0.809942930937,0.809942930937 0.539961978793,1.61988586187 l0.0,2.9697906971 -1.61988586187,1.61988586187 l0.809942930937,-0.809942930937 0.539961978793,-0.269980989397 l0.269980989397,0.269980989397 1.88986688852,8.36941063404 l0.0,2.9697906971 -1.34990483522,0.809942930937 l-1.88986688852,0.269980989397 -0.539961978793,-0.269980989397 l0.269980989397,-1.88986688852 -0.269980989397,1.07992395759 l-4.58967655897,3.77973377705 -5.9395813942,0.809942930937 l0.539961978793,-1.88986688852 0.0,0.539961978793 l-3.5097527504,1.61988586187 -2.42982879281,0.539961978793 l-3.23977172375,0.0 -0.539961978793,-0.539961978793 l-0.539961978793,-3.23977172375 0.0,0.539961978793 l-0.809942930937,0.809942930937 -2.69980967045,0.809942930937 l-4.85965758562,-0.269980989397 -1.34990483522,-0.809942930937 l0.0,-0.539961978793 0.809942930937,-0.809942930937 l-2.42982879281,0.809942930937 -5.12963891029,0.269980989397 l-4.31969583035,-0.809942930937 -1.88986688852,-1.34990483522 l0.269980989397,-3.23977172375 -0.539961978793,1.61988586187 l-2.42982879281,0.0 -1.61988586187,-1.34990483522 l-1.07992395759,-2.42982879281 0.269980989397,-2.15984791517 l0.539961978793,-0.269980989397 0.269980989397,0.269980989397 l-0.539961978793,0.269980989397 0.0,-0.809942930937 l1.34990483522,-4.0497148037 0.809942930937,-0.809942930937 l0.539961978793,1.07992395759 -0.539961978793,-4.58967655897 l0.809942930937,-2.42982879281 -2.42982879281,-3.23977172375 l-2.15984791517,-0.809942930937 -2.9697906971,0.269980989397 l-4.85965758562,2.42982879281 -2.69980967045,4.31969583035 l0.0,0.809942930937 -1.34990483522,2.9697906971 l0.0,1.34990483522 0.809942930937,2.15984791517 l3.77973377705,1.34990483522 4.0497148037,0.0 l3.5097527504,-0.539961978793 1.61988586187,-1.07992395759 m-9.71931517124,-10.7992386818 l-0.809942930937,1.34990483522 0.0,1.34990483522 l2.15984791517,0.539961978793 2.15984791517,-1.61988586187 l0.0,-2.42982879281 -1.07992395759,-0.809942930937 l-2.15984791517,-0.269980989397 -0.809942930937,2.15984791517 l0.269980989397,1.34990483522 2.42982879281,-0.269980989397 l0.809942930937,-0.809942930937 0.269980989397,-1.07992395759 m15.6588971615,21.8684601784 l0.809942930937,2.15984791517 0.809942930937,5.9395813942 l-2.69980967045,4.85965758562 -1.34990483522,0.809942930937 l-2.9697906971,0.269980989397 -0.809942930937,1.61988586187 l2.42982879281,-0.269980989397 3.77973377705,1.34990483522 l0.0,-1.07992395759 -5.12963891029,0.539961978793 l0.0,-0.539961978793 2.69980967045,-1.07992395759 l0.0,1.34990483522 0.809942930937,-0.809942930937 l0.0,1.34990483522 1.07992395759,-0.809942930937 l0.539961978793,0.809942930937 2.69980967045,0.0 l1.34990483522,0.539961978793 4.31969583035,0.0 l0.0,-1.07992395759 -1.61988586187,-2.9697906971 l-2.69980967045,0.539961978793 0.539961978793,-1.34990483522 l0.0,-3.5097527504 1.07992395759,-2.69980967045 l0.539961978793,-5.3996193409 -1.61988586187,4.85965758562 l-0.539961978793,3.77973377705 1.07992395759,1.34990483522 l0.269980989397,1.34990483522 1.07992395759,1.34990483522 l0.0,0.809942930937 m16.4688396454,-11.0692203045 l-1.61988586187,4.31969583035 -1.61988586187,1.61988586187 l-1.07992395759,2.15984791517 -0.809942930937,5.3996193409 l-0.539961978793,0.539961978793 -0.809942930937,0.0 l-2.15984791517,-1.07992395759 0.269980989397,-1.61988586187 l1.88986688852,-1.88986688852 2.69980967045,-0.539961978793 l0.0,1.61988586187 -0.809942930937,0.809942930937 l-1.07992395759,0.269980989397 0.809942930937,-0.809942930937 l0.809942930937,0.0 -2.15984791517,1.61988586187 l-0.539961978793,0.0 3.5097527504,-1.07992395759 l-0.539961978793,0.809942930937 -1.88986688852,0.809942930937 l12.1491444111,-0.809942930937 1.61988586187,0.539961978793 l0.0,0.539961978793 -11.8791627884,1.61988586187 l-3.5097527504,-0.539961978793 -0.269980989397,-1.07992395759 l2.69980967045,-2.9697906971 4.0497148037,-0.809942930937 l5.66960036755,0.269980989397 0.269980989397,1.07992395759 l-2.42982879281,2.15984791517 -2.42982879281,0.0 l0.539961978793,-1.88986688852 3.5097527504,-1.07992395759 l3.5097527504,0.539961978793 0.539961978793,0.539961978793 l-0.809942930937,1.34990483522 -2.42982879281,0.269980989397 l0.0,-1.61988586187 0.809942930937,-1.34990483522 l0.269980989397,-1.61988586187 0.269980989397,-7.55946755409 l-2.69980967045,5.9395813942 -0.269980989397,-5.3996193409 l-1.07992395759,1.61988586187 -0.539961978793,0.269980989397 l0.0,-0.809942930937 -1.88986688852,5.66960036755 l5.9395813942,4.0497148037 -3.5097527504,-3.77973377705 l-0.269980989397,0.809942930937 1.34990483522,5.12963891029 l0.0,-2.15984791517 -0.809942930937,1.07992395759 l-1.88986688852,1.07992395759 -8.36941063404,-0.269980989397 l-3.5097527504,-0.539961978793 0.0,-1.07992395759 l1.07992395759,-2.15984791517 1.61988586187,-1.07992395759 l1.07992395759,0.0 1.61988586187,1.34990483522 l0.269980989397,1.61988586187 1.61988586187,-3.5097527504 l-1.07992395759,1.07992395759 0.539961978793,-1.07992395759 l2.42982879281,-1.07992395759 0.0,0.539961978793 l-0.809942930937,0.539961978793 4.0497148037,-8.09942960739 l-0.269980989397,-3.77973377705 \" fill=\"none\" stroke=\"black\" stroke-width=\"1\"/></svg>"
      ],
      "text/plain": [
       "<IPython.core.display.SVG object>"
      ]
     },
     "metadata": {},
     "output_type": "display_data"
    },
    {
     "data": {
      "image/svg+xml": [
       "<svg baseProfile=\"full\" height=\"82.0579073464\" version=\"1.1\" width=\"114.01335944\" xmlns=\"http://www.w3.org/2000/svg\" xmlns:ev=\"http://www.w3.org/2001/xml-events\" xmlns:xlink=\"http://www.w3.org/1999/xlink\"><defs/><rect fill=\"white\" height=\"82.0579073464\" width=\"114.01335944\" x=\"0\" y=\"0\"/><path d=\"M34.6012726754,34.4803205113 m1.62705123425,-3.54384064674 l4.22024428844,-3.49763214588 3.33264887333,-0.18786387518 l2.60579138994,1.3362441957 1.59551739693,2.24785149097 l1.35261371732,-2.11475595832 1.26357153058,-0.75712069869 l2.46973156929,-0.36017190665 2.30768531561,0.789563432336 l0.81028662622,0.894464626908 -0.000164482880791,1.53943940997 l0.550890155137,-1.40504226089 1.11371926963,-0.820117518306 l2.10352122784,0.000225775002036 2.00919598341,1.25034809113 l0.611338838935,1.56253486872 0.737517401576,-1.2796767056 l1.19719140232,-0.611401125789 2.09143012762,0.000324872780766 l0.943897217512,0.638419389725 -0.000220711172005,1.62160515785 l0.882644429803,-1.30807891488 1.30970925093,-0.565911754966 l2.48624801636,0.00031043888157 1.31146132946,1.437523067 l-0.199538338929,1.10234238207 0.713043510914,-1.06666788459 l1.25062763691,-0.471920110285 2.65758544207,0.00036228706449 l0.917565301061,0.613586641848 -0.000164529192261,1.45850494504 l0.917284190655,-0.864135622978 2.73702353239,0.000442222881247 l1.95413067937,1.32430285215 -0.000167367361428,1.29012733698 l1.73959776759,0.212270729244 1.63412630558,1.55009761453 l-0.316881537437,1.13327980042 -2.00239792466,1.10788300633 l3.06507527828,1.85734167695 0.160911418498,1.33811339736 l-1.04076899588,0.996368378401 1.29151299596,2.29243710637 l-0.636133849621,1.13025464118 -1.64476931095,0.818941816688 l0.961410328746,2.36788675189 -0.864674523473,1.17292225361 l-2.6986554265,0.925433263183 -0.079778060317,2.80223637819 l-1.27842053771,1.01641826332 -2.45757415891,0.000267058276222 l-2.59757578373,-0.905431956053 -2.44221478701,2.29169011116 l-2.99154192209,0.000132351979119 -2.47937560081,-1.17462955415 l-3.77475559711,1.38917118311 -3.31690728664,0.000316207842843 l-2.51348376274,-1.26671656966 -2.25320860744,0.000527128759131 l-0.810167938471,-0.697588697076 -4.56502616405,0.486108921468 l-2.51534432173,-1.13848559558 -0.765849500895,-1.04394242167 l-3.90402704477,0.584322474897 -0.960164442658,-0.61830278486 l-0.797628164291,-1.96480408311 -3.19481313229,-0.241544879973 l-1.44940793514,-1.72199130058 -0.000339798534696,-1.5886233747 l-1.17443427444,-2.17876985669 -0.000298401228065,-1.83480724692 l1.25552982092,-1.59842073917 -0.548894554377,-1.43516838551 l-1.98321185962e-05,-1.93610742688 0.846736580133,-0.878072828054 l0.501480214298,9.22323488339e-05 m3.00248503685,-0.352014899254 l-0.347340926528,-1.08653083444 -1.51869490743,0.000504138624819 l-0.26894910261,-0.920511335135 -1.55498564243,0.000258712370851 l-0.736017748713,-0.909296050668 -1.61729648709,0.000352199240297 l-0.937044098973,-0.776136294007 -1.64837807417,0.000389731940231 l-0.954259634018,1.00423246622 -1.53248235583,0.000281379489024 l-1.42658606172,1.76454588771 -1.88011273742,0.9891166538 l-1.11750170588,2.34916210175 -1.4732979238,1.06601066887 l-0.852537900209,2.40944549441 -3.13936266139e-05,2.78761416674 l1.095283553,1.17392830551 2.51032829285,6.12188614468e-05 l0.957031175494,0.574743747711 3.87744575739,0.000298910381389 l2.02139824629,0.90614579618 4.05261933804,-7.41510621083e-05 l1.69608592987,-1.18712835014 1.91430389881,0.000153677683556 m-10.1878666878,-11.0523247719 l-1.07090435922,4.74657963423e-05 -6.92599223839e-05,0.916923284531 l0.525011308491,0.00033400949178 0.378830954432,-1.10581897199 l-0.803781375289,0.000242275218625 0.338950157166,0.0692549860105 l0.0156184495427,-0.484037473798 -0.501676462591,0.000140493875733 l-0.000346142151102,0.454466193914 0.554890111089,-0.412264838815 l-0.00032622981962,-0.264502931386 -0.348061993718,-0.0106104998849 l-0.000303714623442,0.340229570866 0.389352925122,-0.418251641095 l-0.000323098392983,-0.100267184898 -0.219594240189,-0.172879714519 l-0.000330649090756,0.309446193278 0.296931620687,-0.361781381071 l-0.434799231589,-0.254310872406 0.0414586439729,0.141530092806 l0.123667595908,-0.272783041 -0.184636898339,-0.140547566116 l-0.000347308559867,0.322887822986 0.331383794546,-0.290916152298 l-0.000322100022458,-0.196285694838 -0.377167314291,-0.18141079694 l0.107197351754,0.146124921739 0.10843006894,-0.345929637551 l-0.275675989687,-0.130765344948 0.0569786177948,-0.018929435173 l-0.0289018219337,-0.219516437501 -0.169071424752,-0.0789223890752 l-0.000298286631732,0.281145107001 0.276371594518,-0.243892222643 l-0.278034601361,-0.406985543668 -0.311757698655,0.000207104858418 l-0.000326989829773,0.402634292841 0.656932815909,0.000213466209971 l-0.00030602728657,-0.627619549632 -0.8641949296,0.000173392145371 l-0.00034075070289,0.566208586097 0.765293240547,0.000170271687239 l-0.208787862211,-0.78721165657 -0.927424952388,8.76102239999e-05 l-0.000334085671057,0.787641555071 0.84676861763,-0.389094129205 l-0.000388072076021,-0.65640129149 -0.922106206417,0.000114048671094 l-0.52610643208,0.953508317471 1.23185403645,-0.224339421839 l-0.210749935359,-0.971596315503 -0.91569416225,0.000115593811643 l-0.538449585438,0.969666242599 1.32597237825,-0.178285744041 l-0.126657448709,-0.932496935129 -1.08170874417,6.20607443125e-05 l-0.570242255926,1.01297751069 1.48520037532,-0.174536556005 l-0.0914256460965,-0.948513746262 -1.10148131847,6.63130504108e-05 l-0.620152726769,0.977644324303 1.57279372215,0.000112811194413 l0.111920647323,-1.05147324502 -1.32373020053,0.000142163544297 l-0.658761411905,1.03847548366 1.59346073866,-0.0108705938328 l0.104923192412,-1.05792507529 -1.29141375422,0.000115913353511 l-0.755365639925,1.02908544242 1.45371720195,0.000109038974188 l0.280456095934,-1.06231510639 -1.18555046618,0.000134745960167 l-0.78978061676,1.05039939284 1.65451616049,-0.0183767988347 l0.284267291427,-1.08482956886 -1.1459928751,0.000111899935291 l-0.830202251673,1.00308850408 1.26568675041,7.30757392375e-05 l0.499596372247,-1.08751654625 -1.18026807904,0.000157691010827 l-0.796172320843,1.01063206792 1.27284362912,5.91502839598e-05 l0.495449192822,-1.09382286668 -1.11652389169,0.0001439524749 l-0.828573778272,1.01505123079 1.32939875126,5.38161521035e-05 l0.607733391225,-1.10206454992 -1.03175826371,0.000124639645946 l-0.792960897088,0.978968068957 1.00266203284,9.07850881049e-05 l0.780422315001,-1.16613671184 -0.935656949878,0.000150226651385 l-0.833085849881,1.01012319326 1.14415071905,7.49472974348e-05 l0.780635103583,-1.15023687482 -0.818927586079,0.000125658662 l-0.87536431849,0.958552062511 1.02546237409,9.11645292945e-05 l0.843901187181,-1.1565361172 -0.583905428648,9.8853952295e-05 l-0.61871688813,0.772823989391 0.811680778861,0.000114863751151 l-0.000391884968849,-0.715475603938 -0.576207265258,0.000155740090122 l-0.000356355521944,0.0232268380933 0.209180004895,5.39133998245e-05 l-0.000283332319668,-0.357833355665 -0.2082192339,0.000141514192364 l0.25642182678,-0.323340557516 -0.127184139565,0.000154784102051 l0.180075857788,-0.411469265819 -0.33065404743,0.000145830890688 l-0.000376069619961,-0.0881529040635 0.0762176979333,9.32363309403e-05 l0.0959278456867,-0.475541912019 -0.132361873984,0.000183851643669 l-0.000390901295759,-0.0418969523162 -0.0341849238612,-0.454472601414 l-0.183794349432,0.00015135618014 -0.000384042323276,-0.0156675023027 l0.0709796464071,-0.482885465026 -0.180042237043,0.000189825059351 l-0.000353075593011,0.0259294291027 -0.000266769984592,-0.0893490388989 l-0.0658404268324,-0.481608211994 -0.233443304896,0.00013863024833 l-0.000387535474147,0.108085023239 0.117740435526,-0.465639084578 l-0.0703568663448,0.000172661639226 -0.0849100388587,8.46488183015e-05 l-0.0118191353977,-0.4401184991 -0.118867522106,0.000147102819028 l0.0561167346314,-0.315946266055 -0.153262997046,-0.281543899328 l-0.023294845596,5.78756316827e-05 -0.00415891932789,-0.336633548141 l-0.0675520300865,0.000111498029582 0.0694800820202,-0.29112406075 l-0.0654190173373,6.48910736345e-05 -0.000310953437292,-0.0720534520224 l-0.139525905252,-0.453660041094 -0.103636058047,0.000116319197332 l-0.000362732826034,0.0321906036697 -0.0530922785401,-0.440104827285 l-0.0352705433033,0.000105815761344 -0.0121937738732,-0.316304899752 l-0.026184937451,4.29166539107e-05 -0.000350838126906,-0.0495016109198 \" fill=\"none\" stroke=\"black\" stroke-width=\"1\"/></svg>"
      ],
      "text/plain": [
       "<IPython.core.display.SVG object>"
      ]
     },
     "metadata": {},
     "output_type": "display_data"
    }
   ],
   "source": [
    "stroke = test_set.random_sample()\n",
    "z1 = encode(stroke)\n",
    "_ = decode(z1)"
   ]
  },
  {
   "cell_type": "markdown",
   "metadata": {
    "colab_type": "text",
    "id": "tDqJR8_eFQvK"
   },
   "source": [
    "Now we interpolate between sheep $z_0$ and sheep $z_1$"
   ]
  },
  {
   "cell_type": "code",
   "execution_count": 47,
   "metadata": {
    "colab": {},
    "colab_type": "code",
    "id": "_YkPNL5SFQvL"
   },
   "outputs": [],
   "source": [
    "z_list = [] # interpolate spherically between z0 and z1\n",
    "N = 10\n",
    "for t in np.linspace(0, 1, N):\n",
    "  z_list.append(slerp(z0, z1, t))"
   ]
  },
  {
   "cell_type": "code",
   "execution_count": 48,
   "metadata": {
    "colab": {},
    "colab_type": "code",
    "id": "UoM-W1tQFQvM"
   },
   "outputs": [],
   "source": [
    "# for every latent vector in z_list, sample a vector image\n",
    "reconstructions = []\n",
    "for i in range(N):\n",
    "  reconstructions.append([decode(z_list[i], draw_mode=False), [0, i]])"
   ]
  },
  {
   "cell_type": "code",
   "execution_count": 49,
   "metadata": {
    "colab": {
     "base_uri": "https://localhost:8080/",
     "height": 122
    },
    "colab_type": "code",
    "id": "mTqmlL6GFQvQ",
    "outputId": "062e015f-29c6-4e77-c6db-e403d5cabd59"
   },
   "outputs": [
    {
     "data": {
      "image/svg+xml": [
       "<svg baseProfile=\"full\" height=\"94.5854009129\" version=\"1.1\" width=\"849.937496832\" xmlns=\"http://www.w3.org/2000/svg\" xmlns:ev=\"http://www.w3.org/2001/xml-events\" xmlns:xlink=\"http://www.w3.org/1999/xlink\"><defs/><rect fill=\"white\" height=\"94.5854009129\" width=\"849.937496832\" x=\"0\" y=\"0\"/><path d=\"M25,25 m0.0,0.0 m45.8616597387,5.99104525521 l6.08653843403,-0.582466460764 8.11904013157,1.69839262962 l3.37198883295,1.85101166368 2.56349533796,2.25255176425 l2.04802766442,2.18806520104 3.15139651299,1.77848681808 l5.65382361412,1.1917629838 6.28128111362,1.4841426909 l2.61926859617,1.65107294917 1.82337075472,3.06046664715 l0.000243778486038,4.61446642876 -2.5810700655,3.24822306633 l-9.03395056725,2.66505211592 -11.7402040958,-1.11504919827 l-4.41743731499,-2.03028142452 -6.77885830402,-3.32800269127 l-5.75360894203,-3.77903342247 -2.58393257856,-3.25752019882 l-1.84849977493,-5.52567303181 0.172763373703,-1.73822268844 l1.96689784527,-2.54359424114 3.35970044136,-1.62549480796 m24.9337506294,12.9527044296 l2.08008140326,0.16750831157 2.13211074471,3.17705571651 l1.92574158311,6.8219357729 0.000609519229329,2.67400562763 m-14.6273314953,-4.4040364027 l-0.00019966137188,7.06883788109 -1.75138011575,7.97798752785 m-12.3476338387,-17.2879743576 l0.000375000563508,9.06234383583 -0.521735139191,7.89050519466 m-14.8384642601,-22.474155426 l0.000246157705988,7.87168741226 -1.73098623753,7.79238820076 l-0.000260522865574,3.51670503616 m-5.27256906033,-31.5209746361 l-0.000236332598433,-0.303362868726 -2.73318380117,-1.53041124344 l-6.63849830627,-2.8806450963 -5.25679051876,-0.471840798855 l-5.13100504875,1.78792849183 -2.33524397016,1.80446669459 l-1.6363888979,2.49784469604 0.00034882545151,4.29133445024 l1.31751418114,2.20316588879 4.90847378969,1.99400618672 l7.3785763979,0.000100003589978 2.56832867861,-0.928029343486 m94.1015232921,-10.0160271642 l6.41151368618,-1.07933796942 7.45562374592,-4.46863714387e-05 l3.77933353186,1.38972908258 2.92662620544,2.10392147303 l2.19977870584,2.34462484717 4.06801015139,-2.54801124334 l6.24251186848,-1.37227639556 3.66329520941,0.779582709074 l2.33153522015,2.49151855707 1.29663825035,3.93512219191 l5.85536236031e-05,4.88748043776 -2.06778988242,2.94132530689 l-4.12089586258,2.20000445843 -6.89177393913,0.000286791564577 l-4.17792052031,-1.57357275486 -5.16882717609,1.8518409133 l-8.42080175877,1.00941382349 -4.24950063229,-1.24041900039 l-3.07188123465,-2.51656264067 -2.41304919124,-3.45319271088 l-4.61206793785,-4.66354638338 -1.36217072606,-3.593762815 l0.153631269932,-1.77407875657 2.0680937171,-2.43147268891 l3.06719601154,-1.24228514731 m23.892185688,13.3988058567 l1.69557541609,0.690900161862 4.50596094131,10.2337002754 l-0.000268344119831,3.50726157427 m-14.2535114288,-9.06047344208 l-0.170128047466,6.74023032188 -1.86757594347,9.6694123745 m-12.0427906513,-19.1258728504 l-1.57414659858,9.57339346409 -2.11875587702,8.95060241222 m-6.2671661377,-25.8138847351 l-2.04521149397,6.71800851822 -3.23672115803,8.42901110649 l-1.96733683348,4.82619166374 -0.944589599967,1.15022264421 m106.774551146,-26.3248931034 l6.48212015629,-1.58295586705 7.25167453289,-1.52513018747e-05 l3.98322433233,1.180357337 2.87245213985,1.80828228593 l2.20060393214,1.97156563401 4.19004440308,-3.04321587086 l4.1230994463,-1.13650403917 3.54377090931,0.441448539495 l2.49483719468,1.96188062429 1.74406334758,3.38235884905 l-6.33269337413e-05,3.72813165188 -1.53169944882,2.90421038866 l-2.78890490532,2.01626226306 -4.19004768133,0.999751538038 l-5.47666013241,0.000223736078624 -3.88844698668,-1.6020770371 l-4.45324569941,1.72149032354 -6.66828215122,1.35588258505 l-4.19341415167,-1.02427273989 -3.11267197132,-2.68754869699 l-2.24716067314,-3.35280448198 -3.94228488207,-0.735789313912 l-2.61156708002,-2.37772539258 -0.18703725189,-4.88424539566 l0.812464952469,-1.42449572682 2.83368110657,-1.58294558525 l3.37853938341,2.1475034373e-05 m23.7705993652,10.9078133106 l1.81888133287,12.4071598053 0.419963486493,8.89927387238 m-12.5536346436,-15.8926820755 l-0.703821405768,2.81713813543 -1.69461607933,12.7307641506 l-1.70628532767,4.10950213671 m-10.912065506,-23.2797598839 l-2.59188950062,9.72922384739 -2.68893480301,8.73710870743 l-2.01235160232,3.86205673218 m-1.72450944781,-32.2782254219 l-1.21223181486,-0.580036900938 -4.31812763214,-2.79524922371 l-5.59198260307,-3.15130412579 -4.10143822432,-1.22892722487 l-4.03441309929,0.796071961522 -2.33564808965,1.56536862254 l-1.82553827763,2.31165632606 -1.25258743763,2.96926617622 l7.224878118e-07,3.86178791523 1.20491214097,2.10329145193 l2.38170892,1.45299300551 5.7272207737,0.000159999999596 l5.72103798389,-1.89184591174 3.28747421503,-2.19462543726 m82.2868160313,-3.94709568322 l6.35345637798,-2.07562282681 7.49724447727,0.465104728937 l3.68343472481,0.250846315175 2.96128869057,1.1227376014 l2.38621219993,1.43276154995 2.05780997872,1.71651810408 l2.61258840561,-1.72367244959 4.03672099113,-1.17061465979 l4.97614443302,-0.109501089901 2.65604287386,1.36516839266 l2.00403630733,2.73729264736 3.31327055392e-05,3.23470026255 l-1.49673312902,2.61714667082 -2.64559000731,1.65519505739 l-3.45266729593,0.000331083792844 -3.45616340637,-1.9505430758 l-2.84380674362,2.81658738852 -4.57342386246,3.37692439556 l-5.08853852749,1.29368841648 -4.42335873842,-1.22908681631 l-3.6557418108,-2.55042552948 -4.47778642178,-4.01450693607 l-5.0105369091,1.43526494503 -4.66799736023,-0.431837700307 l-2.88654565811,-2.60565042496 -1.64425179362,-3.71672719717 l-0.0851204432547,-1.88127741218 1.28283008933,-2.73357689381 l2.42947682738,-2.22237661481 3.02086025476,-1.13405525684 l3.77671509981,0.000225158764806 m21.5573430061,11.4599347115 l2.29561686516,12.5663912296 0.868318751454,4.19126361609 l0.000483274852741,1.61537379026 m-12.0187914371,-13.4981524944 l-0.427418798208,2.47732818127 -1.4074973762,10.9065198898 l-2.018776685,4.28525328636 m-8.01220536232,-20.865316391 l-1.66720092297,10.4233431816 -1.74085944891,4.45098936558 l-2.41792470217,3.22046846151 -3.15077334642,1.73195645213 m87.5305717665,-30.4597510509 l5.98420321941,-2.51217991114 7.04978585243,-0.0483312364668 l3.21471840143,1.40572533011 3.34328770638,-2.56283849478 l3.07687103748,0.000718575247447 2.61696696281,1.01886071265 l2.11845502257,1.79762646556 4.30847972631,-1.85479640961 l2.81881093979,0.000251175333688 2.26386740804,1.35105848312 l1.63247704506,2.27442771196 5.7521265262e-05,1.81906610727 l2.15643242002,0.554031319916 1.79851189256,1.96499317884 l0.847793519497,3.41174304485 0.000180410406756,4.84780609608 l-1.72504737973,2.49620005488 -3.36861640215,1.52561992407 l-4.64745551348,0.00027192343623 -3.50851297379,-1.73371419311 l-4.03663665056,2.22938165069 -5.71187078953,1.65675386786 l-4.92436170578,0.000378504664695 -3.69395285845,-2.00151026249 l-2.73093909025,-2.7029389143 -6.48003041744,1.0877725482 l-5.19780099392,-1.08846485615 -2.54763066769,-2.56957471371 l-1.61814361811,-3.59233051538 1.03657759726,-4.61968690157 l1.55198216438,-2.5431895256 2.07040861249,-1.66771560907 l2.27006271482,5.37776986675e-05 4.00469630957,2.24290773273 m20.1407289505,9.41309332848 l1.3149663806,0.0844342075288 4.40692692995,5.74211776257 l0.000178101236088,4.29230451584 -2.47201278806,4.94692772627 l-3.30959886312,2.41733103991 -4.48297739029,0.608647614717 l-3.98240864277,-1.28786444664 -3.50091934204,-2.99703776836 l-2.08866432309,-4.03215646744 -1.49182602763,-8.02719712257 l0.000213270523091,-1.59144669771 1.8653164804,0.515034869313 l2.64354854822,5.39685964584 1.47448688745,9.38668549061 l-1.36207982898,3.01803380251 -3.73993009329,1.7573979497 l-5.3716146946,0.000966447987594 m-8.46363902092,-21.3476753235 l0.582383573055,3.28280687332 1.11105762422,11.0891449451 l-2.17041403055,4.80784267187 -3.28822761774,2.1717402339 l-5.15180051327,0.000624795502517 m88.9993884968,-31.4405250617 l5.38868367672,-2.89329469204 6.54727399349,-0.557825863361 l3.76105874777,0.518285259604 2.90997624397,-1.35537073016 l2.63767033815,0.000436418085883 2.45565220714,0.903756245971 l1.90533027053,1.58477544785 2.59020835161,-1.46917119622 l3.2360497117,-0.637207105756 2.7354195714,0.000137491560963 l2.26874426007,1.25661686063 1.54224276543,2.10298955441 l7.2777661444e-05,1.98386624455 2.18206062913,-0.187521614134 l2.27276131511,1.09918884933 1.56109780073,2.46373936534 l0.324668958783,3.31607580185 -1.51618093252,2.6995408535 l-3.11817139387,1.98497593403 -1.62697926164,2.88118571043 l-2.96292334795,1.88596412539 -5.38176178932,1.10017582774 l-3.91948014498,-1.13929845393 -2.94231981039,-2.31186285615 l-4.59431171417,1.30622386932 -4.79438900948,0.000226942902373 l-3.4422019124,-1.6302293539 -4.36312168837,-2.99044191837 l-5.51408946514,0.695532634854 -3.98309588432,-1.75905957818 l-2.31044188142,-2.90724158287 -0.76471298933,-4.66005653143 l0.919902697206,-2.85182863474 1.69141113758,-2.07328259945 l2.33871281147,-1.19699575007 2.45905339718,3.94499329559e-05 m16.3286054134,10.4418694973 l0.840401947498,0.0218300754204 3.23979556561,4.55509662628 l2.94034600258,7.70770609379 0.000547400049982,3.45360100269 l-2.52514451742,3.65858972073 -3.51541101933,2.21698269248 l-6.33049845695,1.63368940353 -4.25184458494,-0.830285027623 l-3.11464756727,-2.51003414392 -2.30606421828,-4.04168993235 l-0.515381880105,-4.50378090143 1.35041192174,-8.12137007713 l1.41201257706,-4.03699189425 1.87959626317,-2.82553493977 l3.2933151722,-0.210321415216 3.76337379217,3.06152164936 l3.25640141964,7.48689830303 1.56121760607,9.74822461605 l-0.459570586681,1.36071100831 -1.2663500011,0.774539709091 l-4.19102758169,0.000882030726643 -4.27174419165,-3.18026095629 l-2.45830282569,-5.24868547916 -0.285361167043,-5.67175149918 l0.508163832128,-10.6121528149 1.73523083329,-2.94780224562 l1.05240732431,0.000560092630622 1.97097063065,2.76553928852 l1.73970133066,5.35356402397 0.461727194488,4.98529314995 l-0.987584590912,3.76123517752 -1.03118151426,1.14384591579 l-1.57362177968,0.458157099783 m65.2018019605,-11.2849255043 l4.61601912975,-3.17393660545 6.13330304623,-1.29122182727 l3.70341390371,0.00015162827367 2.41065174341,1.37956321239 l2.60068446398,-1.80014282465 3.17359477282,-0.780220627785 l2.85727888346,0.000141902437463 2.12994128466,1.19298830628 l1.37432068586,2.12762266397 1.39334887266,-1.47781208158 l2.91552215815,-1.2113045156 2.35062688589,0.000145659396367 l2.06099778414,1.43763557076 1.42102092505,2.39767640829 l-7.55985092837e-05,0.723030939698 0.64821690321,-1.01411685348 l2.68370896578,-1.332205832 3.03629428148,0.0102882587817 l2.41258174181,1.84417873621 1.49096518755,3.19012105465 l6.47192337055e-05,4.13809537888 -1.89034819603,2.85120874643 l-3.19943070412,1.31965637207 -0.474143177271,2.73333966732 l-2.15640470386,2.7429947257 -3.59279930592,1.69969275594 l-4.12202090025,0.0376586639322 -3.59090358019,-1.61766439676 l-2.94629871845,-2.40084290504 -4.05680060387,2.6048246026 l-6.30882740021,1.25912502408 -4.02923882008,-1.2421079725 l-3.08898538351,-2.62841939926 -5.47921955585,1.35209187865 l-3.91911745071,0.000254990354733 -3.03875088692,-1.94706022739 l-2.10674911737,-3.18558365107 -0.88787175715,-3.49724441767 l0.713091790676,-2.9927816987 1.70451685786,-2.5560516119 l2.22089663148,-1.63185611367 1.64550021291,0.000195803750103 l2.94378131628,1.39692574739 0.258100423962,0.502440705895 m18.6074721813,6.91374123096 l0.925828069448,-0.428389385343 2.30401992798,0.577136687934 l3.64022731781,1.68382510543 2.58353680372,1.25652685761 l1.76514267921,1.14057816565 0.263452436775,2.41605609655 l-0.94748005271,0.949949324131 -1.91500678658,3.05010053125e-05 l-2.46454402804,-2.03411310911 -0.887289345264,-1.75181403756 l0.108835119754,-1.35641798377 1.68367952108,-1.8797750771 l1.20762221515,-0.472899228334 1.46614342928,2.47768908739 l-0.533594377339,-1.71273991466 0.425154790282,-1.47865325212 l2.38933742046,-1.4261469245 4.76612329483,2.90926516056 l0.697983205318,-0.749628022313 1.5051870048,-1.00337632 l3.28353792429,-0.0958839338273 2.7735042572,1.60728827119 l1.45522072911,2.23402783275 -0.328460372984,-0.119648389518 l1.5724927187,0.233327466995 1.9607450068,1.57830566168 l1.12220935524,2.42917746305 -0.856570824981,0.995579734445 l-1.24152541161,1.16623029113 -0.789538323879,1.5154196322 l-1.03333994746,1.47674560547 -3.90012830496,0.000246745348704 l-1.30703762174,-0.85538841784 -0.649162679911,-1.29577755928 l-0.000143117486004,-1.33456259966 1.10354453325,-1.5828089416 l-2.24453333431e-05,-0.333839654922 m34.1598807822,-16.6864257849 l3.70583772659,-3.37305545807 5.46689212322,-2.08590224385 l3.52148681879,0.000358014731319 2.6874217391,1.47532045841 l2.83843934536,-2.29513660073 3.31028997898,-1.13291047513 l1.6828237474,0.000153952569235 1.91365122795,1.47467300296 l1.11416079104,2.42657020688 1.31024748087,-1.43196105957 l2.78453826904,-1.193671152 2.11238071322,0.000169391951204 l1.84407100081,1.34641930461 1.30356356502,2.46144890785 l1.11039787531,-1.39697819948 2.87570714951,-1.2657815218 l2.27238059044,0.000239239579969 0.997873917222,0.757564380765 l1.11580245197,2.25451692939 -0.00012693147255,1.2197945267 l0.710331425071,-1.06039263308 2.81824588776,-1.13316759467 l2.70452588797,0.00023691163733 2.23973706365,1.80691078305 l1.28726571798,3.2034444809 0.000146431511894,4.05748486519 l-1.790625453,2.53192961216 -3.19722920656,1.38789907098 l-2.19157606363,0.0001811787115 -1.17382660508,-0.828988328576 l-0.337172299623,4.27636414766 -2.12705820799,2.92698979378 l-3.30976963043,1.74904033542 -3.99032592773,0.198992975056 l-3.48527550697,-1.66579544544 -2.48746961355,-2.67080366611 l-1.25842422247,2.08583652973 -2.18942239881,1.75753250718 l-3.90895038843,1.31152436137 -4.34972584248,0.000107138985186 l-3.6854571104,-1.89559623599 -2.62483119965,-2.78435587883 l-1.2434964627,-3.01939189434 -4.54163640738,3.16504061222 l-3.61620038748,0.843406915665 -3.51204276085,-0.974577590823 l-2.57539957762,-2.39091619849 -1.50461733341,-3.44789981842 l-0.0648951437324,-3.4282463789 1.29283070564,-2.50461816788 l2.14643314481,-1.655690521 2.3686337471,-0.866706818342 l1.6223500669,7.96428139438e-05 1.86999112368,0.819116458297 l1.33969783783,0.000236215219047 1.69138386846,-1.00029587746 l3.89196306467,-1.92112654448 2.87499070168,0.00021081925297 l0.860398486257,0.909786298871 1.78652837873,0.246226750314 l0.845669433475,0.926682502031 1.23397886753,0.000161385578394 l0.864153280854,0.793703049421 2.02658116817,1.19976266433e-05 l1.69108197093,-0.904960930347 1.89768105745,-8.08889944892e-05 l1.48297056556,-0.897265598178 1.62759840488,-1.61210579108e-06 l1.47805795074,-0.963757708669 0.856942757964,-1.4555221796 l-0.0993935577571,-1.62359490991 -1.9056327641,-2.43631690741 l-4.05345082283,-2.69043594599 -5.32509922981,-1.68388485909 l-4.85870152712,0.303492564708 -4.07239377499,2.48602762818 l-2.09638953209,2.49648556113 -1.22550174594,2.80848503113 l-0.258270986378,2.7856734395 0.900570079684,2.38514199853 l1.7571477592,2.02058330178 2.14688003063,1.42252713442 m28.6093783379,9.29588854313 l0.560928247869,0.802138969302 1.17718487978,0.812878087163 l2.00133576989,3.90171408653 1.03169538081,6.44280433655 l0.000642327649985,2.67369329929 -2.03819736838,0.588954128325 l-2.82956331968,0.000780247719376 -1.07286006212,-0.900735259056 l-0.000324242646457,-2.49109059572 1.98418572545,-3.25212866068 l-0.453733019531,-7.5780493021 -0.536274202168,-1.13333076239 l5.80519554205e-05,-1.40226006508 -0.000172239524545,-0.904542505741 m-12.0288813114,0.310583952814 l-0.000366799140465,7.64585614204 -1.76825463772,7.28016257286 l-0.801286995411,1.10984191298 -1.35853916407,0.000416259354097 l-1.00856214762,-0.899509638548 -0.857349634171,-3.2700279355 l1.01938292384,-3.76843869686 0.905397832394,-7.09233045578 l-0.514711141586,-0.968092381954 m53.6378062989,-10.7954201812 l2.69304335117,-3.48356455564 4.98015403748,-2.85551697016 l3.39298009872,0.0848455354571 2.48434945941,1.62180155516 l2.36800447106,-2.10744872689 1.43385142088,-0.493000522256 l2.46232897043,7.87728276919e-05 1.88859179616,1.25873953104 l0.73170825839,1.17026180029 1.43446847796,-1.34385943413 l2.80844479799,-0.903707891703 1.92039251328,0.000119755177366 l0.90846568346,0.730197653174 -0.00014841747543,1.81452512741 l0.900388881564,-1.28624543548 1.31523996592,-0.553201027215 l2.6366391778,0.000258170348388 2.06683412194,1.29092693329 l0.738035961986,1.08734622598 -0.000193337218661,0.906530693173 l0.770749300718,-0.996886342764 2.87228226662,-0.947876870632 l2.6255106926,0.000251875135291 1.04652129114,0.654080063105 l1.12122952938,2.0889057219 -1.65841254329e-05,0.922903120518 l2.9031136632,-0.348906368017 2.68746733665,0.930914208293 l1.68953359127,2.16903522611 8.38109917822e-05,1.78392246366 l-1.69305503368,2.00521945953 2.13084891438,2.51124292612 l0.000282461387542,1.96236595511 -1.97230666876,2.08328858018 l0.40547221899,2.8212377429 -1.40050470829,2.3563721776 l-2.8222900629,1.38176351786 -2.58615553379,0.000436835834989 l-1.10322266817,-0.68828523159 -1.75606429577,2.76156425476 l-3.0477425456,1.6118684411 -3.26356947422,0.000283386416413 l-3.01901310682,-1.34942919016 -2.1387784183,-2.12680801749 l-1.61895111203,1.61264762282 -2.6167178154,1.09574668109 l-3.54803621769,0.000279434298136 -3.18066805601,-1.62107646465 l-2.07809954882,-2.36075669527 -1.88376903534,1.40572577715 l-3.58676224947,0.000231484464166 -2.9080966115,-1.46530300379 l-1.86311677098,-2.22378030419 -3.50909143686,0.429821833968 l-2.46690794826,-1.13696329296 -1.62518963218,-2.42494091392 l-0.54404117167,-3.15685212612 1.04358032346,-2.24534958601 l1.89291730523,-1.53746381402 -1.26028895378,-3.29417288303 l0.278407987207,-1.22876830399 1.76543504,-1.42442911863 l1.86129942536,0.000112839388748 m30.09983778,9.0147203207 l0.448928102851,-0.763464421034 1.45537391305,0.000516882391821 l0.000301133040921,0.351258851588 1.25589430332,0.17208468169 l6.85533086653e-05,0.583647862077 1.22370757163,0.3478102386 l2.99992990449e-06,1.02914988995 0.282484348863,0.000117845784189 l0.700690373778,1.557713449 -0.596420839429,0.801422670484 l-0.512518770993,9.73065994003e-06 -0.418616123497,1.35792180896 l-1.50875791907,8.43074485601e-05 -0.71156218648,-0.849421918392 l-0.0533899758011,-0.987415611744 0.671246349812,-0.567210912704 l-0.801497101784,5.61863180337e-05 -1.43765628338,-1.27397939563 l-0.000250039029197,-0.0904151983559 -0.997735783458,-0.789854303002 l-0.19070327282,0.000285510541289 0.0229242257774,-0.197064746171 l-0.508801750839,-0.370311811566 -0.0378624722362,0.000353297109541 l0.305761452764,-0.207419283688 -0.329356007278,-0.41270326823 l0.341831333935,0.00029682105378 0.387430824339,0.00024372657208 l-0.556322187185,-0.456746481359 -0.0658527528867,-0.235044620931 l0.494303703308,0.000275906368188 -0.432464778423,-0.631279349327 l0.588963292539,0.000293491593766 -0.000258610252786,0.41781373322 l-0.164047442377,0.000256724051724 -0.564203932881,-0.85528716445 l0.22408625111,-0.255278125405 0.499628707767,0.000259895386989 l-0.000188549547602,0.0858357362449 -0.83035133779,-0.706028565764 l0.784420594573,0.000463348806079 -0.000273714758805,0.23240275681 l-0.914982631803,-0.77558003366 0.79808421433,0.000466503479402 l-0.000233554728766,0.298529770225 -0.90661033988,-0.756457522511 l0.845522210002,0.000440158037236 -0.000248672604357,0.27004962787 l-0.930271595716,-0.669370293617 0.749757885933,0.000496881875733 l0.518609806895,-0.0652142520994 -0.000177669608092,0.207556392998 l-1.29467189312,-0.715941041708 0.885275378823,0.000492847866553 l-0.000265499202214,0.449407026172 -0.423040837049,0.000128734782265 l-0.760468691587,-0.939134731889 1.0833556205,0.000269487009064 l-0.000218417371798,0.643063932657 -0.590577609837,9.32250623009e-05 l-0.838751941919,-0.998684167862 1.35046496987,0.000283487333945 l0.443881042302,0.780043303967 -0.513294748962,0.000188115063793 l-1.18992246687,-0.97275108099 1.16476200521,0.000338261670549 l-0.000223716051551,0.830035433173 -0.62965720892,7.65030927141e-05 l-0.931474938989,-1.04143120348 0.497040711343,-0.190866906196 l0.944607332349,0.000183929132618 -9.95570917439e-05,0.713102146983 l-0.775230526924,0.00017150059648 -0.966374203563,-0.896092802286 l1.30477264524,0.000277799190371 0.388676933944,0.735098868608 l-0.603549070656,0.00019157276256 -1.11793659627,-0.837446823716 l1.26402288675,0.000278033749055 -0.00022196514692,0.98353639245 l-0.745329037309,4.15791737396e-05 -0.725361332297,-1.03775769472 l1.46866798401,0.00014100426597 0.416438058019,0.800737291574 l-0.701467320323,0.000157552258315 -1.11447550356,-0.889763906598 l1.19307801127,0.000229979614232 0.424626246095,0.746166333556 l-0.517059750855,0.000182305429917 -1.12638548017,-0.812192261219 l1.08336523175,0.000292320873996 0.544419288635,0.738881528378 l-0.496598146856,0.000203304152819 -1.21921911836,-0.844090506434 l0.992200747132,0.000298401355394 0.87572902441,0.68307004869 l-0.233238115907,0.000199725600396 -1.4007923007,-0.727399140596 l0.690922960639,0.000347374443663 1.01694725454,0.512792132795 l-0.214410461485,0.000160098297783 -1.35760739446,-0.637450069189 l0.659716650844,0.000386618812627 0.661785379052,0.39356905967 l-0.175777245313,0.000192563838937 -1.17640338838,-0.573689155281 l0.504043065012,0.00032783143979 1.17211773992,0.349423997104 l-0.155383804813,6.99918882674e-05 -0.753657668829,8.42067674967e-05 l-0.711381211877,-0.563436672091 0.982111543417,0.000177438087121 l0.55656734854,0.45321367681 -0.241377688944,0.000135348309414 l-1.21412120759,-0.565725937486 0.760023593903,0.000282106648228 l0.797304958105,0.329408757389 -0.251172371209,0.000141045902637 l-1.13278910518,-0.557067394257 0.564425736666,0.000268197636615 l0.76239913702,0.258973836899 -0.323724709451,-0.108320368454 l-1.03676579893,-0.490178875625 0.727104023099,0.000270816362899 l0.576099231839,0.285344235599 -0.313676856458,-0.152151249349 l-0.886986926198,-0.406204052269 0.676507502794,0.000219158773689 l0.763206407428,0.240206103772 -0.450467020273,-0.125885643065 l-0.951128527522,-0.451402142644 0.688642039895,0.000240171902988 l0.720008760691,0.287165101618 -0.000140350493893,0.265317689627 l-0.707695409656,0.000122954679682 -0.487589687109,-0.646048262715 l1.10213071108,8.86667385203e-05 0.0848598312587,0.446965768933 l-0.502598248422,6.14654254605e-05 -0.639836117625,-0.679003745317 l0.927495732903,0.00012099635569 0.379375852644,0.432302132249 l-0.357969999313,9.01702333067e-05 -0.728248208761,-0.608907900751 l0.692028775811,8.54075551615e-05 0.454374924302,0.276168975979 l-0.302547067404,7.49076434658e-05 -0.702544674277,-0.581924319267 l0.7440174371,9.32022794586e-05 0.259414128959,0.283331740648 l-0.84823705256,-0.479283705354 0.433306545019,0.000181925279321 l0.468676760793,0.220638215542 -0.239945948124,-0.237428955734 l-0.510243624449,-0.386831313372 0.478073619306,5.90758247654e-06 l0.44820100069,0.235311035067 -0.144699700177,-0.225669350475 l-0.590807050467,-0.370781347156 0.902530625463,0.237079672515 l0.016225798754,0.0935050938278 -0.822762101889,-0.555910877883 l0.704087838531,0.000145590702232 0.333508960903,0.36080121994 l-0.0991505198181,7.08646894054e-05 -0.638043284416,-0.573227293789 l0.464049428701,1.59321291449e-05 0.480698272586,0.272842701524 l-0.279922448099,1.13788814815e-05 -0.549723915756,-0.54098919034 l0.575039163232,-1.08964070478e-05 0.429880954325,0.236003566533 l-0.639147460461,-0.511617511511 0.456149913371,4.67757445222e-05 l-0.00039541580918,0.545615144074 -0.162497833371,-2.3803232807e-06 l-0.40607791394,-0.610512383282 0.864118412137,-3.1940834333e-06 l-0.00684714992531,0.286171715707 -0.270176716149,-1.31103695367e-05 l-0.527982600033,-0.574283786118 0.915362164378,-2.47446996582e-05 l-0.000402930891141,0.410390496254 -0.300534833223,-2.26383872359e-05 l-0.305710937828,-0.606022551656 0.978926941752,-6.23780670139e-05 m50.2473931082,0.202421723625 l1.64221212268,-3.54857057333 4.13860887289,-3.44654917717 l3.58020246029,-0.94013042748 2.9324233532,0.000118296002256 l2.14397773147,1.5933907032 1.0606456548,2.84341692924 l0.000272443903668,0.907604247332 0.459678769112,-1.53404727578 l1.05363816023,-0.957967191935 2.82854914665,-0.995159298182 l2.42180928588,0.000280282929452 0.93210414052,0.678342729807 l0.638274997473,1.05695486069 -0.00013817872059,1.63288369775 l0.516701079905,-1.4953891933 1.1705340445,-0.920229926705 l2.72065281868,0.000251470028161 2.05882415175,1.11712351441 l0.740980282426,1.06888741255 -0.000222975832003,1.21753238142 l0.422002337873,-1.29844471812 1.11226372421,-0.805682092905 l2.72779792547,0.00029691031159 2.23402738571,1.24730706215 l0.787516161799,1.04626730084 -0.000239562268689,0.766391903162 l0.215788632631,-1.0453543812 1.03576876223,-0.775070488453 l3.13948601484,0.000279986943497 1.04310266674,0.612306185067 l1.15297056735,2.03792825341 -4.75386559629e-05,0.464688874781 l0.507435016334,-0.754657015204 1.17142014205,-0.4126406461 l2.81835258007,0.000349831025233 2.28698045015,1.36280298233 l0.77069118619,1.10585168004 -0.000115991642815,1.39940187335 l-1.13094627857,0.841797068715 2.92409896851,0.726635232568 l2.09415718913,1.93858340383 0.707393735647,2.63933360577 l-1.01551234722,1.05963096023 -1.25800982118,0.000341367340297 l2.47144028544,2.54512131214 0.834091827273,2.90647238493 l-1.04339495301,1.12986534834 -2.92545497417,0.927068591118 l-1.24071128666,0.000494408704981 0.925201773643,2.83284842968 l-0.870704203844,1.30424454808 -3.03784310818,1.22598536313 l-2.37826600671,0.000461599083792 -2.52728581429,-1.21887259185 l-1.12585917115,2.47044369578 -2.76628762484,1.5905725956 l-3.19699913263,0.000338118661602 -3.06093454361,-1.29931390285 l-0.896025002003,-0.982013940811 -0.000250283374044,0.134240007028 l-0.918153896928,1.51959881186 -3.30636262894,1.37006148696 l-4.00566995144,0.000317220656143 -3.36593180895,-1.24073840678 l-2.11539059877,-1.91051080823 -0.534453913569,-1.3557228446 l-0.860382169485,1.22158251703 -2.94782459736,1.16941288114 l-3.81303519011,0.000262147041212 -2.96849787235,-1.49889215827 l-1.73062071204,-2.22176671028 -0.444286726415,-1.55741304159 l-2.68039405346,1.27415329218 -3.01179349422,0.000394771595893 l-2.57393121719,-1.50950565934 -1.40522018075,-2.53832697868 l-0.000138984678415,-1.74896910787 1.41957819462,-1.90156906843 l2.23326727748,-0.948998108506 -2.06520482898,-2.96506285667 l-0.436855256557,-1.7631867528 1.03484861553,-1.97033211589 l1.23016960919,-0.833231657743 1.50031864643,0.000248117412411 l1.85722103652e-05,0.0832599028945 -0.215948596597,-1.51939377189 l0.615386627614,-0.99562689662 1.34469866753,0.000104192286017 l-2.81292795989e-05,0.138493664563 0.363447889686,-1.13757483661 l0.645794272423,0.000333530515491 1.12104328309e-05,-0.432344041765 l0.162117686123,0.000211991045944 0.660209879279,-1.16378493607 l0.297638233751,0.000334493306582 0.743287354708,-1.13728359342 l0.193776190281,0.000294846304314 0.723998099566,-1.05932407081 l0.238936636597,0.000292958538921 0.52163861692,-1.02402031422 l-0.115384180099,0.000241437428485 0.360154770315,-1.03414788842 l-0.323109067976,0.000293113371299 0.190717279911,-1.04645982385 l-0.632105767727,0.000261772092927 -0.185293685645,-1.1289588362 l-1.26942649484,0.000292770910164 -0.586708709598,-1.04699522257 l-1.96709305048,0.000176526555151 -0.91294541955,-0.976542085409 l-2.47442752123,0.00019344044631 -1.01453028619,-0.709217861295 l-2.31225967407,0.000341897830367 -0.734825432301,0.620986931026 l-2.01517105103,0.000289652725769 -2.11684450507,1.72609195113 l-2.00618714094,0.000204906482395 -1.37123867869,1.06615096331 l-1.29331827164,0.000240721255977 -0.634584501386,0.710417851806 l-1.09634250402,0.000184812506632 -1.0733679682,1.14442251623 l-0.754731968045,0.000165920337167 -0.896900892258,1.11552663147 l-0.575980506837,0.000159919527505 -5.17727949045e-05,-0.0750527763739 l-0.391945280135,0.742514282465 0.164236221462,0.000134766896736 l-0.935106500983,1.30868256092 3.48934668182e-05,0.586517453194 l0.763642042875,7.43017471905e-05 4.01034867537e-05,0.275503601879 l0.822761282325,4.29023202742e-05 4.85783084514e-05,0.460912510753 l0.822943150997,7.24402070773e-05 -2.49735194302e-05,0.559179671109 l1.08756557107,6.30542535873e-05 -7.56145345804e-05,0.740225762129 l1.30185395479,5.17555645274e-05 -0.000147334149005,0.827398821712 l1.39107003808,7.14613588571e-05 -0.000198531997739,1.06507070363 l1.57139509916,5.31016712557e-05 -0.000228971784964,1.33542969823 l1.90173864365,5.0776320677e-05 -0.000324502325384,1.54614374042 l2.35067278147,1.30682019517e-05 -0.000369036642951,1.75639927387 l2.18363597989,4.14355827161e-05 -0.000429384199379,1.83884039521 l1.94939568639,2.47793741437e-05 -0.000418249328504,1.65845423937 l2.08073422313,-6.16373245066e-05 -0.000459112561657,1.9770078361 l1.94250628352,2.51913934335e-05 -0.000516757754667,1.98311924934 l2.12561920285,-2.39472979047e-05 -0.000518095839652,2.40632519126 l1.71066477895,6.85380928189e-05 -0.000480450507894,2.29780673981 l1.82864382863,5.66293374504e-05 0.0005085948942,3.02598148584 l1.86627581716,0.00025529307095 -0.000485165073769,1.80909797549 l1.88214465976,9.24840605876e-06 -0.000438770475739,1.32280409336 l1.95753753185,-0.000136772669066 -0.000313837263093,0.825212523341 l1.81376695633,-0.000218399018195 -0.000218842251343,0.853149294853 l1.72815009952,-0.000253223861364 -0.00021199855837,0.442515425384 l1.4001095295,-0.000240419376496 -0.000151542499225,0.532461367548 l1.43426656723,-0.000203941926884 -0.000130223661472,0.508407913148 l1.26745447516,-0.000218870445678 -0.000107294144982,0.405015870929 l1.19865007699,-0.00017115382434 -7.86955388321e-05,0.645142421126 l1.23320169747,-0.000142809558383 -0.000130528251248,0.280363056809 l0.845765918493,-0.000196252767637 -4.00205044571e-05,0.471223257482 l1.36941000819,-9.58737018664e-05 -0.000174457636604,0.177264455706 l1.21624484658,-0.00015608376998 -0.000159379287652,0.171956252307 l0.798764154315,-0.000138718223752 -9.38948323892e-05,0.244662985206 l0.893616527319,-9.97288952931e-05 -9.0935955086e-05,0.244287140667 l1.01425953209,-7.5461648521e-05 -0.000122193396237,0.00731870532036 l0.737472847104,-6.631319593e-05 -6.24951780992e-05,0.0343411415815 l0.521312281489,-2.65728658633e-05 -7.62729087e-05,-0.167509038001 l0.592035613954,4.50815468866e-05 -6.85343911755e-05,-0.138674415648 l0.354002043605,3.53558402821e-05 1.18311107159,3.91622597817e-05 l-5.78967046749e-05,-0.546429082751 0.22661736235,0.000197036279133 l0.526028983295,0.000105240169432 3.26272083839e-05,-0.665472894907 l0.0545073859394,0.000226571901294 0.383934266865,8.57548275235e-05 l1.68149472302e-05,-0.389820374548 -0.163229573518,0.000192936477106 l-7.41985149944e-05,-0.650683194399 -0.160665865988,0.000133404319058 l0.430777817965,-0.882489010692 0.0966299511492,0.000158395068866 l-2.17974420735e-07,-0.393312722445 -0.323443934321,-2.70208875008e-05 l-4.13591351389e-05,-0.22019578144 -0.39208881557,-1.21279799714e-05 l-1.36380765525e-05,-0.328560769558 -0.294912066311,1.6303515622e-05 l0.536337569356,-0.502408444881 0.0621596956626,0.000109914044515 l0.15109244734,-0.469168014824 -0.390056185424,6.32968658465e-05 l-5.24108600075e-05,0.11126707308 -0.0231791683473,1.86501040389e-05 l-4.33314016846e-05,-0.190063752234 -0.000119600081234,-0.013397479197 l0.195377152413,-0.497180558741 -0.344384238124,0.000108937174446 l-8.3587701738e-05,0.0982724223286 -0.00850097334478,1.68480664797e-05 l-9.25069707591e-05,-0.107032200322 -0.000157299673447,-0.071976413019 l-0.000149746228999,-0.111485924572 -0.00016585634512,-0.114890169352 l-0.187940821052,4.49180834039e-05 -0.000171136543941,-0.089065618813 l-0.0191331433598,3.63345952792e-05 -0.000164188750205,-0.0962899904698 l-0.138779245317,-0.507396012545 -0.0909363199025,6.51694290354e-05 l0.105138523504,1.99443661586e-05 -0.129492776468,-0.561784654856 l-0.175039060414,6.54318773741e-05 -0.000252346471825,0.146343633533 l-0.158317442983,-2.01783450393e-05 -0.000219512712647,-0.0699726678431 l-0.000190609553101,0.00874473364092 -0.00020566614694,-0.0366634456441 \" fill=\"none\" stroke=\"black\" stroke-width=\"1\"/></svg>"
      ],
      "text/plain": [
       "<IPython.core.display.SVG object>"
      ]
     },
     "metadata": {},
     "output_type": "display_data"
    }
   ],
   "source": [
    "stroke_grid = make_grid_svg(reconstructions)\n",
    "draw_strokes(stroke_grid)"
   ]
  },
  {
   "cell_type": "markdown",
   "metadata": {
    "colab_type": "text",
    "id": "vFwPna6uFQvS"
   },
   "source": [
    "Let's load the Flamingo Model, and try Unconditional (Decoder-Only) Generation"
   ]
  },
  {
   "cell_type": "code",
   "execution_count": 50,
   "metadata": {
    "colab": {},
    "colab_type": "code",
    "id": "HH-YclgNFQvT"
   },
   "outputs": [],
   "source": [
    "model_dir = '/tmp/sketch_rnn/models/flamingo/lstm_uncond'"
   ]
  },
  {
   "cell_type": "code",
   "execution_count": 51,
   "metadata": {
    "colab": {},
    "colab_type": "code",
    "id": "-Znvy3KxFQvU"
   },
   "outputs": [],
   "source": [
    "[hps_model, eval_hps_model, sample_hps_model] = load_model_compatible(model_dir)"
   ]
  },
  {
   "cell_type": "code",
   "execution_count": 52,
   "metadata": {
    "colab": {
     "base_uri": "https://localhost:8080/",
     "height": 221
    },
    "colab_type": "code",
    "id": "cqDNK1cYFQvZ",
    "outputId": "d346d57c-f51a-4286-ba55-705bc27d4d0d"
   },
   "outputs": [
    {
     "name": "stdout",
     "output_type": "stream",
     "text": [
      "INFO:tensorflow:Model using gpu.\n",
      "INFO:tensorflow:Input dropout mode = False.\n",
      "INFO:tensorflow:Output dropout mode = False.\n",
      "INFO:tensorflow:Recurrent dropout mode = False.\n",
      "INFO:tensorflow:Model using gpu.\n",
      "INFO:tensorflow:Input dropout mode = 0.\n",
      "INFO:tensorflow:Output dropout mode = 0.\n",
      "INFO:tensorflow:Recurrent dropout mode = 0.\n",
      "INFO:tensorflow:Model using gpu.\n",
      "INFO:tensorflow:Input dropout mode = 0.\n",
      "INFO:tensorflow:Output dropout mode = 0.\n",
      "INFO:tensorflow:Recurrent dropout mode = 0.\n"
     ]
    }
   ],
   "source": [
    "# construct the sketch-rnn model here:\n",
    "reset_graph()\n",
    "model = Model(hps_model)\n",
    "eval_model = Model(eval_hps_model, reuse=True)\n",
    "sample_model = Model(sample_hps_model, reuse=True)"
   ]
  },
  {
   "cell_type": "code",
   "execution_count": 53,
   "metadata": {
    "colab": {},
    "colab_type": "code",
    "id": "7wzerSI6FQvd"
   },
   "outputs": [],
   "source": [
    "sess = tf.InteractiveSession()\n",
    "sess.run(tf.global_variables_initializer())"
   ]
  },
  {
   "cell_type": "code",
   "execution_count": 54,
   "metadata": {
    "colab": {
     "base_uri": "https://localhost:8080/",
     "height": 51
    },
    "colab_type": "code",
    "id": "6mzk8KjOFQvf",
    "outputId": "c450a6c6-22ee-4a58-8451-443462b42d58"
   },
   "outputs": [
    {
     "name": "stdout",
     "output_type": "stream",
     "text": [
      "INFO:tensorflow:Loading model /tmp/sketch_rnn/models/flamingo/lstm_uncond/vector.\n",
      "INFO:tensorflow:Restoring parameters from /tmp/sketch_rnn/models/flamingo/lstm_uncond/vector\n"
     ]
    }
   ],
   "source": [
    "# loads the weights from checkpoint into our model\n",
    "load_checkpoint(sess, model_dir)"
   ]
  },
  {
   "cell_type": "code",
   "execution_count": 55,
   "metadata": {
    "colab": {},
    "colab_type": "code",
    "id": "X88CgcyuFQvh"
   },
   "outputs": [],
   "source": [
    "# randomly unconditionally generate 10 examples\n",
    "N = 10\n",
    "reconstructions = []\n",
    "for i in range(N):\n",
    "  reconstructions.append([decode(temperature=0.5, draw_mode=False), [0, i]])"
   ]
  },
  {
   "cell_type": "code",
   "execution_count": 56,
   "metadata": {
    "colab": {
     "base_uri": "https://localhost:8080/",
     "height": 149
    },
    "colab_type": "code",
    "id": "k57REtd_FQvj",
    "outputId": "8bd69652-9d1d-475e-fc64-f205cf6b9ed1"
   },
   "outputs": [
    {
     "data": {
      "image/svg+xml": [
       "<svg baseProfile=\"full\" height=\"123.095721957\" version=\"1.1\" width=\"830.231636292\" xmlns=\"http://www.w3.org/2000/svg\" xmlns:ev=\"http://www.w3.org/2001/xml-events\" xmlns:xlink=\"http://www.w3.org/1999/xlink\"><defs/><rect fill=\"white\" height=\"123.095721957\" width=\"830.231636292\" x=\"0\" y=\"0\"/><path d=\"M25,35.763468002 m0.0,0.0 m42.9667571152,17.533115708 l-1.05534978211,0.903979167342 -2.71203935146,0.682088956237 l-1.46481245756,0.677104368806 -6.62953019142,3.13823610544 l-1.3932017982,0.671745985746 -3.26508283615,2.23805114627 l-0.796563476324,0.863587632775 -0.595400482416,1.45813524723 l-0.00997240305878,1.16775885224 0.516806840897,1.07945583761 l1.21768921614,1.15506365895 3.24842303991,1.02176398039 l3.07234823704,0.167754255235 2.88897007704,-0.542777553201 l2.81741350889,-1.21533505619 1.59579858184,-1.04683406651 l2.42521926761,-2.23693072796 2.41812765598,-4.16531026363 l0.302321147174,-2.99016475677 -0.29605826363,-1.10382847488 l-0.869231298566,-1.27746298909 -1.20055928826,-0.90824522078 l-1.4393158257,-0.460883714259 -0.977816730738,-0.00010452299648 m-8.21101605892,15.4238808155 l-0.0933245010674,10.8128809929 -1.0900862515,11.4305996895 l-2.7635884285,0.751873329282 m8.12197804451,-24.0178751945 l-0.0817187409848,4.07898724079 0.366795808077,3.38508576155 l-0.457810498774,0.969087481499 -7.66089618206,5.71508467197 l-2.1950262785,1.31461679935 m12.7501225471,-27.3322439194 l1.1981227994,-1.27396062016 0.911767929792,-1.7938067019 l1.0989895463,-3.83379310369 0.98397411406,-9.29642915726 l0.592227689922,-4.78627562523 0.734828263521,-1.08227983117 l0.945848748088,-0.558509491384 1.76276400685,-0.138126742095 l2.2832582891,0.700426623225 1.31918609142,0.90209916234 l1.49402871728,1.57832562923 0.069129941985,0.738872289658 l-0.859211608768,0.737805962563 -3.71464937925,0.853326320648 l-2.04774290323,0.0661375420168 -2.26745888591,0.348153598607 l-1.42746418715,1.28704577684 -0.900219082832,1.63672462106 l-1.36500120163,6.45879566669 m-2.36967951059,12.6212191582 l-0.643828287721,1.25910356641 2.29938493135e-06,6.39107108116 l0.585725940764,4.87534970045 0.756977424026,2.95741707087 l1.02545492351,2.77938514948 0.324177145958,1.69530048966 l0.861130356789,2.14697286487 0.482735596597,0.624455064535 l-0.302133429796,0.305668711662 -1.5991486609,-0.300355311483 l-1.15984022617,-0.662606805563 -1.76090538502,-0.586322434247 l-3.20229500532,-1.08148515224 -0.891696885228,-0.914137512445 l-0.299704708159,-0.600770674646 0.491717085242,2.80558913946 l0.210686605424,-0.46865388751 0.0214176997542,-1.84781238437 l-0.760960280895,-0.759866759181 -0.521327480674,0.000233711434703 l-1.00448772311,0.641740709543 1.27472817898,1.36540308595 l1.08884654939,0.519073978066 1.47330373526,0.000120390459415 l0.860140994191,-0.488095395267 0.920247137547,-1.36223569512 l-0.230826176703,-3.15868675709 -0.630769655108,-1.13267712295 l-1.39104858041,-0.959273576736 -2.63290315866,-1.16487465799 l-1.39495924115,-0.244500637054 m87.8200800682,-42.647297246 l-0.693691521883,-0.477233380079 -2.18755349517,0.0136288022622 l-1.60726293921,0.276918448508 -1.23565077782,0.589829683304 l-1.9120451808,1.53552040458 -1.81099772453,2.56156176329 l-0.403658375144,1.39756768942 2.69726456281e-05,2.657571733 l0.727611035109,1.75812602043 1.71337634325,1.47307619452 l0.875726565719,0.382829345763 1.68576151133,0.295883752406 l2.25996434689,-0.287863519043 2.11688995361,-0.944384261966 l1.41153082252,-1.10742621124 1.07346601784,-1.32035940886 l0.352393426001,-0.756937265396 0.468805097044,-1.5706487 l0.351994000375,-3.03777992725 -0.359949581325,-3.04445415735 l-0.628599599004,-1.61856666207 -1.76877215505,-2.30164170265 l-1.11729949713,-0.775898769498 -2.00281605124,0.0326760625467 m-5.76503455639,7.87441849709 l-1.47002249956,-0.0305430754088 -5.72364330292,-0.769946053624 l-4.1632682085,-0.707381442189 -0.282802674919,0.000174601264007 l0.226200129837,0.21247163415 1.09839349985,0.618793405592 l1.84779331088,0.306356381625 3.62204611301,-0.0921889673918 l1.7971521616,-0.205630399287 1.84805497527,-0.0824557710439 m6.06399595737,8.80418002605 l-0.154510829598,4.87937688828 0.314247310162,2.94761836529 l0.0123479648028,4.41490620375 0.648101940751,5.50862967968 l0.363680124283,1.14021331072 1.5320815146,3.41319978237 l1.59543126822,2.17607483268 1.61762461066,1.39984667301 l2.73804545403,1.49372071028 3.63176703453,0.794959142804 l3.07154595852,0.0665642833337 2.03562363982,-0.361089259386 l3.76343697309,-1.41256928444 1.83624044061,-1.1266181618 l1.77985161543,-1.61667838693 1.00341454148,-1.56771287322 l0.870243385434,-2.3937626183 0.313639566302,-2.00052633882 l-0.0378551334143,-1.13336898386 -0.672497749329,-1.46454676986 l-0.922344103456,-0.973475575447 -3.36925834417,-1.39534398913 l-9.60466682911,-1.83087721467 -3.3636790514,-0.196918863803 l-2.1155500412,0.0817108247429 -1.81772515178,0.431476719677 l-0.789361521602,0.468617528677 -0.791191980243,0.897071287036 m10.3798651695,16.1915314198 l0.348806194961,6.0656195879 -0.120488554239,10.2522110939 l0.419999696314,4.50814723969 -0.00333535892423,1.34558334947 l0.474689602852,1.69252797961 -0.931469649076,-0.385996773839 l-3.79494816065,-1.0806376487 1.05543509126,0.702947154641 l2.25973844528,0.494543612003 -1.5968850255,0.00982786063105 l-0.167694184929,0.211178511381 2.38530427217,-0.0676174229011 l-1.04553595185,-0.435130931437 0.541880354285,0.357927568257 l0.312794484198,-0.334231667221 0.0875005312264,0.329952798784 m56.9712478283,-31.5823523796 l0.655770972371,0.32424647361 2.77149498463,1.71990901232 l1.3446393609,0.347895585001 5.26093423367,0.172266624868 l2.1434609592,-0.463752225041 2.8272664547,-1.4905269444 l3.24151337147,-3.40343862772 0.587051399052,-1.58214062452 l0.0510138599202,-1.77133113146 -0.506849698722,-2.1408444643 l-1.36897578835,-3.04690510035 -1.30315348506,-3.55148643255 l-0.57791877538,-2.25916087627 1.91342920065,-6.1073744297 l2.35125884414,-3.69600921869 1.55179649591,-1.31602749228 l1.12867809832,-0.28423005715 2.01052889228,0.258764531463 l1.95289999247,0.727036073804 2.01127618551,1.29261538386 l0.643749684095,0.691433921456 1.27080470324,2.67743349075 l0.311083309352,0.0902876071632 0.109402341768,-0.945853292942 l-0.171848498285,-0.159763172269 -0.400728583336,0.0572682823986 l-0.849205777049,-0.919628292322 -1.21453873813,-1.66722416878 l-1.16372361779,-1.0543576628 -3.79275947809,-0.771132707596 l-3.35384845734,0.993789583445 -1.81800365448,1.42450019717 l-0.702604725957,1.1926394701 -0.292748715729,0.827207639813 l0.000169013601408,3.3441105485 0.434251874685,2.62335449457 l0.806631296873,2.7580460906 0.883690938354,6.81281507015 l0.120107205585,3.81218850613 -1.13313734531,2.21821427345 l-2.01148852706,2.24660769105 -1.40909180045,0.822045952082 l-1.54988884926,0.546864308417 -1.62591889501,0.233736727387 l-2.70440101624,-7.47513649912e-05 -3.49882572889,-0.77488578856 l-1.50251701474,-0.6390799582 m5.22273898125,1.28926128149 l0.332138761878,6.65124297142 0.338215976954,10.2273011208 l0.000193178275367,1.13397486508 0.284944176674,1.00247636437 l0.135853998363,1.68346077204 0.302282646298,0.945882499218 l2.35272750258,1.11474499106 2.41886794567,0.774621963501 l0.627437755466,0.0609878404066 m-7.93968617916,-23.6065125465 l0.000159969749802,8.27699780464 -0.708118975163,4.91854697466 l-0.63101708889,3.8151884079 0.0169880653266,0.194335896522 l2.60150194168,0.678934380412 3.59516501427,0.687351003289 m75.2924818903,-18.9209929883 l-0.0336434249766,1.66163057089 0.489684268832,3.39143723249 l2.11224630475,6.81335985661 1.25435933471,8.46593081951 l0.0800384581089,4.24993902445 m2.58316367865,-25.484058857 l0.000232798538491,8.29750776291 1.89827725291,14.6943616867 l0.370749607682,3.22775095701 m-6.3137358427,-25.7221364975 l0.300295874476,-0.269177593291 2.73935973644,-3.1258931756 l0.768486186862,-1.21856257319 0.795649290085,-2.36488029361 l0.498611740768,-2.50127077103 1.38772327318e-05,-4.34246718884 l-0.660762712359,-1.92097127438 -0.670033842325,-1.0244499892 l-0.775142088532,-0.835193768144 -0.898436456919,-0.527637042105 l-1.0313269496,-0.25405343622 -1.46987318993,0.176183618605 l-2.56109774113,1.05501696467 -2.77855843306,1.78352832794 l-1.2514333427,1.11605942249 -1.08737275004,1.46321073174 l-0.993886739016,2.35923618078 -0.437936894596,2.17949017882 l-0.0347677897662,1.67872697115 0.143625130877,1.80094793439 l0.483283251524,2.25540190935 0.805846527219,1.85330733657 l1.09748892486,1.53281852603 1.52116313577,1.30380868912 l0.815946608782,0.368488766253 2.03924372792,0.035643344745 l1.02219209075,-0.179960150272 1.22770808637,-0.623378679156 m3.79774600267,-18.2112216949 l1.49568766356,1.22089698911 2.57486075163,3.52286100388 l1.706469208,2.7560544014 2.41109728813,3.63107264042 l0.566197223961,1.09690137208 -0.393489636481,0.375377014279 l-1.87393650413,0.0221839500591 -3.19086045027,-0.469111017883 l-6.50392770767,-2.53285974264 -0.539108216763,-0.544820725918 m1.86178654432,-10.2023613453 l-0.33613935113,-0.882389768958 0.0628058798611,-2.01145380735 l0.587161257863,-2.02720716596 0.946807712317,-1.70387461782 l1.8994012475,-2.1589051187 1.46569639444,-0.828672349453 l1.3975828886,-0.552760660648 1.75756528974,-0.203108321875 l2.77240842581,0.65086722374 1.41686335206,0.956467464566 l1.86743795872,2.27892801166 0.349586196244,1.04759573936 l0.0746330711991,1.21658608317 -0.190731752664,1.0673198849 l-0.421444289386,0.884954035282 -3.37883621454,1.39773443341 l-3.36690813303,0.221239700913 -4.21099334955,-0.877987444401 l-1.30942583084,-0.6364582479 m8.1417042017,-1.88036814332 l2.06859260798,1.54591560364 5.86178600788,5.54371953011 l-1.52668505907,-0.671100020409 -1.58494859934,-1.09772533178 l-2.68188387156,-2.1458683908 -2.8612396121,-2.74213910103 l-1.18440583348,-0.890184789896 m83.8362478482,17.4343436431 l-0.847854167223,1.25142470002 -1.1028932035,3.16275537014 l-1.57694682479,7.62637257576 -0.711476132274,7.44398295879 l-0.000129581449073,3.57776731253 -0.385217145085,2.31757640839 l-0.00012483208593,2.99139708281 -0.445313751698,2.52266466618 l0.198824033141,2.45402887464 m13.3203518391,-32.1017694473 l-0.665239617229,1.73645496368 -0.492368452251,2.80589878559 l9.34349372983e-05,6.0209017992 0.578360520303,7.31365084648 l-0.0894377846271,8.47779035568 -0.994137376547,4.77318912745 l-0.381665565073,0.76072640717 -0.567030906677,0.436065383255 m-5.53383350372,-0.362197309732 l1.32045522332,0.158473774791 1.61997318268,0.699122324586 l0.838252753019,1.05538740754 m-5.38612246513,-2.07297459245 l-0.0965265370905,2.04872429371 0.708597823977,2.95087575912 l0.587477833033,0.963674336672 0.537733845413,0.180600583553 m-1.99573323131,-6.14109396935 l-1.41359448433,1.85563012958 -0.605230629444,1.37290418148 l-1.0311383754,1.29553347826 m5.51578938961,-5.03829658031 l0.415756702423,2.96790421009 0.609662234783,1.50843977928 l0.645455494523,0.915277153254 m1.27285733819,-4.73494470119 l2.10728019476,1.62409558892 1.11821644008,1.35443285108 l0.65767839551,0.413925834 0.458800159395,0.0562907615677 m0.118313757703,-37.0997262001 l0.338217876852,-6.28570387562e-05 0.42383261025,0.624352842569 l1.9130936265,1.40702039003 1.61215886474,1.89100384712 l1.90552592278,1.56795740128 2.94587671757,1.64140835404 l0.247165504843,0.389634072781 -1.16900987923,-0.243264902383 l-3.10850739479,-1.31569296122 -2.63879299164,-0.580174252391 l-2.69635528326,-0.305521581322 -4.30156350136,0.0495983986184 l-3.16507548094,0.57758256793 -1.77597343922,0.644526332617 l-2.10210993886,1.710973382 -0.644389539957,0.336456485093 l0.000118639427455,0.254779029638 -0.129221612588,-1.50346800685 l0.170864984393,-1.75888776779 -0.437633767724,-0.8675570786 l-1.01303979754,-1.69393882155 -0.554141812027,-0.878403633833 l-0.568905845284,-0.90611808002 -0.483419522643,-1.05888240039 l-0.985310450196,-1.90419107676 -1.9106271863,-5.82002162933 l-0.417626053095,-3.7005084753 -7.69253438193e-05,-2.37261876464 l-0.314238704741,-1.99683070183 -0.932576656342,-3.29256653786 l-0.896923914552,-1.54653593898 -1.10439307988,-1.03000164032 l-4.04544919729,-1.64158731699 -2.6170578599,-0.228507369757 l-1.95614591241,-1.25426322222 -2.1136713028,-0.461786128581 l-2.25503385067,0.41517931968 -1.86572551727,1.38057336211 l-0.945571288466,1.13886572421 -0.667712464929,1.62539944053 l-0.326355211437,3.16451191902 0.111270397902,2.31646642089 l0.548522882164,1.54075399041 -0.877302512527,-0.308992695063 l-1.32883861661,-1.01022154093 -1.11264921725,-1.22377701104 l-0.905140042305,-1.10288262367 -1.0660161078,-1.56928911805 l-0.723367184401,-1.89552560449 -0.209566596895,-2.21618890762 l0.613073818386,-2.69684582949 2.03223884106,-3.07251751423 l1.66331663728,-1.5147022903 1.67573690414,-1.04636117816 l1.62391081452,-0.612992532551 3.86229038239,-0.557386316359 l2.45169848204,0.159658957273 4.73718464375,1.85289219022 l2.05012008548,1.22737236321 1.47239804268,1.52378514409 l0.917334109545,1.38447090983 1.75522178411,3.6494165659 l1.74912020564,5.23963153362 4.70773845911,10.0615048409 m69.8264007642,-0.739722073902 l-0.908135846257,0.444364957511 -2.66085743904,2.20802098513 l-3.44567447901,4.25571173429 -3.59034389257,5.58037281036 l-0.993858575821,1.93324744701 -0.436311289668,1.37604624033 l0.168105699122,1.06559343636 0.480507090688,0.609210133553 l1.63255095482,0.789665356278 1.72992542386,0.258501823992 l6.10023021698,-0.795310214162 2.72155970335,-0.932262018323 l3.88033241034,-1.82545363903 4.1354316473,-2.93445914984 l1.86520770192,-2.2394695878 0.917646810412,-1.50945067406 l0.70198751986,-2.07958176732 0.225586425513,-2.39834234118 l-0.55961471051,-3.29933702946 -0.661499872804,-1.27542048693 l-1.65315076709,-1.79176717997 -2.08365082741,-0.922115966678 l-1.92512691021,-0.282163098454 -3.73890638351,0.257096048445 l-2.82115697861,0.599294528365 -2.27247431874,0.96182346344 l-1.09328866005,0.708544775844 -1.05689786375,1.18958637118 m7.9731464386,2.791647017 l-0.605795308948,-2.27285042405 -0.446430668235,-7.20528423786 l0.162438042462,-8.07439208031 0.695491954684,-3.85336756706 l0.859047323465,-2.3418700695 1.16709828377,-1.73315420747 l0.94973616302,-0.931921377778 2.09393039346,-1.2862379849 l2.50273108482,-0.337589904666 1.78008407354,0.286826640368 l1.48704648018,0.580497644842 1.27429544926,0.892088711262 l1.25623911619,1.42970815301 1.25426530838,2.8120931983 l0.218060724437,1.35701179504 -0.225433949381,2.29004725814 l-0.746856257319,1.83049455285 -1.01962566376,1.52618288994 l-2.64429479837,3.33891570568 -3.6111164093,3.46056848764 l-2.16350510716,1.07545144856 -1.26256942749,0.923649519682 l-1.41644522548,0.589012950659 m9.23076748848,-18.5235202312 l1.30010992289,-0.363984443247 2.13751763105,0.113483238965 l2.83917248249,0.814237520099 2.08480149508,1.06765307486 l0.969559177756,1.14522397518 0.422199964523,1.23352460563 l-0.252591241151,1.01920373738 -0.849105641246,0.88890388608 l-2.21557363868,1.07770219445 -5.68869054317,0.906787216663 l-2.32161179185,0.141578549519 -1.96627110243,-0.291936155409 l-0.639801174402,-0.565344728529 m-6.80686712265,33.8185977936 l-0.587417818606,2.15563058853 -0.657683983445,7.54871308804 l-0.456334799528,3.33198547363 -0.54720852524,2.42404997349 l-1.8362750113,6.26409053802 -0.28728524223,2.1805934608 l-0.494016893208,1.46928489208 0.00581101921853,0.90031504631 l1.27199098468,0.735056698322 1.686629951,0.531286969781 l1.88297942281,-0.222078952938 1.12967938185,-0.635488182306 l0.883898437023,-0.963056609035 m-4.24868434668,-28.2181310654 l-1.77573770285,0.750507041812 -5.01895070076,4.57497537136 l-2.38845452666,2.97556608915 -1.45809814334,2.44351506233 l-0.730665996671,3.35593283176 -0.0702953245491,2.86243885756 l0.451284013689,2.5863057375 2.12533771992,4.9993377924 l0.975222364068,1.3662609458 1.49719357491,1.07618659735 l2.0998172462,0.796458497643 3.75115811825,0.275470223278 m68.0255717324,-52.2957062664 l0.0589923234656,0.121729979292 0.405482426286,0.548972450197 l0.574920810759,0.325286574662 0.882634222507,0.184491816908 l1.83503463864,0.021905337926 2.8171607852,-0.470360442996 l1.69984191656,-0.723471641541 1.01885192096,-0.721296966076 l0.734167173505,-1.12261749804 0.112685905769,-0.755042731762 l-0.454943031073,-0.975414216518 -1.55458003283,-0.877825543284 l-2.07668587565,-0.139236496761 -1.761533916,0.183470137417 l-1.5558385849,0.496671311557 -1.31391257048,0.64618781209 l-0.9907977283,0.752919241786 0.55613476783,0.58718174696 m8.61228823662,0.645721703768 l0.36441039294,0.827606022358 1.7017634213,2.23159939051 l0.410012379289,1.72376647592 0.289086457342,0.514568947256 l0.2116968669,0.593384318054 2.53145605326,2.56812185049 l0.633881539106,0.290829949081 3.20574223995,0.204244349152 l2.84601300955,-0.379803180695 4.98991787434,-1.26721769571 l3.8392034173,-6.51330628898e-05 2.28557497263,0.543777756393 l1.45050644875,0.791655108333 1.27310544252,0.97457125783 l1.22868202627,1.54332980514 0.506293848157,1.15286998451 l0.321138352156,1.73965826631 -0.0282781478018,1.09640352428 l-0.442226789892,1.25118598342 -0.670608431101,0.976496115327 l-1.09426505864,1.06494769454 -1.36293485761,0.821982398629 l-2.85141736269,0.912439599633 -1.68836593628,0.245885364711 l-3.47930252552,0.0149599078577 -2.93027639389,-0.417709723115 l-2.9589292407,-0.79594284296 -6.67262971401,-4.1774636507 l-1.19737781584,-1.4967520535 -0.997471734881,-1.81918412447 l-0.817208513618,-2.05815628171 -0.403014272451,-1.87162831426 l-0.140362260863,-2.47850239277 0.189664028585,-1.49327740073 l0.375462062657,-1.18369795382 m3.13818842173,1.34266510606 l-0.128921233118,-0.429911091924 0.217870287597,-1.36431232095 l0.278408154845,-1.69443234801 -0.196384117007,-1.72088801861 l-0.563399530947,-1.46880686283 -0.417677313089,-0.508682280779 l-0.605000667274,-0.332078821957 -1.16859190166,-0.0595281273127 l-0.54946705699,0.227539017797 -1.07580639422,1.28494516015 l-0.178862884641,0.606291592121 0.245390273631,0.765603929758 m13.542368412,19.2333424091 l-0.0809737760574,5.56677997112 0.538914464414,6.21538937092 l0.000135844538818,5.20916461945 -0.244039408863,1.61589607596 l-0.432106889784,1.35208278894 -0.225723814219,0.146712372079 l-1.19879834354,0.548175647855 -1.29833385348,-6.43474550088e-05 l1.62998691201,-0.239455066621 1.39687046409,-0.181667767465 l0.106922220439,1.3413605094 -0.470875129104,1.51361763477 l0.254583135247,-0.589035786688 0.68274833262,-1.48436829448 m86.0133246407,-37.2140773094 l1.63468152285,0.483031235635 1.85855820775,1.38953760266 l3.93073678017,2.35702008009 2.37737834454,2.01120153069 l1.18629306555,1.94180190563 0.570465922356,1.68103069067 l0.191148146987,2.42389649153 -0.266092270613,1.41871526837 l-1.21034152806,1.8484133482 -2.36963272095,1.22947588563 l-2.85895735025,0.0225426675752 -1.38460665941,-0.481640249491 l-2.45320022106,-1.51879057288 -1.67477414012,-1.89804956317 l-1.11649394035,-2.74712651968 -0.238868817687,-3.5613027215 l0.367849804461,-2.2343057394 0.580512173474,-1.37473076582 l1.03661894798,-1.50980040431 1.57815873623,-1.20114207268 m-2.34494626522,0.40990293026 l-1.22947610915,-1.34119674563 -1.96439415216,-2.86827027798 l-2.0768751204,-2.82581567764 -0.984797552228,-0.868778377771 l-2.37200990319,-2.07389235497 -2.09145843983,-1.07177317142 l-3.40707659721,-0.750598162413 -5.27824223042,0.0846450775862 l-3.52372974157,1.31826922297 -2.22340375185,1.48163333535 l-2.90576070547,2.96418905258 -1.03198945522,1.75500750542 l-0.387202128768,1.29745841026 -0.22776382044,2.0406486094 l0.159510187805,1.14942550659 1.09994783998,1.90880551934 l1.41784638166,1.06051273644 2.07469969988,0.782478451729 l4.17796462774,0.713768750429 1.92814260721,0.0632687006146 l1.66201785207,-0.346583612263 5.13464391232,-2.65485733747 l2.72643744946,-2.13554129004 1.48343265057,-2.18901962042 l0.406302399933,-2.59317576885 -0.580805428326,-2.23063647747 l-1.70413687825,-2.01973736286 -1.37228414416,-0.892886966467 l-1.97755381465,-0.572166740894 -1.8290963769,0.148051399738 l-2.01324045658,0.656153932214 -1.24664925039,0.723393112421 l-2.34955996275,2.4167753756 -1.17099530995,1.85822501779 m22.7742576599,20.3711438179 l-0.766073763371,-0.562602691352 -0.309247672558,-0.0790726393461 l-0.258650090545,0.993599966168 -0.491719357669,13.8313901424 l-0.844803005457,8.68527233601 -0.831563845277,3.44824969769 m0.927094444633,-30.2379417419 l-0.0808895099908,1.42661675811 0.142077011988,11.0172653198 l-1.00743934512,10.0790143013 -0.957984551787,5.51209032536 l-0.636884495616,2.16665536165 -0.388995036483,2.87335336208 m-3.35378408432,-2.66444474459 l-0.679251030087,0.663663595915 m3.67230921984,-2.27884173393 l-0.741290897131,1.04154378176 m0.119573771954,-0.8031796664 l0.808444842696,0.390142723918 m56.7355007352,-51.4055730435 l-0.44455178082,0.676425993443 -0.866098999977,0.271340776235 l-7.87728786469,1.53088077903 0.597251020372,0.78622892499 l0.974454507232,0.486370995641 2.39755779505,1.05289451778 l2.4065002799,0.06071746815 2.22097888589,0.18486212939 l2.03914806247,-0.635543912649 1.2958586216,-0.721722319722 l0.727651119232,-0.75811162591 0.114775383845,-0.662817358971 l-0.231468193233,-0.687329098582 -1.3040587306,-1.02463915944 l-2.78410434723,-1.28635972738 -1.74499049783,0.1216704119 l-1.73926949501,1.05111397803 m6.86800658703,0.774300992489 l0.355810709298,1.62767603993 0.649063661695,1.27812385559 l1.87933430076,3.16914558411 0.967099890113,0.970463529229 l1.78148582578,1.2697738409 1.01393677294,0.439531095326 l0.52568718791,-2.35748871091e-05 1.39076158404,-0.665421783924 l4.60778385401,-2.66117811203 4.82562094927,-2.77883917093 l5.06176888943,-1.36389419436 2.83993989229,-0.246468186378 l3.04158419371,-0.000115334587463 2.11801469326,0.403587333858 l2.24075868726,0.86844265461 2.99876570702,1.75514549017 l2.57634848356,2.42894396186 1.01608112454,1.52334392071 l0.548119693995,1.30455523729 0.285497568548,2.25377127528 l-0.83098039031,2.22375392914 -1.29564359784,1.66580453515 l-1.59848660231,1.37210547924 -5.18393754959,2.76131927967 l-2.1117593348,0.692062601447 -2.68447697163,0.525282286108 l-6.16807997227,0.14915687032 -3.95865350962,-0.398171506822 l-3.76532584429,-1.0160792619 -1.76745697856,-0.685560703278 l-1.57730221748,-0.879943594337 -2.0161819458,-1.48730680346 l-1.95088267326,-2.02651157975 -1.56511038542,-2.35263183713 l-0.691182687879,-1.93935155869 -0.370389893651,-2.98923909664 l6.16899296801e-05,-1.35719582438 0.996080189943,-2.94091135263 m16.8467903137,18.0720210075 l0.272849425673,1.16626426578 -0.27969757095,2.24845543504 l-1.04799300432,12.5973272324 -0.51704660058,2.82834202051 l-0.596987381577,1.64446398616 -0.244771875441,1.69338032603 l0.163818392903,0.368015579879 1.1500621587,-0.712891146541 l1.08140006661,-0.884638130665 0.964917838573,-1.39834836125 l0.299288667738,-1.58739939332 -0.398348942399,-1.56246170402 l-1.44948765635,-4.41719681025 -1.58515870571,-5.51930189133 l-0.724889039993,-1.78128913045 -0.766745731235,-2.1862617135 m3.38260173798,-7.12020397186 l0.075804986991,1.30275771022 1.08676448464,3.48352015018 l2.84235239029,13.145532608 1.30195006728,5.5026268959 l0.841077938676,1.90947860479 0.792900621891,1.11018866301 l0.76284609735,0.678742453456 0.63337393105,1.02611042559 l1.38630226254,1.24563269317 0.602455064654,1.02183893323 l0.256838127971,3.09623062611 -0.143453106284,1.81556105614 l-0.460988022387,1.25806510448 -0.925043597817,0.480978898704 l-1.96586534381,0.274858940393 -1.64226338267,-0.465263426304 l-1.56173631549,-1.62518471479 -0.445694774389,-1.21664963663 l0.182028505951,-1.12591907382 1.15827612579,-1.21227800846 l3.23551028967,-2.07778245211 1.87987282872,-0.743241086602 l1.05844728649,-0.669817253947 0.749458521605,-0.808949097991 l1.25148028135,-2.38888502121 0.74301995337,-2.97261863947 l0.395388938487,-3.74279975891 0.0584459444508,-2.25031584501 l-0.484768413007,-3.35670977831 -1.24503262341,-3.91938716173 l-0.325688607991,-2.93871432543 m47.2710311813,-28.1220333428 l1.27986505628,-0.302777476609 3.71120452881,0.0137944077142 l1.5943236649,0.306875575334 1.24374769628,0.721596702933 l1.25972136855,1.47839233279 0.933986976743,1.900305897 l-3.97135227104e-05,1.70759379864 -0.903323814273,1.32480055094 l-1.11989453435,1.01931355894 -1.04714661837,0.616236440837 l-1.59303188324,0.526880137622 -2.4378195405,0.0372548424639 l-2.96379297972,-0.816295295954 -1.791806072,-1.32473453879 l-0.758774280548,-1.47287458181 -0.291436649859,-1.91122174263 l0.000129484005811,-2.12314680219 0.31412884593,-1.52730032802 l0.750490948558,-0.403112135828 1.54817968607,-0.0340551231056 l1.70359924436,0.856767222285 m5.37846267223,3.27062040567 l1.59215480089,2.41546034813 0.410831570625,2.08578035235 l0.654572993517,4.9295887351 -9.72091356743e-06,5.74753522873 l0.346870049834,3.53170186281 0.000119706810437,4.48510050774 l0.209530629218,1.39219194651 0.000199047099159,3.10854494572 l0.311662219465,3.16671460867 0.425965562463,1.22247681022 l2.00596168637,2.48863309622 1.94140717387,1.45584478974 l1.37555658817,0.585216507316 5.02090752125,0.280760116875 l2.95018613338,-0.405433252454 2.03575834632,-0.654281154275 l3.62221091986,-1.95225313306 3.1420764327,-2.6456579566 l1.15622103214,-2.04949200153 0.636693537235,-2.01505765319 l0.369588173926,-2.83780097961 8.71867450769e-05,-2.16271415353 l-0.445668101311,-1.44239991903 -0.992302373052,-1.41848251224 l-2.25454479456,-1.77810758352 -1.55158057809,-0.677469149232 l-2.52015352249,-0.510346964002 -5.99273741245,-0.209393780679 l-4.29192245007,0.533074103296 -2.85457700491,0.905580222607 l-2.14178487659,1.04109123349 -1.53118208051,1.08298324049 l-1.34599879384,1.66491061449 -1.24694615602,2.86120325327 l-0.182821471244,1.90852418542 m10.6397080421,10.3809428215 l-0.430961102247,1.75691828132 8.37608513393e-05,8.48619401455 l0.520438030362,4.78098601103 0.924989134073,5.2060508728 l0.0304127461277,1.36680334806 m3.05208295584,-21.2601780891 l-0.52154712379,0.844617858529 -0.308953430504,2.00739279389 l4.84431438963e-05,7.2383004427 0.530072264373,4.55667376518 l0.614487975836,2.83329725266 \" fill=\"none\" stroke=\"black\" stroke-width=\"1\"/></svg>"
      ],
      "text/plain": [
       "<IPython.core.display.SVG object>"
      ]
     },
     "metadata": {},
     "output_type": "display_data"
    }
   ],
   "source": [
    "stroke_grid = make_grid_svg(reconstructions)\n",
    "draw_strokes(stroke_grid)"
   ]
  },
  {
   "cell_type": "markdown",
   "metadata": {
    "colab_type": "text",
    "id": "L-rJ0iUQFQvl"
   },
   "source": [
    "Let's load the owl model, and generate two sketches using two random IID gaussian latent vectors"
   ]
  },
  {
   "cell_type": "code",
   "execution_count": 57,
   "metadata": {
    "colab": {},
    "colab_type": "code",
    "id": "of4SWwGdFQvm"
   },
   "outputs": [],
   "source": [
    "model_dir = '/tmp/sketch_rnn/models/owl/lstm'"
   ]
  },
  {
   "cell_type": "code",
   "execution_count": 58,
   "metadata": {
    "colab": {
     "base_uri": "https://localhost:8080/",
     "height": 255
    },
    "colab_type": "code",
    "id": "jJiSZFQeFQvp",
    "outputId": "f84360ca-c2be-482f-db57-41b5ecc05768"
   },
   "outputs": [
    {
     "name": "stdout",
     "output_type": "stream",
     "text": [
      "INFO:tensorflow:Model using gpu.\n",
      "INFO:tensorflow:Input dropout mode = False.\n",
      "INFO:tensorflow:Output dropout mode = False.\n",
      "INFO:tensorflow:Recurrent dropout mode = False.\n",
      "INFO:tensorflow:Model using gpu.\n",
      "INFO:tensorflow:Input dropout mode = 0.\n",
      "INFO:tensorflow:Output dropout mode = 0.\n",
      "INFO:tensorflow:Recurrent dropout mode = 0.\n",
      "INFO:tensorflow:Model using gpu.\n",
      "INFO:tensorflow:Input dropout mode = 0.\n",
      "INFO:tensorflow:Output dropout mode = 0.\n",
      "INFO:tensorflow:Recurrent dropout mode = 0.\n",
      "INFO:tensorflow:Loading model /tmp/sketch_rnn/models/owl/lstm/vector.\n",
      "INFO:tensorflow:Restoring parameters from /tmp/sketch_rnn/models/owl/lstm/vector\n"
     ]
    }
   ],
   "source": [
    "[hps_model, eval_hps_model, sample_hps_model] = load_model_compatible(model_dir)\n",
    "# construct the sketch-rnn model here:\n",
    "reset_graph()\n",
    "model = Model(hps_model)\n",
    "eval_model = Model(eval_hps_model, reuse=True)\n",
    "sample_model = Model(sample_hps_model, reuse=True)\n",
    "sess = tf.InteractiveSession()\n",
    "sess.run(tf.global_variables_initializer())\n",
    "# loads the weights from checkpoint into our model\n",
    "load_checkpoint(sess, model_dir)"
   ]
  },
  {
   "cell_type": "code",
   "execution_count": 59,
   "metadata": {
    "colab": {
     "base_uri": "https://localhost:8080/",
     "height": 141
    },
    "colab_type": "code",
    "id": "vR4TDoi5FQvr",
    "outputId": "db08cb2c-952c-4949-d2b0-94c11351264b"
   },
   "outputs": [
    {
     "data": {
      "image/svg+xml": [
       "<svg baseProfile=\"full\" height=\"101.199953938\" version=\"1.1\" width=\"82.7023009358\" xmlns=\"http://www.w3.org/2000/svg\" xmlns:ev=\"http://www.w3.org/2001/xml-events\" xmlns:xlink=\"http://www.w3.org/1999/xlink\"><defs/><rect fill=\"white\" height=\"101.199953938\" width=\"82.7023009358\" x=\"0\" y=\"0\"/><path d=\"M33.7674325757,29.0816149689 m-0.797972008586,0.850903093815 l0.688170716166,-0.653155967593 2.23007395864,-1.43806830049 l1.75014212728,-0.892964228988 1.36645182967,-0.478265881538 l1.11945040524,-0.131739107892 1.58694863319,0.553471371531 l1.32922291756,1.3291503489 1.35097101331,2.73647367954 l0.344092659652,2.2174552083 -5.69947496842e-05,2.39954695106 l-0.752784535289,0.867991298437 -1.73174351454,0.706872716546 l-2.503888309,0.250593721867 -2.60755211115,-0.377962440252 l-2.23787486553,-1.22000806034 -1.44364982843,-1.49483188987 l-0.853266716003,-1.63494259119 7.51662628318e-05,-2.52730965614 l1.11061133444,-1.66786581278 m-1.32483899593,-1.44546866417 l-0.165543667972,-0.899645090103 0.907144621015,-0.745791047812 l1.57681852579,-0.382732562721 1.65717035532,-0.00332205701852 l1.51719734073,0.790857821703 0.922330245376,1.48168280721 l0.000149613733811,1.81779429317 -0.881647020578,1.60082966089 l-1.5486176312,1.15896187723 -1.83157920837,0.512997582555 l-1.22670456767,-0.646212697029 -0.828253552318,-1.09692625701 l-0.501263327897,-1.76167950034 0.000131891138153,-2.0198276639 l0.847614333034,-1.37516602874 m9.76400613785,2.32801213861 l0.531251132488,-1.46149203181 1.86901465058,-0.862895101309 l2.94005274773,0.241559203714 0.652655959129,1.83068290353 l0.000148057624756,2.41884201765 -0.852912068367,1.56717449427 l-1.45283937454,0.969432070851 -1.75114884973,0.34165199846 l-1.20836697519,-0.804651752114 -0.865738093853,-1.22936472297 l-0.452575087547,-1.3517896831 0.000199742771656,-1.91362455487 l0.952459350228,-1.02179132402 m-3.58935415745,9.3014228344 l0.291087292135,2.62341618538 0.278064534068,2.65610724688 l1.12227141857,-2.02544599771 0.954037681222,-2.85874545574 m-1.6290974617,-2.29725182056 l-0.434783063829,1.23933427036 m0.357204377651,-1.53339877725 l0.000183542251762,0.492983311415 m4.72818642855,-0.694072023034 l0.000148882945723,0.51439113915 m2.74081796408,-1.26766473055 l-5.97395091972e-05,0.218802858144 m3.8196349144,-0.350424610078 l1.50994375348,3.36454093456 0.926193073392,3.93210798502 l1.3150395453,11.0086190701 -0.000248907672358,7.77058303356 l-0.77000759542,4.85392898321 -1.36461660266,4.10278767347 l-1.65607318282,3.07038456202 -1.95356965065,2.15705484152 l-2.26561576128,1.34837463498 -3.04138273001,0.874784365296 l-3.67112606764,0.24145398289 -3.48197311163,-0.632712990046 l-3.34112167358,-1.58711865544 -2.87101715803,-2.46498569846 l-2.33791410923,-3.26323002577 -2.33046531677,-6.02059960365 l-1.26555785537,-7.50149965286 0.000119931810332,-7.17208325863 l0.93900308013,-5.48005759716 1.22264273465,-4.17778551579 l1.48029461503,-3.1349042058 0.801149532199,-1.05155043304 m8.27800095081,21.6327166557 l-0.503258854151,3.8757917285 -1.05677358806,4.90699321032 l-1.03078573942,3.6194434762 -1.1303742975,2.35306143761 l-1.33748441935,1.59365862608 m3.40200096369,-8.26995253563 l0.133260358125,3.76183122396 0.809886232018,3.5557731986 m0.346193574369,-6.02675378323 l1.44983276725,3.68046551943 1.86326235533,2.7570644021 m8.08201611042,-12.1733570099 l-0.758316963911,9.10136163235 -0.99804751575,3.1561088562 m1.77065074444,-6.94130063057 l1.729208529,3.86381417513 0.607125237584,1.45110294223 m-1.76347047091,-5.58297216892 l2.6196539402,2.77217298746 1.77313312888,1.93327441812 m-16.4711737633,-27.2555088997 l-0.457630939782,2.35915929079 -1.24223507941,3.6062541604 l-2.95393943787,9.10458505154 -1.47888317704,2.8934815526 l-1.39071419835,1.61831170321 -1.70528799295,0.978420302272 l-1.74597799778,0.114319743589 m20.6471920013,-20.0642108917 l-0.0610205344856,3.65122169256 0.89997112751,4.63277906179 l4.26280975342,10.0847113132 3.11435610056,3.01619589329 l2.55591213703,0.780831426382 m-23.6854457855,4.32665646076 l-0.313757918775,3.61496239901 -0.753628909588,3.2362011075 l-0.778445601463,1.70867979527 m15.784265995,-9.63970422745 l0.766940563917,4.18221265078 0.244283247739,4.79306668043 \" fill=\"none\" stroke=\"black\" stroke-width=\"1\"/></svg>"
      ],
      "text/plain": [
       "<IPython.core.display.SVG object>"
      ]
     },
     "metadata": {},
     "output_type": "display_data"
    }
   ],
   "source": [
    "z_0 = np.random.randn(eval_model.hps.z_size)\n",
    "_ = decode(z_0)"
   ]
  },
  {
   "cell_type": "code",
   "execution_count": 60,
   "metadata": {
    "colab": {
     "base_uri": "https://localhost:8080/",
     "height": 124
    },
    "colab_type": "code",
    "id": "ZX23lTnpFQvt",
    "outputId": "247052f2-a0f3-4046-83d6-d08e0429fafb"
   },
   "outputs": [
    {
     "data": {
      "image/svg+xml": [
       "<svg baseProfile=\"full\" height=\"112.273594942\" version=\"1.1\" width=\"95.0359957877\" xmlns=\"http://www.w3.org/2000/svg\" xmlns:ev=\"http://www.w3.org/2001/xml-events\" xmlns:xlink=\"http://www.w3.org/1999/xlink\"><defs/><rect fill=\"white\" height=\"112.273594942\" width=\"95.0359957877\" x=\"0\" y=\"0\"/><path d=\"M25.0088197005,54.2412396707 m-0.00881970045157,-0.226525589824 l0.856200382113,-0.162455812097 0.570746064186,-0.261659603566 l0.957530811429,-1.51031672955 0.473726578057,-1.63612887263 l0.599999465048,-3.24248969555 0.414036996663,-2.93786525726 l0.424702577293,-2.9720851779 0.615277960896,-3.20119440556 l0.944461226463,-3.14916819334 1.33402138948,-3.01394701004 l1.84752002358,-2.72241026163 2.28476285934,-2.1371294558 l2.79949218035,-1.48282587528 3.11212539673,-0.585037730634 l2.82759159803,0.432626195252 2.56839632988,1.31007120013 l2.46167719364,2.18840911984 2.04348191619,3.04154485464 l1.46274745464,3.7120950222 1.27245888114,6.21816933155 l0.386939570308,4.28795844316 -0.0425413157791,5.75140535831 l-0.0123356888071,3.45723122358 0.267185587436,1.63245439529 l0.695635378361,1.10136240721 1.25443071127,0.800536200404 l1.71850353479,0.576370693743 2.14316666126,0.722675845027 l2.09471911192,1.01170837879 1.85901433229,1.22406065464 l1.66530027986,1.49327799678 1.33993715048,1.69739380479 l1.08962520957,2.00248166919 0.705290958285,2.1604385972 l0.000167021298694,1.97955980897 -0.699336156249,2.00489744544 l-1.32971718907,1.7520879209 -1.95494487882,1.48759841919 l-2.83393144608,1.28246799111 -3.74019652605,0.911166220903 l-4.23126280308,0.437770076096 -4.95822668076,-0.0516010308638 l-4.54264014959,-0.614114813507 -3.5299795866,-0.86401514709 l-5.53546905518,-2.14706540108 -2.93339312077,-1.63023516536 l-2.14895829558,-1.56783983111 -1.70740887523,-1.59183591604 l-1.2877330184,-1.6084381938 -0.87636128068,-1.58238247037 l-0.644917041063,-2.22139254212 -0.145172188058,-1.98883280158 l0.422720648348,-2.37255558372 m9.59155678749,-25.433306694 l-0.939419642091,1.49925753474 -0.533375218511,1.61612734199 l-0.0240897014737,1.72484174371 0.5432600528,1.41230344772 l1.03721484542,0.981215387583 1.4152431488,0.398806147277 l1.43548756838,-0.279277972877 1.16458497941,-0.707203522325 l0.83249591291,-1.00444689393 0.429087206721,-1.18265777826 l-0.0824092235416,-1.62860944867 -0.58498121798,-1.32032036781 l-0.860789269209,-1.00617729127 -1.41786411405,-0.799037367105 l-1.63021177053,-0.268216393888 m10.8354914188,0.434233359993 l-1.21996201575,1.18956618011 -0.57997751981,1.12968683243 l-0.29952801764,2.17496201396 0.454796664417,1.51383057237 l1.03046834469,1.16982378066 1.45918920636,0.653444305062 l1.52969419956,0.0265296222642 1.36941477656,-0.615496486425 l1.03136725724,-0.985344126821 0.577107332647,-1.1799351871 l0.0412790197879,-1.58988878131 -0.507776848972,-1.36651992798 l-1.26990228891,-1.49199545383 -1.6830343008,-0.935652181506 l-1.75595864654,-0.314463749528 m-17.5905394554,17.1915459633 l-0.803494825959,3.69417995214 -1.03421002626,4.18001174927 l-0.859385728836,6.05327785015 0.0003525248394,2.63113737106 l0.428016595542,2.3421600461 0.884411036968,1.93228125572 l0.602973625064,0.640069842339 0.989275351167,0.381091423333 m27.4973678589,-23.4845733643 l2.12232455611,2.88357406855 2.15883135796,3.65742057562 l1.46423980594,3.64672899246 0.74978724122,3.44155192375 l0.275515634567,4.71793740988 -0.397714711726,2.50484138727 l-0.747378319502,1.70394703746 m-25.08289814,7.33703076839 l0.250812936574,3.52689564228 -0.481090508401,2.70356744528 m15.8341264725,-6.4523267746 l0.661987066269,3.50643724203 0.374375283718,3.28121811152 \" fill=\"none\" stroke=\"black\" stroke-width=\"1\"/></svg>"
      ],
      "text/plain": [
       "<IPython.core.display.SVG object>"
      ]
     },
     "metadata": {},
     "output_type": "display_data"
    }
   ],
   "source": [
    "z_1 = np.random.randn(eval_model.hps.z_size)\n",
    "_ = decode(z_1)"
   ]
  },
  {
   "cell_type": "markdown",
   "metadata": {
    "colab_type": "text",
    "id": "7FjQsF_2FQvv"
   },
   "source": [
    "Let's interpolate between the two owls $z_0$ and $z_1$"
   ]
  },
  {
   "cell_type": "code",
   "execution_count": 61,
   "metadata": {
    "colab": {},
    "colab_type": "code",
    "id": "u6G37E8_FQvw"
   },
   "outputs": [],
   "source": [
    "z_list = [] # interpolate spherically between z_0 and z_1\n",
    "N = 10\n",
    "for t in np.linspace(0, 1, N):\n",
    "  z_list.append(slerp(z_0, z_1, t))\n",
    "# for every latent vector in z_list, sample a vector image\n",
    "reconstructions = []\n",
    "for i in range(N):\n",
    "  reconstructions.append([decode(z_list[i], draw_mode=False, temperature=0.1), [0, i]])"
   ]
  },
  {
   "cell_type": "code",
   "execution_count": 62,
   "metadata": {
    "colab": {
     "base_uri": "https://localhost:8080/",
     "height": 149
    },
    "colab_type": "code",
    "id": "OULjMktmFQvx",
    "outputId": "94b7b68e-9c57-4a1b-b216-83770fa4be81"
   },
   "outputs": [
    {
     "data": {
      "image/svg+xml": [
       "<svg baseProfile=\"full\" height=\"112.033181014\" version=\"1.1\" width=\"833.699430254\" xmlns=\"http://www.w3.org/2000/svg\" xmlns:ev=\"http://www.w3.org/2001/xml-events\" xmlns:xlink=\"http://www.w3.org/1999/xlink\"><defs/><rect fill=\"white\" height=\"112.033181014\" width=\"833.699430254\" x=\"0\" y=\"0\"/><path d=\"M25,30.7699966524 m0.0,0.0 m32.5411786336,3.77921275678 l-0.801682323217,0.851480513811 0.654326230288,-0.687003880739 l2.17524334788,-1.50837019086 1.76295176148,-0.937002301216 l1.26765400171,-0.420668050647 1.15779094398,-0.0304938456975 l1.67517140508,0.864759087563 1.24499514699,1.56905218959 l0.665072202682,1.8716801703 -8.70258736541e-05,1.82635754347 l-0.780192688107,1.84274330735 -1.5311306715,1.50749176741 l-2.1043074131,1.03197731078 -2.28748649359,0.379889979959 l-2.10006803274,-0.355523861945 -1.65908411145,-0.883153453469 l-1.22619740665,-1.28761619329 -0.72954647243,-1.54444366693 l8.43983252707e-05,-2.68935412169 1.325519979,-1.67248666286 l2.24774211645,-1.2421156466 m8.24016869068,0.973103195429 l0.834940299392,-0.677556991577 2.10620328784,-0.826760753989 l2.20269441605,-0.241397116333 2.64542907476,0.700630769134 l1.35838776827,1.45362183452 0.542465485632,1.87982916832 l0.000105689077827,2.07112401724 -0.970193967223,1.96890503168 l-1.7825846374,1.5332236886 -2.27143004537,0.835642665625 l-2.58233815432,0.201636180282 -2.24104911089,-0.569316670299 l-1.65240734816,-1.00316420197 -1.12325832248,-1.26311659813 l-0.658439919353,-1.45568996668 0.000233562223002,-2.20709457994 l0.594107694924,-1.75041466951 0.949413478374,-1.35430663824 l2.32422947884,-1.67379572988 1.04864381254,-0.300009995699 l1.16933949292,0.198725908995 m-5.23669183254,13.1257247925 l0.240483153611,2.67133802176 -0.101970117539,2.8025534749 l0.0981668289751,-1.65841773152 0.765799954534,-2.74050295353 l0.638678893447,-1.28493964672 m1.16103254259,-2.14382171631 l0.319887325168,2.67475396395 0.225028488785,1.09203010798 l0.279084928334,-0.0242409319617 0.528080239892,-1.72731369734 m1.30276933312,-2.40719512105 l0.0804184749722,1.81067079306 m-1.49096146226,-1.23903527856 l0.000287906386802,0.573243871331 m-0.0641673617065,2.83145874739 l0.138369137421,1.67728736997 0.410812273622,0.771356597543 l0.870565697551,-0.1807558164 1.01913630962,-1.85909971595 l0.42859710753,-1.00941695273 0.259383432567,-0.466477163136 m0.745681151748,-1.51471942663 l0.672167688608,3.24072897434 0.371726751328,2.17063158751 l0.628831908107,1.8423832953 0.848991572857,1.74876794219 l1.36573836207,2.31895714998 1.4939545095,2.76278406382 l1.154685691,3.01954180002 0.786356255412,3.59581023455 l8.2846136138e-05,5.52938401699 -0.450190380216,2.45028749108 l-1.17465786636,3.16905021667 -1.55603840947,2.55325734615 l-1.89678773284,1.92054986954 -2.32995226979,1.3701954484 l-2.7409940958,0.749780163169 -3.2977181673,0.164633151144 l-3.31542640924,-0.713480040431 -3.04305106401,-1.64993077517 l-2.24702611566,-1.9310452044 -1.65844395757,-2.1562743187 l-1.2151286006,-2.41821706295 -0.84908016026,-2.60122150183 l-0.879505500197,-5.95310389996 6.52741073282e-05,-6.3312792778 l1.19573377073,-7.15685546398 0.660968199372,-2.084762007 l1.39012113214,-2.69616603851 0.857668742537,-1.04891218245 l1.51836752892,-1.06945551932 1.02613285184,-0.320624113083 l2.58667260408,0.0478434190154 m6.79223060608,16.5785598755 l0.45484803617,3.81153404713 0.725209265947,4.3036916852 l1.85157269239,8.4597837925 0.730710625648,2.95656859875 m1.62398636341,-18.221937418 l1.51457458735,9.47431981564 0.244327634573,5.8658605814 l-0.282136444002,2.9523229599 m0.46448469162,-17.7376770973 l0.208150651306,9.37678515911 -0.417715869844,5.85899710655 m1.45649701357,-16.0141849518 l-0.582859814167,11.4045250416 -0.965821370482,5.35275101662 m1.57745838165,-16.3897967339 l-0.687867328525,12.149181366 -0.857550874352,4.43833142519 m1.53231650591,-16.5184676647 l-0.677246376872,13.0654537678 -0.8098757267,4.16711777449 m0.8111089468,-17.0820081234 l-0.745865181088,13.0798900127 -0.773414224386,3.89038324356 m0.545519143343,-16.6189205647 l-0.0892186909914,13.5068750381 -0.439851097763,3.70423018932 m-17.1547186375,-29.7633910179 l-1.3995103538,10.1631271839 -1.13574892282,6.4358150959 l-0.861208513379,7.08171069622 0.000405862119806,2.5806081295 l-0.435438789427,0.862720385194 -1.11859060824,-1.59170806408 l-1.07220344245,-3.48631829023 -2.21574008465,-10.8197486401 l-0.343145169318,-8.46442699432 0.715407431126,-4.78194594383 l1.33905634284,-4.06452059746 1.82176962495,-3.21071565151 l1.82128354907,-2.06789121032 2.53037631512,-1.71719714999 m77.2897462918,-0.446693404811 l-0.660265535116,0.832794457674 0.903045237064,-0.608424544334 l2.11565092206,-1.2363859266 1.66890650988,-0.97449041903 l1.20841786265,-0.712958276272 1.06395252049,-0.584992989898 l1.36929020286,-0.644879117608 1.99985653162,-0.796155929565 l1.70922845602,-0.5152425915 2.36314028502,-0.626972317696 l2.90867239237,-0.638061314821 1.85823768377,-0.300888884813 l1.5021276474,-0.125520313159 2.33016446233,0.0323607749306 l1.66276320815,0.277908071876 1.24628797174,0.600276067853 l1.66733369231,2.80306875706 0.43430827558,2.65788316727 l-0.231660809368,3.15632641315 -1.10157668591,3.14796596766 l-1.81036144495,3.04022789001 -2.34453991055,2.56074368954 l-2.91817516088,2.14455455542 -3.46418946981,1.61606773734 l-3.89674305916,0.988227203488 -3.99224787951,0.353497564793 l-4.11102473736,-0.350289531052 -3.80986809731,-1.11471921206 l-2.56593495607,-1.26645892859 -3.59784692526,-2.90233492851 l-1.80711761117,-2.50826299191 -0.90079292655,-2.09351196885 l-0.420970208943,-2.75018244982 0.552752390504,-4.11494642496 l0.626146495342,-1.5446460247 1.52227252722,-1.98941320181 l2.31133967638,-1.70395612717 2.84524559975,-1.11249439418 l3.03275704384,-0.483200103045 2.93484926224,0.113886920735 l2.55994021893,0.782941132784 2.15701639652,1.53738752007 l1.45309299231,2.02584579587 0.699303224683,2.0879855752 l0.000239601322392,1.68408855796 -0.746190026402,1.86170905828 l-1.60661906004,1.72188803554 -2.23456084728,1.18511639535 l-2.46386170387,0.535689368844 -2.50350058079,-0.0829176325351 l-2.22137659788,-0.759619697928 -1.77030399442,-1.55384093523 l-0.985731482506,-2.1264180541 -0.237896759063,-1.96428194642 l0.320149548352,-1.77298381925 0.812124088407,-1.48032799363 l1.15314640105,-1.1443310976 1.9108107686,-0.884378552437 l2.31450647116,-0.236234348267 2.19745278358,0.555755123496 m11.2656104565,1.97992354631 l0.421847291291,-0.54952070117 2.25012853742,-0.727811232209 l2.61647671461,0.0990189705044 1.88320636749,1.08458869159 l1.16025112569,1.83628723025 0.346892215312,2.10930839181 l-0.43254006654,2.13335692883 -1.30526229739,1.69864535332 l-2.01504483819,1.12214773893 -2.48741030693,0.488289967179 l-3.33763182163,-0.478168725967 -1.43342450261,-1.30886331201 l-0.880516469479,-1.59192800522 -0.341236740351,-1.71750381589 l0.171839352697,-1.65735542774 1.03862844408,-1.82791352272 l1.31970912218,-1.3093984127 1.42547816038,-0.840982571244 m-5.52073478699,11.0969293118 l0.0715220859274,2.66345262527 -0.495081916451,2.49536916614 l-0.301031824201,-1.01757839322 0.633877888322,-2.71871626377 l0.735175833106,-1.06500819325 m-12.5948894024,6.37464284897 l-2.36719533801,2.57969975471 -2.15985924006,3.41059654951 l-2.45339989662,6.0427159071 -1.0982953012,4.83457863331 l-0.452893786132,4.68624413013 0.00021157111405,5.77222764492 l0.643952414393,3.69617849588 m32.4490427971,-32.9773068428 l1.68608874083,2.55332231522 1.63977712393,4.21747207642 l1.06099516153,5.02743244171 0.664447546005,8.5451990366 l0.000199865444301,7.90886461735 -0.630552098155,4.33857828379 m-27.7153205872,-22.5327515602 l-2.49268874526,7.17895567417 -1.12366952002,4.92590457201 l-0.662073343992,6.81014299393 0.000448652026535,4.11962538958 m24.1991472244,-24.7233819962 l1.17232874036,3.19355785847 2.03343987465,6.44396364689 l0.884197577834,5.28693079948 0.201620999724,4.71138566732 l-0.372503176332,3.71322244406 m-21.9475269318,-22.6132559776 l-2.04519480467,6.19508445263 -0.918589383364,4.80886161327 l-0.422154739499,7.12812781334 0.518774464726,3.73382031918 l1.13123834133,2.89241701365 m17.8021717072,-25.4567551613 l1.33852094412,3.47439110279 0.611052922904,2.96341508627 l0.386260524392,4.73183006048 -0.243290513754,5.01536667347 l-0.932766199112,4.36063796282 -1.86768636107,5.01733481884 m-15.9445345402,-23.849773407 l-1.68088138103,6.23667418957 -0.611926503479,4.92342621088 l0.000162480082508,5.34492373466 0.746472626925,3.79914551973 l1.33245110512,2.93753892183 1.7618894577,2.20194011927 l2.09855422378,1.41074866056 m86.7685682231,-16.6325272956 l-0.528173036873,0.785211324692 1.15430027246,-0.565485283732 l1.94061383605,-1.13875105977 1.55786380172,-1.12998835742 l1.12202964723,-1.01890236139 0.872793495655,-1.08430989087 l0.687313899398,-1.20051138103 0.535469911993,-1.3969001174 l0.296504851431,-1.71577379107 -0.0558193633333,-2.04727932811 l-0.634333863854,-2.34337508678 -1.00588217378,-1.89244776964 l-1.80480018258,-2.01353773475 -2.41895154119,-1.53581783175 l-2.95139759779,-0.868770182133 -3.15429002047,-0.12910890393 l-2.75468975306,0.798286050558 -2.30632141232,1.5625846386 l-1.20042316616,1.32790520787 -1.6016073525,3.33896875381 l-0.438063517213,3.03551703691 0.513893030584,4.42431330681 l1.2665745616,2.62763768435 2.92770832777,2.84489095211 l2.74845778942,1.08371637762 3.01762521267,0.133999893442 l2.63619601727,-0.726172029972 1.07631601393,-0.658554583788 m-1.46165773273,-10.7646989822 l0.106903519481,0.0177755707409 0.799498558044,0.080219656229 l0.811475142837,-0.182301606983 0.910164937377,-0.57963643223 l0.733958780766,-0.956556722522 0.508005395532,-1.09981715679 l0.339610651135,-1.16334348917 0.256438422948,-1.74597322941 l-0.0627125473693,-2.26107433438 -0.47810267657,-1.62060841918 l-1.56885996461,-2.10034430027 -1.94258019328,-1.41813576221 l-2.1993380785,-0.763490498066 -2.39448711276,-0.119607867673 l-1.42641529441,0.350939445198 -1.71965733171,1.18956707418 l-1.45355775952,2.03357115388 -0.780843272805,2.35843330622 l-0.208775773644,2.56918549538 0.397564470768,2.31433883309 l1.03096798062,2.08779290318 1.60445705056,1.74130633473 l2.00065627694,1.15098893642 2.31523826718,0.469114221632 l1.69711530209,0.000936172291404 1.78042426705,-0.597091726959 m-6.47734940052,-7.32156276703 l0.341854915023,-0.406526364386 m8.12263607979,0.187270715833 l0.000371366149921,-0.0681796763092 m-4.60031598806,5.91053664684 l0.38886539638,2.11222052574 0.889730975032,0.783069580793 l1.21146060526,-2.30422154069 0.390967614949,-1.2985765934 m-10.6385207176,-5.07742285728 l-0.731005594134,-0.102971391752 -1.06940090656,-0.341715961695 l-1.57570704818,-0.931424200535 -1.67303353548,-1.28881216049 l-1.61691129208,-1.5623703599 -1.41019836068,-1.78009837866 l-1.14573575556,-2.11619749665 -0.683278366923,-2.30383083224 l-0.162566564977,-2.56453037262 0.45982260257,-2.70902723074 l1.3308006525,-2.85145282745 2.23828032613,-2.57467508316 l2.89483994246,-1.97676330805 3.65234196186,-1.48143604398 l4.14500713348,-0.872493162751 4.2775541544,-0.179386772215 l3.67259442806,0.586479231715 3.20281893015,1.27022042871 l2.90221333504,1.99070230126 2.30449870229,2.58163690567 l1.62685647607,3.19180876017 0.864418074489,3.579852283 l0.185716245323,3.93214643002 -0.611018799245,3.75343024731 l-1.33933007717,3.45106869936 -2.7763313055,4.62567985058 l-1.08173690736,3.06752532721 -0.111832991242,3.1591796875 l1.31439760327,4.26059126854 1.97723507881,5.31876921654 l1.84937089682,6.6151291132 0.627233237028,4.3256816268 l2.27778673434e-05,3.57215821743 m-25.0896286964,-28.4704637527 l-1.32375121117,3.89464408159 -0.798329785466,4.97287392616 l-0.208477284759,12.2158563137 0.807273313403,4.38574880362 l1.35436430573,3.54534178972 0.705352500081,1.1298853159 m13.3657979965,-25.3995728493 l0.440860912204,2.6569506526 0.760144516826,3.82586717606 l1.48519277573,8.12700867653 1.13540880382,3.76738071442 l1.29189744592,2.60094404221 1.59088954329,1.83938875794 l1.92778632045,1.1357152462 m-15.8306419849,-22.8608298302 l-0.113969119266,4.0725338459 -0.803381726146,5.83734989166 l-1.77490860224,6.94052278996 -1.42896741629,3.35787385702 l-1.52235925198,2.17540636659 m5.60886383057,-25.136475563 l0.0722415931523,3.71185153723 -0.40983736515,5.12049794197 l-1.89210161567,9.51975882053 -0.971837416291,3.24752479792 l-1.14565178752,2.22645223141 m11.8336975574,-22.7819728851 l1.08039803803,9.72065329552 1.18743740022,5.32056093216 l1.61803230643,4.09950107336 1.90585419536,2.80835032463 l2.04257875681,1.83864682913 m59.1950347413,-36.8903354276 l-0.395789407194,0.706844702363 1.29686370492,-0.492319427431 l1.92860648036,-0.998046323657 1.40903666615,-1.00493229926 l0.937988236547,-0.918255597353 0.718914568424,-1.06206044555 l0.697815865278,-1.97287604213 0.247577819973,-2.03833714128 l-0.284752678126,-2.26395279169 -1.01597033441,-2.34589144588 l-1.82044744492,-2.21652016044 -2.36820489168,-1.69269055128 l-2.68634110689,-1.01519457996 -2.82233417034,-0.30220752582 l-2.72635042667,0.515019856393 -1.39295905828,0.769084393978 l-2.1993470192,2.39769101143 -1.1581017077,2.74066746235 l-0.401923172176,2.9173246026 0.315591543913,2.79300570488 l1.03236623108,2.56482183933 1.7538754642,2.23989188671 l2.29223668575,1.42805069685 3.06495040655,0.712362602353 l2.73964285851,-0.264397636056 2.26250931621,-1.11742302775 m1.05710156262,-7.6215583086 l0.486981272697,-0.423886850476 1.6343306005,-1.99999600649 l2.02970519662,-2.19822615385 2.70973324776,-2.21217349172 l2.21019923687,-0.986287668347 2.21601754427,-0.292331762612 l3.04066717625,0.786623209715 1.50668829679,1.04867003858 l1.44134402275,1.90389513969 0.919162034988,2.56793707609 l0.169803760946,2.73145645857 -0.640434548259,2.63249576092 l-1.41377314925,2.16525048018 -2.03434333205,1.6023118794 l-2.73418039083,1.01261734962 -3.16825538874,0.313501097262 l-2.86894887686,-0.490214526653 -2.25078314543,-1.30818665028 l-1.38916283846,-1.45905584097 -0.820662602782,-1.49483814836 l-0.329192690551,-1.51308357716 0.260216835886,-2.00876459479 l1.0657684505,-1.97903066874 1.64321810007,-1.5509109199 l1.97815015912,-0.843986794353 2.0933111012,-0.130707779899 l1.69280529022,0.684969574213 1.27857357264,1.49725630879 l0.640938580036,2.01809197664 -0.0638020271435,2.0941324532 l-0.757991075516,1.82227239013 -1.17823757231,1.33115872741 l-1.53998434544,0.788964033127 -1.69775009155,0.219831429422 l-1.66199862957,-0.431193597615 -1.50228232145,-1.23179726303 l-0.945110470057,-1.44378036261 -0.534182563424,-2.01259762049 l0.0298827677034,-1.79539784789 0.793601870537,-1.86699748039 l1.44679307938,-1.30687177181 1.94299027324,-0.688594803214 l1.861833781,0.186490323395 1.1995960772,0.638010576367 l1.50253593922,1.94521099329 0.479711219668,1.98661416769 l-0.180258490145,2.05837860703 -0.855532288551,1.70066386461 l-1.30089759827,1.23514644802 -1.5410104394,0.66421456635 l-1.74878329039,0.136394798756 -1.77588045597,-0.548914708197 l-1.38339862227,-0.964386984706 -1.02794721723,-1.2523317337 l-0.622630417347,-1.39489710331 -0.213790144771,-1.8799072504 l0.412322990596,-1.95822715759 1.08321800828,-1.74679413438 l1.59058943391,-1.28850445151 1.92352667451,-0.639469698071 l1.98539704084,0.0821901857853 1.82395637035,0.871904939413 l1.44033148885,1.57626777887 0.834851637483,2.01819136739 l0.193345230073,2.24871113896 -0.540384501219,2.20422878861 l-1.17030441761,1.85796111822 -1.6551887989,1.3395512104 l-1.9245916605,0.70099465549 -2.0797213912,0.101164123043 l-2.22871810198,-0.614823549986 -2.00275942683,-1.40483275056 l-1.35856702924,-1.56844317913 -0.871002823114,-1.6550257802 l-0.749308168888,-3.21202278137 -0.00580799125601,-1.3057667017 l0.467883609235,-1.49889588356 1.1748560518,-1.62497282028 l1.7875367403,-1.29726544023 2.17988744378,-0.773241072893 l2.4294616282,-0.163685847074 2.40732297301,0.49224037677 l3.26727300882,1.64078369737 2.0696491003,1.89732193947 l2.06369519234,3.09964954853 0.932184606791,2.85718768835 l0.35546336323,3.10953855515 0.000202012561203,5.41689038277 m-20.1725959778,-5.2276879549 l-1.75202399492,4.04411286116 -1.06275983155,4.59883779287 l-0.739552378654,12.7464997768 0.037835536059,8.085501194 l-0.0275861448608,5.40414571762 m26.114487648,-32.168943882 l0.999331995845,3.12596619129 2.42413237691,6.88061237335 l1.39953941107,6.05249524117 1.02269366384,8.25257182121 l0.000163108506968,6.27394795418 -0.342502109706,3.38847726583 m-27.255795002,-19.8354244232 l-1.55430927873,7.49498546124 -1.28623962402,5.57113289833 l-0.433988720179,4.07530874014 m22.7473092079,-17.7502667904 l1.11031733453,3.57902079821 1.47860229015,4.94891494513 l2.271438241,7.12309896946 1.39193177223,3.44785928726 m60.1620353143,-35.3352608246 l-0.2897214517,0.587812587619 1.41952157021,-0.392998233438 l1.67151510715,-0.731203854084 1.37638792396,-0.930840820074 l1.01051583886,-1.00315779448 1.09583958983,-1.66224732995 l0.630555152893,-1.7260850966 0.256909318268,-2.07543954253 l-0.270768906921,-2.35480949283 -1.04430824518,-2.38107308745 l-1.87510073185,-2.27837830782 -2.42104008794,-1.71989232302 l-2.81671613455,-0.984314903617 -2.82139718533,-0.186283420771 l-1.62838935852,0.300099160522 -1.97865903378,1.01822055876 l-1.82870864868,1.85397997499 -1.25446408987,2.32981458306 l-0.594518408179,2.68696248531 0.0580089585856,2.7909258008 l0.77082298696,2.5723567605 1.49608716369,2.37132519484 l2.01688706875,1.67852193117 2.65138953924,0.961076840758 l2.99756675959,0.101045994088 2.49218866229,-0.763403698802 m0.968399494886,-8.06509792805 l0.6774597615,-0.550461709499 1.65671989322,-1.99383363128 l1.83855652809,-2.07228004932 1.71840265393,-1.62154555321 l1.97679311037,-1.32843002677 2.2514526546,-0.777032449841 l2.10843503475,-0.0414996128529 1.99413865805,0.772984921932 l1.78311079741,1.5654540062 1.80922314525,3.22020828724 l0.424406901002,1.81534722447 3.18146277323e-06,2.51233130693 l-0.782775953412,2.40443617105 -0.84061101079,1.38730943203 l-1.73970758915,1.67105391622 -2.36640483141,1.13712236285 l-2.92883068323,0.548941604793 -2.84759700298,-0.184704549611 l-2.40778148174,-0.948068127036 -1.67140692472,-1.19739100337 l-1.13772571087,-1.32191061974 -0.670244172215,-1.38348519802 l-0.259956102818,-1.85474008322 0.438600219786,-1.99090346694 l1.19249910116,-2.00428590178 0.832584500313,-0.735272616148 l1.33888155222,-0.500722974539 m-0.994111299515,10.3073072433 l0.243837609887,2.43912324309 -0.219755135477,2.84842371941 l-0.106449918821,-0.683848559856 0.685851126909,-2.80724287033 l0.398278385401,-1.26787394285 m-13.6224329472,-13.1510734558 l-0.946778804064,0.0843221787363 -1.68425172567,0.00867019291036 l-2.50609129667,0.375709496439 -2.60334938765,1.04761265218 l-2.30983927846,1.78363367915 -1.85133799911,2.3888002336 l-1.31761327386,2.85398304462 -0.843483135104,3.30324977636 l-0.389884933829,3.84751498699 0.288501176983,6.71721339226 l0.90686134994,4.88281965256 1.48705303669,4.79319483042 l1.98850303888,4.33930724859 2.35775411129,3.46722960472 l2.67449259758,2.64666646719 1.24042391777,0.834004506469 l0.929750576615,0.303996074945 m19.8359549046,-44.0013217926 l3.22393238544,-0.46499568969 1.71001553535,0.202411916107 l2.61382967234,0.931677445769 2.76491880417,1.82843282819 l2.44478300214,2.78510093689 1.87362134457,3.51025789976 l1.18937551975,4.07903671265 0.593443773687,4.77149635553 l0.000193933810806,5.68268239498 -0.72044081986,4.79983866215 l-1.25711917877,4.62457627058 -1.54926806688,3.81411373615 l-1.83058023453,3.15899729729 -2.08693265915,2.55422174931 l-2.42932006717,2.06127822399 m-24.6427249908,-0.478206127882 l1.23849950731,1.86534866691 1.31601393223,2.61449843645 l0.242786593735,0.902624875307 -0.299029797316,0.400195755064 l-2.91016370058,0.978249385953 -1.67712897062,0.810805931687 l0.133565822616,0.264193955809 m4.64999973774,-3.07580202818 l0.640561357141,2.72059768438 0.30519861728,1.37642323971 m-0.0892219785601,-4.24035221338 l2.03107461333,2.14666709304 1.05288207531,0.654238760471 m13.773727417,-9.02986168861 l-0.0746673811227,3.92159193754 -0.884853675961,2.74321496487 m1.87799334526,-1.67354479432 l1.46858304739,1.8920019269 0.584039762616,1.17618367076 m-2.14285001159,-2.49502584338 l-1.29729032516,2.56952345371 m71.4254993243,-33.0966686894 l-0.187976304442,0.452267788351 1.53487965465,-0.32898593694 l1.49607867002,-0.55105086416 1.26441121101,-0.778191462159 l1.57057374716,-1.42666965723 1.04470707476,-1.46578133106 l1.25344455242,-2.69492715597 0.540732443333,-2.35145837069 l0.0829712022096,-2.87933707237 -0.556409955025,-2.90458470583 l-0.984913706779,-2.29029342532 -1.79319009185,-2.40485191345 l-1.86494097114,-1.64295300841 -2.72162348032,-1.3585293293 l-3.21414530277,-0.614845864475 -3.32707554102,0.195323843509 l-3.06251257658,1.04262880981 -2.56930440664,1.59309729934 l-2.10733115673,2.14680969715 -1.44533738494,2.5445497036 l-0.773588418961,2.81558930874 -0.045332997106,4.45234447718 l0.791839212179,2.8952306509 1.49026811123,2.66272127628 l2.01476305723,2.13598415256 2.47649878263,1.53955519199 l2.99783170223,0.896511152387 3.12295675278,0.200118403882 l2.94299006462,-0.476093329489 2.78834044933,-1.07152715325 m-8.37521135807,-16.01744771 l-1.02890022099,-0.419795289636 -1.74481749535,-0.351382233202 l-1.0478425771,0.25239828974 -0.994716361165,0.918539837003 l-0.589521564543,1.4048063755 -0.0124278070871,1.41011923552 l0.597231835127,1.33119389415 0.844067782164,0.866853743792 l1.39557570219,0.631159618497 1.67549192905,0.052415560931 l1.49297714233,-0.646614208817 1.09374701977,-1.36995360255 l0.492428578436,-1.46207079291 0.000354535222868,-1.3321891427 l-0.623515769839,-1.30399286747 -1.13534368575,-0.920945107937 m10.4460692406,0.325627438724 l-1.77306383848,-0.219300370663 -1.45424038172,0.445939861238 l-1.26704782248,1.09520614147 -0.732181072235,1.41888543963 l-0.129454918206,1.4448812604 0.487127006054,1.31523385644 l1.12877354026,1.04626134038 1.66548117995,0.579951182008 l1.66553303599,-0.0526623427868 1.35593861341,-0.679311901331 l0.932133197784,-1.20890341699 0.386377647519,-1.31328985095 l-0.208969525993,-1.57965824008 -0.92818364501,-1.46577104926 l-1.37417793274,-1.01687893271 m-17.3866736889,8.11955451965 l-1.17545366287,1.29259228706 -0.753103420138,1.43652677536 l-1.90557003021,7.04393029213 -0.358428508043,4.2613491416 l0.27500692755,4.19945567846 0.953074246645,4.27902966738 l1.50306835771,3.96722435951 1.81259915233,3.20818036795 l2.23480209708,2.68286317587 2.46234744787,1.95277944207 l1.15884073079,0.6107128039 2.1034437418,0.589759647846 m14.749007225,-34.9310851097 l1.78573057055,3.20432901382 0.992513224483,2.68241465092 l1.02039672434,4.1892978549 0.49145039171,4.66794550419 l-0.152882058173,4.8122176528 -0.906429067254,4.43089962006 l-1.41072943807,3.78929406404 -1.70315384865,2.89524912834 l-1.94840356708,2.28449091315 -2.20492869616,1.69781565666 l-2.36443787813,1.11922375858 -2.6521551609,0.643809363246 m-7.73442685604,-2.59807944298 l-0.416760928929,1.89883172512 -0.516078099608,2.93831050396 l-0.342504270375,1.69877305627 -0.116688488051,1.65951043367 l0.178079605103,0.570930950344 m11.6881144047,-8.90400052071 l0.750021860003,3.40725243092 0.240228120238,4.45012420416 m-14.3153071404,0.0727209961042 l-1.88073828816,0.851015299559 -1.4274635911,0.798488780856 m4.36288774014,-1.7517220974 l0.452362298965,1.60497531295 1.33767992258,2.05028906465 m-1.06341809034,-3.81730884314 l1.84757202864,0.995146036148 m85.4610847589,-28.6411582888 l-0.122058466077,0.292502269149 1.41374722123,-0.267651043832 l1.20456069708,-0.341838225722 1.18852838874,-0.516486018896 l1.51842400432,-0.900338739157 1.2544503808,-0.959184020758 l1.77424043417,-1.70936003327 1.35677278042,-1.72647744417 l1.07739597559,-2.06643804908 0.777370110154,-2.61670976877 l0.282361526042,-3.21431934834 -0.391806997359,-3.36706489325 l-0.908855497837,-2.74637699127 -1.98031425476,-3.18699419498 l-2.13565185666,-2.11031898856 -2.19327971339,-1.36632084846 l-3.13248842955,-1.04473553598 -3.81794154644,-0.347241610289 l-3.85713070631,0.535974092782 -3.37862223387,1.23615391552 l-2.82583713531,1.69260755181 -2.32044920325,2.18126893044 l-1.70049786568,2.61478692293 -0.996133089066,2.8907597065 l-0.339740663767,3.11284899712 0.311271473765,3.14265966415 l1.04517690837,3.07004570961 1.66593015194,2.84574568272 l2.09277793765,2.3038931191 2.53167778254,1.78532481194 l2.97966748476,1.18753455579 3.32467317581,0.506665743887 l3.49489241838,-0.110058672726 3.05167078972,-0.769943147898 l2.54689246416,-1.19751088321 m-12.4075293541,-17.6217830181 l-0.774320587516,0.202901456505 -0.742997601628,0.614993236959 l-0.713360011578,1.18761748075 -0.319996997714,1.45726874471 l0.217857901007,1.32692083716 0.784210339189,1.11003324389 l1.31416261196,0.733492970467 1.63881927729,0.144900688902 l2.07807570696,-0.846018493176 0.769848972559,-0.712713450193 l0.542110279202,-1.25958502293 -0.102342627943,-1.5831233561 l-0.880430266261,-1.48419618607 -1.47055879235,-1.11717805266 l-1.64791762829,-0.481187440455 m10.913939476,0.206074472517 l-1.42318129539,0.533896423876 -1.20698347688,1.17858529091 l-0.629334747791,1.42548650503 -0.0445525720716,1.50463238358 l0.556267537177,1.26493990421 1.15925349295,0.970877632499 l1.585611552,0.45261990279 1.57243639231,-0.169600900263 l1.22358754277,-0.781953781843 0.806779712439,-1.07002750039 l0.345271788538,-1.21569536626 -0.237434674054,-1.5008918941 l-1.04561656713,-1.44907653332 -1.58503547311,-0.982264429331 l-1.7965143919,-0.416028089821 m-14.8823952675,17.7228760719 l-2.11115568876,2.05496579409 -1.14693805575,1.6807346046 l-1.21930629015,2.74957031012 -0.822295248508,3.50178450346 l-0.290075615048,3.82921457291 0.31195897609,3.80017012358 l0.920411646366,3.59497278929 1.43183425069,3.33432734013 l1.82123973966,2.64538884163 0.907284617424,0.871482118964 m21.1650657654,-28.7541031837 l2.2145614028,1.99273571372 1.44163966179,1.87797904015 l1.74516931176,3.31562548876 1.18108250201,3.86102735996 l0.579578764737,4.34621453285 -0.0402855547145,4.30673003197 l-0.66558085382,3.86992841959 -1.05718001723,3.0907779932 l-1.20934650302,2.10928231478 m-23.5390138626,-20.5561280251 l-0.603663958609,4.76245164871 -0.780398771167,4.42544549704 l-0.665933489799,5.57176530361 0.122271738946,3.17851632833 l0.652922168374,2.40011319518 1.12430743873,1.92453473806 l1.6043612361,1.41893625259 0.940688103437,0.444340333343 l1.74066022038,0.344053283334 2.51552045345,-0.0280260806903 l2.95843958855,-0.570500232279 2.98940211535,-1.13277226686 l2.41677239537,-1.39263391495 2.38490387797,-2.08700954914 l0.859412550926,-1.18421800435 0.928147062659,-2.17541232705 l0.515571907163,-3.16080629826 -0.172153767198,-3.91518712044 l-0.85740275681,-3.69715303183 -1.24616391957,-2.98119276762 m-16.9395887852,4.18613016605 l0.293333660811,3.30430626869 -0.185738634318,4.76188093424 l-0.800539702177,3.29450279474 -0.958092361689,1.89645662904 l-1.10411904752,1.14620521665 m17.924861908,-15.716688633 l0.431976132095,3.50521743298 1.09431914985,4.24783051014 l1.619104743,3.56301337481 1.84101045132,2.39419654012 l1.93935930729,1.44299715757 m64.9138961779,-17.2976394463 l-0.0574025278911,0.125472173095 1.38811156154,-0.247126147151 l0.948395505548,-0.063795549795 1.42306879163,-0.186346452683 l2.33640179038,-0.606453754008 3.79644155502,-1.57763630152 l3.61820816994,-1.53117880225 2.23832502961,-1.21396504343 l1.76332354546,-1.56755715609 1.44436970353,-2.25868850946 l1.5313012898,-4.92649048567 0.0478222081438,-4.42299991846 l-0.716336593032,-3.49650412798 -1.3274499774,-3.07463616133 l-2.38101348281,-3.52916657925 -3.17979305983,-3.08341771364 l-2.86504566669,-1.85758605599 -2.69124031067,-1.14215753973 l-3.85306239128,-0.916947498918 -6.26155018806,-0.0883734412491 l-2.40400895476,0.489737540483 -3.23617756367,1.15840241313 l-3.05072009563,1.77620306611 -2.44099721313,2.27585822344 l-1.84156626463,2.71849602461 -1.18687152863,3.05198669434 l-0.582468733191,3.44010293484 0.0257996143773,3.49428832531 l0.655336230993,3.52275937796 1.26809090376,3.52335184813 l1.80055335164,3.24880421162 2.24651128054,2.78666555882 l2.6345422864,2.26796925068 2.9613006115,1.64060011506 l3.54351788759,1.04031801224 3.70462268591,0.333699248731 l3.4010720253,-0.339111201465 3.05860579014,-0.951635763049 l2.67242431641,-1.34411975741 0.965047478676,-0.766441300511 m-16.5909385681,-22.7165865898 l-1.07213661075,0.747169107199 -0.875696763396,1.16474293172 l-0.442987121642,1.14653714001 -0.08525502868,1.96448728442 l0.604343041778,1.42683133483 1.18760414422,1.09809890389 l1.62451773882,0.533256046474 1.7049305141,-0.145495766774 l1.49362504482,-0.879479646683 1.05169735849,-1.21812112629 l0.520055033267,-1.358833462 0.0413706852123,-1.34445339441 l-0.389446727931,-1.17366053164 -1.14323742688,-1.38146772981 l-1.71715512872,-1.02337568998 -1.7593921721,-0.336025469005 m11.6854023933,0.0391293223947 l-1.34265959263,0.803746283054 -0.744244009256,0.91232702136 l-0.792749002576,2.11095809937 0.0613183807582,1.64979994297 l1.02739140391,1.92827701569 1.35746866465,0.944683849812 l1.64482757449,0.30887728557 1.49925202131,-0.337259843946 l1.17707923055,-0.942958891392 0.780183672905,-1.46111220121 l0.241610947996,-1.53105810285 -0.422731935978,-1.77947983146 l-1.17667593062,-1.52758136392 -1.58769860864,-0.992448180914 l-1.76968351007,-0.424475260079 m-16.6152882576,21.6921639442 l-1.47558286786,1.59270107746 -0.924712494016,1.58827781677 l-1.49607613683,4.17449355125 -0.525637194514,3.55935394764 l0.042442297563,3.41813594103 0.605527274311,3.15250962973 l1.11830540001,2.75424063206 1.54634714127,2.2788143158 l0.824737623334,0.771394073963 m24.3228936195,-24.5614552498 l2.22681224346,2.30008512735 1.29995182157,1.9416859746 l1.43618836999,3.126514256 0.994467362761,3.85830700397 l0.356894917786,4.08508419991 -0.249420851469,3.87405186892 l-0.795483514667,3.22095781565 -1.03706598282,2.28277862072 m-26.3152766228,-20.4092907906 l-0.641469806433,2.20088228583 -1.05184234679,3.82801324129 l-0.546710006893,3.87828707695 0.113907763734,5.32856404781 l0.768936574459,3.11512261629 1.18299081922,2.42916688323 l0.64345151186,0.767844319344 m18.3163678646,-22.5034785271 l1.99407920241,2.50050276518 1.13989174366,2.14783981442 l1.13236896694,3.46923828125 0.643391832709,4.0694206953 l0.148541079834,6.169308424 -0.505171641707,3.2990244031 m69.177477404,-23.1834419025 l-0.0218467786908,-0.0442713266239 1.04497142136,-0.167919546366 l0.741835236549,-0.208605844527 1.17027483881,-0.549428500235 l2.31818825006,-2.00568675995 1.50543361902,-1.4749725163 l1.49774551392,-1.72344341874 1.44687473774,-2.02636986971 l1.27935990691,-2.28100389242 1.03081718087,-2.92002677917 l0.513221733272,-3.33523482084 -0.201358161867,-3.68562251329 l-0.777899771929,-3.02635043859 -1.77035346627,-3.52385699749 l-2.74096369743,-3.34115535021 -3.25879216194,-2.40716904402 l-2.84488201141,-1.24858081341 -2.70256191492,-0.632658004761 l-3.67157965899,-0.172360111028 -3.73489022255,0.638477727771 l-3.42700362206,1.32399737835 -2.69399553537,1.71444162726 l-2.29724302888,2.29691907763 -1.66563227773,2.68823862076 l-1.09768800437,3.13150376081 -0.446979999542,3.29409718513 l0.226791128516,3.165628016 0.903538241982,3.20365041494 l1.55511036515,3.35791647434 2.1425832808,3.19261282682 l3.64270716906,3.570497334 2.90248662233,1.80498570204 l3.2160577178,1.14247106016 3.45156848431,0.492207184434 l3.38301241398,-0.168100744486 2.95180350542,-0.85308752954 l2.4194329977,-1.26083940268 m-14.1444051266,-22.5772881508 l-1.29925444722,0.928770452738 -0.925448462367,1.21338129044 l-0.443179868162,1.09266296029 -0.10179576464,1.85174360871 l0.577595122159,1.34470924735 1.15277506411,1.06825038791 l1.54815644026,0.521282888949 1.70072942972,-0.082412911579 l1.41783028841,-0.737019851804 1.0348546505,-1.06556005776 l0.576333925128,-1.23121775687 0.0440031196922,-1.66181415319 l-0.458013117313,-1.39023140073 -1.16166479886,-1.49489879608 l-1.55064284801,-0.960729420185 -1.66344866157,-0.356040224433 l-1.45626917481,0.246513783932 m11.750998497,0.298225060105 l-1.28245294094,0.822180360556 -1.06260307133,1.5127903223 l-0.515319928527,1.65777400136 0.0821632519364,1.55090525746 l0.400361791253,0.972713753581 1.41737386584,1.46383449435 l1.20569229126,0.557778552175 1.47540867329,0.150226447731 l1.41328379512,-0.412266477942 1.15521200001,-0.983411744237 l0.693703070283,-1.49019271135 0.112685654312,-1.51093706489 l-0.378195010126,-1.37731894851 -0.770958662033,-1.19338423014 l-1.52154758573,-1.23615242541 -1.97164177895,-0.754982158542 l-1.9938609004,-0.139952208847 m-13.5871851444,23.9373040199 l-0.716662555933,1.10230416059 -0.818128436804,2.39650666714 l-0.59354364872,3.48168492317 -0.0530079519376,3.47332715988 l0.529155321419,3.37948948145 1.07448719442,3.0787691474 l1.55734658241,2.740419209 1.92435145378,2.11554840207 l0.930600166321,0.684818252921 1.63902118802,0.682142600417 m16.7516815662,-25.0699782372 l1.81989550591,2.57536351681 1.09252408147,2.29210346937 l1.06281101704,3.53599399328 0.511496923864,3.99783551693 l-0.108988052234,3.96263718605 -0.735244974494,3.33522975445 l-1.120955199,2.67615824938 -1.30219608545,1.83666422963 m-18.4042620659,-0.0267629511654 l1.26157850027,0.575641468167 2.89372742176,0.728015080094 l5.4144692421,0.326310656965 5.78520715237,-0.666161254048 l3.4782487154,-0.889534875751 2.31156691909,-0.97481675446 m-16.8397510052,2.52858549356 l-1.60124629736,2.16804265976 -1.4199231565,2.13426053524 m60.4609732307,-22.3069073772 l-0.00805347342975,-0.22866839543 0.80904237926,-0.134103288874 l0.538627021015,-0.257161557674 1.01416513324,-1.4830365777 l0.437189154327,-1.33565455675 0.505133904517,-4.63145017624 l0.281226392835,-2.42089241743 0.378207154572,-2.78954178095 l0.671486482024,-3.11190843582 1.07017837465,-3.11441123486 l1.61507725716,-3.0766928196 2.07251444459,-2.61618643999 l2.47536689043,-1.89399749041 2.98363178968,-1.15236625075 l3.17951828241,-0.217405576259 2.80457675457,0.778354182839 l2.40784645081,1.56984955072 2.33695149422,2.55312055349 l1.74861937761,3.1947901845 1.25060141087,3.89918714762 l1.05337902904,6.0710734129 1.23464375734,9.39451396465 l0.873564332724,2.61529415846 0.796081125736,0.785801112652 l1.06245011091,0.042889546603 1.47432073951,-0.587096437812 l2.87613421679,-2.07695052028 3.64212185144,-3.50750476122 l2.0566727221,-2.87501990795 1.41004800797,-3.04448723793 l0.889382138848,-3.37794572115 0.21817099303,-3.56764316559 l-0.544289201498,-4.09598439932 -1.46902218461,-4.1275754571 l-2.28022113442,-3.73181164265 -2.80115038157,-2.89021462202 l-3.29306155443,-2.18110352755 -3.75498265028,-1.51526346803 l-4.04302626848,-0.927888005972 -4.61189210415,-0.432988479733 l-4.86578732729,0.253082029521 -4.28817242384,0.93796916306 l-3.98521482944,1.473454386 -3.33496838808,1.85042798519 l-2.8324508667,2.26339325309 -2.2660382092,2.63331532478 l-1.59333691001,2.86032140255 -0.958452671766,3.07814031839 l-0.4929003492,4.95414763689 0.191812012345,2.10042059422 l0.844898447394,3.13801974058 1.48840799928,3.08711916208 l1.946246773,2.68219918013 2.38800644875,2.26122066379 l2.90750682354,1.77614614367 3.48592311144,1.27018421888 l3.90362560749,0.760209038854 3.99414747953,0.252858251333 l3.84513318539,-0.264197867364 3.73536497355,-0.811694562435 l3.17418932915,-1.18902936578 2.52992391586,-1.47469460964 l1.97921007872,-1.78496822715 m-23.4752869606,-21.4619398117 l-0.615956485271,1.36304721236 -0.225234739482,1.45961359143 l0.144657492638,1.18220739067 0.651713982224,1.26003414392 l1.24616518617,0.951287448406 1.64295583963,0.353335700929 l1.58035188913,-0.342350378633 1.28230765462,-1.04927934706 l0.761162191629,-1.2349345535 0.303936507553,-1.26874193549 l-0.286912359297,-1.56825691462 -0.747836977243,-1.19184911251 l-1.02041125298,-0.840932577848 -1.59362465143,-0.539566203952 l-1.71052351594,0.0579433981329 -1.34528666735,0.630476847291 m14.4453036785,-0.709572806954 l-1.01718142629,1.22802138329 -0.45190744102,1.13582566381 l-0.180477071553,2.23550900817 0.23531768471,1.09385021031 l0.824175029993,1.24586082995 1.33751660585,0.770316794515 l1.70816943049,0.191407836974 2.21535220742,-0.673794597387 l0.849741473794,-0.626746118069 0.69383636117,-1.18653543293 l0.13765973039,-1.6700668633 -0.702465102077,-1.72910660505 l-1.07230193913,-1.30699306726 -1.71612933278,-1.0595227778 l-2.0485752821,-0.48552043736 -1.89113155007,0.164734702557 m-15.7962739468,25.9150505066 l0.553001612425,2.88203120232 0.403770394623,4.52925860882 l-0.250492282212,3.05203258991 -0.670643374324,2.67795324326 l-1.0216281563,1.66084483266 m27.1145319939,-17.2119188309 l0.773303434253,3.34966540337 1.59437477589,4.56205517054 l3.09601485729,5.75450003147 0.958997011185,1.0641336441 m-28.5979008675,2.88556814194 l0.261672586203,2.07826018333 -0.126889962703,2.76289135218 l-0.5218353495,1.34159848094 m19.7549021244,-7.71746993065 l0.9644382447,3.10187339783 0.861584842205,4.04470771551 \" fill=\"none\" stroke=\"black\" stroke-width=\"1\"/></svg>"
      ],
      "text/plain": [
       "<IPython.core.display.SVG object>"
      ]
     },
     "metadata": {},
     "output_type": "display_data"
    }
   ],
   "source": [
    "stroke_grid = make_grid_svg(reconstructions)\n",
    "draw_strokes(stroke_grid)"
   ]
  },
  {
   "cell_type": "markdown",
   "metadata": {
    "colab_type": "text",
    "id": "OiXNC-YsFQv0"
   },
   "source": [
    "Let's load the model trained on both cats and buses!  catbus!"
   ]
  },
  {
   "cell_type": "code",
   "execution_count": 63,
   "metadata": {
    "colab": {},
    "colab_type": "code",
    "id": "SL7WpDDQFQv0"
   },
   "outputs": [],
   "source": [
    "model_dir = '/tmp/sketch_rnn/models/catbus/lstm'"
   ]
  },
  {
   "cell_type": "code",
   "execution_count": 64,
   "metadata": {
    "colab": {
     "base_uri": "https://localhost:8080/",
     "height": 255
    },
    "colab_type": "code",
    "id": "Cvk5WOqHFQv2",
    "outputId": "8081d53d-52d6-4d18-f973-a9dd44c897f2"
   },
   "outputs": [
    {
     "name": "stdout",
     "output_type": "stream",
     "text": [
      "INFO:tensorflow:Model using gpu.\n",
      "INFO:tensorflow:Input dropout mode = False.\n",
      "INFO:tensorflow:Output dropout mode = False.\n",
      "INFO:tensorflow:Recurrent dropout mode = False.\n",
      "INFO:tensorflow:Model using gpu.\n",
      "INFO:tensorflow:Input dropout mode = 0.\n",
      "INFO:tensorflow:Output dropout mode = 0.\n",
      "INFO:tensorflow:Recurrent dropout mode = 0.\n",
      "INFO:tensorflow:Model using gpu.\n",
      "INFO:tensorflow:Input dropout mode = 0.\n",
      "INFO:tensorflow:Output dropout mode = 0.\n",
      "INFO:tensorflow:Recurrent dropout mode = 0.\n",
      "INFO:tensorflow:Loading model /tmp/sketch_rnn/models/catbus/lstm/vector.\n",
      "INFO:tensorflow:Restoring parameters from /tmp/sketch_rnn/models/catbus/lstm/vector\n"
     ]
    }
   ],
   "source": [
    "[hps_model, eval_hps_model, sample_hps_model] = load_model_compatible(model_dir)\n",
    "# construct the sketch-rnn model here:\n",
    "reset_graph()\n",
    "model = Model(hps_model)\n",
    "eval_model = Model(eval_hps_model, reuse=True)\n",
    "sample_model = Model(sample_hps_model, reuse=True)\n",
    "sess = tf.InteractiveSession()\n",
    "sess.run(tf.global_variables_initializer())\n",
    "# loads the weights from checkpoint into our model\n",
    "load_checkpoint(sess, model_dir)"
   ]
  },
  {
   "cell_type": "code",
   "execution_count": 65,
   "metadata": {
    "colab": {
     "base_uri": "https://localhost:8080/",
     "height": 106
    },
    "colab_type": "code",
    "id": "icvlBPVkFQv5",
    "outputId": "f7b415fe-4d65-4b00-c0eb-fb592597dba2"
   },
   "outputs": [
    {
     "data": {
      "image/svg+xml": [
       "<svg baseProfile=\"full\" height=\"95.2635555528\" version=\"1.1\" width=\"109.168371558\" xmlns=\"http://www.w3.org/2000/svg\" xmlns:ev=\"http://www.w3.org/2001/xml-events\" xmlns:xlink=\"http://www.w3.org/1999/xlink\"><defs/><rect fill=\"white\" height=\"95.2635555528\" width=\"109.168371558\" x=\"0\" y=\"0\"/><path d=\"M42.2145499705,43.7441330725 m0.566277094185,-0.504780672491 l1.50211200118,-0.445839203894 5.97231030464,-2.02628806233 l2.00597986579,-0.34167997539 2.8439617157,-0.000239344844886 l3.55916112661,0.790818929672 0.839343592525,-1.96161314845 l2.28667616844,-6.55397176743 3.77394199371,-7.70053982735 l0.705096423626,0.881511047482 1.68573603034,5.82628726959 l2.59948462248,8.57427597046 1.17225021124,3.84887725115 m-30.1117801666,-0.772153958678 l-2.81055957079,-4.03865456581 -2.25960105658,-2.71619021893 l-2.33211755753,-2.05929547548 -2.19359457493,-1.10696472228 l-0.353780500591,0.881852731109 -3.98330075768e-05,5.3347671032 l0.604802705348,8.72686624527 0.281925071031,2.3796929419 l0.986271873116,2.9038631916 1.93645343184,3.20988416672 l1.98130235076,2.22645387053 3.51208776236,2.70828455687 l4.55674052238,2.23482131958 5.47308444977,1.49991765618 l5.8206397295,0.451647154987 2.23441720009,-0.180474966764 l3.93290430307,-0.978019088507 3.35364639759,-1.45807728171 l3.82553517818,-2.69672214985 3.39221209288,-3.85787516832 l1.02440394461,-1.81244328618 1.13111838698,-3.2431653142 l0.602820962667,-4.04947549105 -2.61671652879e-05,-3.27544271946 l-0.382648929954,-2.22207486629 -0.647875368595,-1.09412007034 l-1.47406890988,-1.00840717554 m-23.9510250092,12.0863032341 l0.14365687035,-0.760051682591 0.46446852386,-0.976264923811 l2.31339767575,-1.98487877846 2.58737295866,-1.23203709722 l0.892668366432,3.05641651154 -0.328616984189,1.05256177485 l-1.84286251664,2.37927436829 -1.46466419101,0.51119543612 l-1.83833032846,-0.202740821987 -1.16414703429,-1.66165322065 l0.0250413571484,-1.63406446576 m-0.203965995461,0.577808432281 l-6.61329805851,1.28358885646 -8.79487335682,2.0234335959 l-7.2023576498,2.10818350315 -1.83361947536,0.559586286545 m23.6084747314,-3.64680439234 l-1.82520106435,0.682465806603 -7.5413185358,4.0447089076 l-8.33040356636,5.21915972233 -2.02143460512,1.30130589008 m20.7445597649,-9.12266433239 l-6.40121102333,5.98379552364 -7.41498291492,6.77806079388 l-1.8026407063,1.71742066741 m25.8454656601,-20.7300186157 l9.65742945671,-1.43295228481 7.19723761082,-1.24915465713 l4.08067047596,-0.77550560236 m-20.9821271896,7.00305879116 l10.4873764515,1.65510416031 10.1794075966,1.06434859335 l3.68706941605,0.644154399633 m-24.1901612282,-0.056030661799 l9.28211390972,5.14325976372 6.28212273121,3.52912604809 l5.26541054249,2.96693861485 m-32.6566696167,-21.4819550514 l-0.130545273423,0.761386007071 0.655079483986,-0.250191967934 l0.228924397379,-0.388738512993 -0.571465939283,0.132575156167 m10.5274832249,-1.23708277941 l-0.182929839939,0.929275155067 0.117143802345,-0.869717076421 \" fill=\"none\" stroke=\"black\" stroke-width=\"1\"/></svg>"
      ],
      "text/plain": [
       "<IPython.core.display.SVG object>"
      ]
     },
     "metadata": {},
     "output_type": "display_data"
    }
   ],
   "source": [
    "z_1 = np.random.randn(eval_model.hps.z_size)\n",
    "_ = decode(z_1)"
   ]
  },
  {
   "cell_type": "code",
   "execution_count": 66,
   "metadata": {
    "colab": {
     "base_uri": "https://localhost:8080/",
     "height": 88
    },
    "colab_type": "code",
    "id": "uaNxd0LuFQv-",
    "outputId": "4de5ee9a-cf14-49f4-e5f5-399a0d0b8215"
   },
   "outputs": [
    {
     "data": {
      "image/svg+xml": [
       "<svg baseProfile=\"full\" height=\"75.9936520729\" version=\"1.1\" width=\"106.309673939\" xmlns=\"http://www.w3.org/2000/svg\" xmlns:ev=\"http://www.w3.org/2001/xml-events\" xmlns:xlink=\"http://www.w3.org/1999/xlink\"><defs/><rect fill=\"white\" height=\"75.9936520729\" width=\"106.309673939\" x=\"0\" y=\"0\"/><path d=\"M25.623769894,27.77779127 m-0.271937008947,15.2370095253 l-0.237570926547,0.383067168295 10.079344511,-0.184699259698 l3.93107801676,-0.105637386441 16.7973017693,0.000213733910641 l9.27388548851,-0.473846867681 16.1138021946,-0.467347353697 l-0.0153516267892,-7.81197845936 -0.827872529626,-5.89377760887 l-1.30347281694,-3.07927101851 -0.840629786253,-0.381523743272 l-7.7703756094,9.863766536e-05 -6.26756131649,0.118649220094 l-11.1983013153,0.000131954420795 -9.59226548672,0.377377197146 l-7.59176671505,-4.56762745671e-05 -3.55856090784,0.182602386922 l-2.89751589298,0.280361417681 -2.2207801044,0.45092150569 l-1.3825340569,0.544459372759 -0.842685773969,0.741168931127 m8.72345328331,13.1366240978 l-1.32164999843,0.834862887859 -0.706381052732,0.981914997101 l-0.592871420085,1.78117871284 -0.000166145964613,2.1971128881 l0.554634109139,1.4495010674 0.975641459227,1.15737847984 l1.26288622618,0.796921476722 2.10314378142,0.527538582683 l2.28696286678,-6.38641495243e-05 1.38323605061,-0.91366045177 l1.02873489261,-1.27450242639 0.832075253129,-2.09237471223 l-8.20082277642e-05,-2.04547598958 -0.859287828207,-1.4525732398 l-1.48476734757,-1.06251679361 -2.27900877595,-0.839326381683 l-2.04618752003,-0.000130700882437 -1.12073346972,0.836511701345 l-0.650843307376,1.0069707036 -9.8611053545e-05,1.27412974834 l0.956255346537,1.10852099955 m34.4318008423,-4.55608934164 l-1.18033178151,0.363961309195 -0.887292772532,0.729109495878 l-1.03275179863,1.68922185898 -0.416445322335,1.53711184859 l-0.000120949307529,2.1205124259 0.521782264113,1.51679500937 l0.900886952877,1.13927207887 1.21501304209,0.834171772003 l1.46649166942,0.515318885446 2.08118617535,-5.75057538299e-05 l1.31633728743,-0.715257450938 1.12512722611,-1.08106784523 l0.825380757451,-1.31095409393 0.511386245489,-1.44878163934 l4.96095572089e-05,-2.12713733315 -0.75406730175,-1.49602532387 l-1.24025121331,-1.12612441182 -1.26369208097,-0.758743658662 l-1.33566662669,-0.465965643525 -1.82505831122,-0.000132271425173 l-0.820026025176,0.292348824441 -0.805268734694,0.649581775069 l-0.564106293023,0.977062061429 7.29937801225e-05,1.15825079381 m0.301127750427,-17.0565211773 l-0.288287363946,1.58933386207 -2.08959841075e-05,2.7446782589 l0.573487319052,1.1601319164 0.910771489143,0.434219613671 l2.51268327236,-2.71963608611e-05 1.39703929424,-0.524353384972 l0.575052425265,-0.837885290384 -0.00016207121007,-1.83485403657 l-0.60612205416,-1.36093303561 -0.673946142197,-0.630792379379 l-0.89452303946,-0.381799004972 -2.17378169298,-8.08989716461e-05 l-1.43879249692,0.331563353539 -1.05494245887,0.398784317076 m-7.16669559479,-0.553145781159 l-0.244489591569,0.888989940286 -0.000129011177705,2.77679771185 l0.871815532446,0.497048608959 1.9405426085,3.00433316625e-05 l0.764747932553,-0.541854389012 0.328875593841,-0.87400726974 l-0.000152900447574,-1.6677223146 -0.512998215854,-0.708517208695 l-0.872283652425,-0.395867675543 -1.98731184006,-3.99986311095e-05 l-1.25682234764,0.654552280903 \" fill=\"none\" stroke=\"black\" stroke-width=\"1\"/></svg>"
      ],
      "text/plain": [
       "<IPython.core.display.SVG object>"
      ]
     },
     "metadata": {},
     "output_type": "display_data"
    }
   ],
   "source": [
    "z_0 = np.random.randn(eval_model.hps.z_size)\n",
    "_ = decode(z_0)"
   ]
  },
  {
   "cell_type": "markdown",
   "metadata": {
    "colab_type": "text",
    "id": "VtSYkS6mFQwC"
   },
   "source": [
    "Let's interpolate between a cat and a bus!!!"
   ]
  },
  {
   "cell_type": "code",
   "execution_count": 67,
   "metadata": {
    "colab": {},
    "colab_type": "code",
    "id": "qIDYUxBEFQwD"
   },
   "outputs": [],
   "source": [
    "z_list = [] # interpolate spherically between z_1 and z_0\n",
    "N = 10\n",
    "for t in np.linspace(0, 1, N):\n",
    "  z_list.append(slerp(z_1, z_0, t))\n",
    "# for every latent vector in z_list, sample a vector image\n",
    "reconstructions = []\n",
    "for i in range(N):\n",
    "  reconstructions.append([decode(z_list[i], draw_mode=False, temperature=0.15), [0, i]])"
   ]
  },
  {
   "cell_type": "code",
   "execution_count": 68,
   "metadata": {
    "colab": {
     "base_uri": "https://localhost:8080/",
     "height": 112
    },
    "colab_type": "code",
    "id": "ZHmnSjSaFQwH",
    "outputId": "38fe3c7e-698b-4b19-8851-e7f3ff037744"
   },
   "outputs": [
    {
     "data": {
      "image/svg+xml": [
       "<svg baseProfile=\"full\" height=\"106.587970965\" version=\"1.1\" width=\"835.213567251\" xmlns=\"http://www.w3.org/2000/svg\" xmlns:ev=\"http://www.w3.org/2001/xml-events\" xmlns:xlink=\"http://www.w3.org/1999/xlink\"><defs/><rect fill=\"white\" height=\"106.587970965\" width=\"835.213567251\" x=\"0\" y=\"0\"/><path d=\"M25,25.4006429389 m0.0,0.0 m29.5148516539,16.6982347704 l0.574388429523,-0.521474443376 1.52136221528,-0.476975403726 l6.09658479691,-2.15441614389 2.0303222537,-0.34690015018 l3.81667971611,-0.0536087341607 2.53930181265,0.449616648257 l3.0879175663,1.22716292739 5.49576163292,-1.52309179306 l4.84006494284,-7.28996694088 3.79354119301,-6.40922367573 l0.316013395786,1.05461396277 0.442127808928,13.5845661163 l0.112494910136,4.04227733612 -0.157530643046,1.15516744554 l-1.12150348723,2.86730378866 -0.987507179379,1.86864346266 l-2.92296886444,4.04431372881 -3.39521080256,3.04427325726 l-5.66068828106,3.92659902573 -6.25028073788,3.45061719418 l-6.6941434145,2.13336572051 -7.00015306473,0.418346188962 l-6.22335851192,-2.01068997383 -2.33575880527,-1.92929387093 l-1.4915163815,-2.03065186739 -1.71886116266,-3.9144551754 l-1.05833657086,-4.95352357626 -0.254067704082,-5.238057971 l0.98884254694,-7.41915285587 0.643548890948,-3.1686347723 l1.06194727123,-3.38601529598 2.13001102209,-3.99584770203 l0.755685120821,0.393497906625 2.52615898848,5.13750493526 l2.50529706478,4.85476136208 2.05883175135,3.29039931297 l0.828361287713,0.86006000638 m2.18568325043,12.534635067 l-0.762448981404,2.9479303956 -0.387221463025,2.44957268238 l-0.187100954354,2.57033348083 0.26788327843,2.37543255091 l0.97269423306,2.04128026962 1.36863052845,1.40195906162 l2.61976927519,1.19804263115 3.32979172468,0.402695424855 l3.5262581706,-0.448193885386 5.32674908638,-2.36085221171 l3.20832908154,-2.57268488407 0.850397273898,-1.2150490284 l0.793775171041,-2.32304170728 0.12986568734,-3.30291777849 l-0.458420738578,-1.56777814031 -1.43116399646,-1.97379425168 m-15.7298433781,1.3876645267 l-2.219042629,0.5714898929 -6.52173936367,2.22528979182 l-7.23941445351,2.36246809363 -6.83610618114,2.29509726167 m21.7852377892,-4.75187093019 l-1.56887024641,0.426455102861 -7.85601615906,4.11672741175 l-8.27020585537,5.10873675346 -1.73360958695,1.46066948771 m19.8492014408,-9.96750354767 l-5.93905866146,5.48551380634 -6.79578721523,6.55364334583 l-2.11960807443,2.24639862776 m27.0311808586,-19.5568406582 l9.54653143883,-1.8213211 6.65664792061,-1.43860727549 l2.36058160663,-0.229391641915 m-18.3750247955,6.75381720066 l10.4026949406,1.14032693207 6.66434466839,1.12935572863 l1.76362335682,0.602842979133 m-19.5472121239,0.617089085281 l8.49166929722,4.85127389431 5.58121800423,3.48112463951 l6.79016768932,3.87336522341 m-31.9079017639,-23.7377691269 l-0.259230062366,1.44289731979 0.162222515792,-0.946894213557 m10.2738392353,-2.02207028866 l-0.306640584022,2.14324370027 m46.443874184,0.119894100353 l0.547760538757,0.420063212514 1.67760074139,1.05939462781 l6.80751264095,1.09063252807 3.98839056492,-0.206663776189 l4.7660279274,-0.759270787239 5.54319739342,-1.22678749263 l9.13488924503,-3.18948119879 9.15236234665,-4.01235163212 l0.687398388982,-1.48192942142 0.481587275863,-3.06297779083 l-0.0979846157134,-2.89741963148 0.0347616523504,-2.79618829489 l0.657730922103,-3.5203897953 1.46513983607,-2.94342845678 l1.69645741582,-0.452479682863 2.91221767664,0.386939756572 l2.22039848566,0.893664211035 2.89588481188,2.04528495669 l1.03120669723,3.60024929047 0.349763557315,8.33069741726 l0.0838523823768,9.71152424812 -0.223727300763,8.31798315048 l-0.347094200552,5.2929264307 -0.481512993574,3.76672774553 l-0.332166440785,2.54185765982 -0.889499559999,0.483981594443 l-4.32470709085,-0.393605306745 -2.30052739382,-0.657320767641 l-1.42821624875,-3.79089891911 -1.16448789835,-4.63636279106 l-1.36205047369,-2.89791315794 -1.2938657403,-1.01672083139 l-3.46834272146,0.0914038531482 -0.610618777573,0.870112031698 l-0.377264209092,2.56025701761 -0.232569947839,8.30914676189 l-0.440425425768,1.00674413145 -2.33804032207,0.786743909121 l-8.87759685516,-0.354200825095 -2.32740610838,-0.887787416577 l-3.88086795807,-3.05856078863 -1.92935377359,-3.57520908117 l-1.50302767754,-2.95529544353 -1.08024552464,-1.63023263216 l-1.28988951445,-0.736363902688 -1.93366080523,0.237800870091 l-1.40881255269,1.00001111627 -1.30932286382,2.25547477603 l-0.72910360992,2.94605910778 -0.256663449109,6.12830221653 l-0.524079166353,0.544234663248 -2.48671323061,-0.508187115192 l-1.78122743964,-1.33818477392 -1.06172315776,-2.10040807724 l-1.00463785231,-11.5296220779 -0.434552580118,-6.40087306499 l-0.221600029618,-4.08789724112 m8.60478043556,15.8962631226 l-0.346549488604,2.50265210867 0.202614720911,5.85578501225 l0.732826963067,1.67069092393 1.53830006719,1.34740635753 l1.48617982864,0.392584390938 0.993426889181,-0.101462062448 l0.999031215906,-0.55332608521 1.90941572189,-2.81227201223 l0.456895716488,-1.34927555919 0.24512892589,-2.33505144715 l-0.234919413924,-1.43208265305 m17.515835762,0.707947686315 l0.600245781243,3.02356123924 0.937462747097,2.24400699139 l1.19262509048,1.51322856545 1.33539751172,0.857361033559 l1.4650605619,0.298120193183 1.45996883512,-0.222031716257 l2.15220570564,-1.29194527864 1.43739998341,-1.48787081242 l1.29106447101,-2.25986078382 0.697733685374,-2.8071975708 l-6.96285314916e-05,-1.81081146002 m-39.4690608978,-15.0879740715 l0.115047581494,4.92384433746 0.408845730126,4.46759700775 l0.40624897927,1.90350025892 0.4383110255,0.148458601907 l3.34137886763,-0.829996392131 6.13644719124,-0.799859315157 l13.7650895119,-1.27280220389 10.9606719017,-1.29752859473 l3.83934915066,-0.422822833061 1.01123392582,-0.339457020164 l-0.0840614642948,-5.28507351875 -0.873074755073,-4.51011151075 l-0.747151076794,-0.49055416137 -15.8559668064,0.672862976789 l-15.8609747887,0.507673062384 -3.48099857569,0.32021060586 m5.65741181374,0.375456511974 l0.390473715961,6.39712631702 0.275314841419,1.23770989478 m67.1449944778,-12.2086612973 l0.434332378209,2.00717076659 1.17463827133,3.90888243914 l0.794821232557,5.42700231075 0.551784224808,4.26649421453 m-3.35520982742,-15.905957222 l3.64067018032,-1.24124512076 7.98299670219,-1.85291945934 l14.4744825363,-3.36011230946 14.4309568405,-3.15891504288 l5.45024991035,-1.11102864146 0.636492073536,0.944824367762 l0.727745071054,11.2326943874 0.287581197917,7.2850728035 l0.21365262568,5.41188776493 -0.0165340548847,2.75910437107 l-1.20835915208,0.381996557117 -13.2475805283,-0.626724436879 l-6.80941641331,0.717210993171 -8.40541541576,1.52709305286 l-8.05965721607,1.56430289149 -3.41550379992,0.669487789273 l-1.93663299084,0.213807746768 -1.21424250305,-0.158673264086 l-0.555354729295,-0.658613145351 -0.341087840497,-1.18735663593 l-0.0618968298659,-1.55361279845 m8.1994754076,2.88376033306 l-1.05956278741,0.559832602739 -0.878760367632,1.06470763683 l-0.602406337857,1.37586712837 -0.205615349114,1.49116009474 l0.192124843597,1.53248786926 0.678045079112,1.40402212739 l1.11263126135,1.11628398299 2.25572094321,0.870286300778 l2.24867999554,0.0561781413853 1.68515741825,-0.850504115224 l1.3482414186,-1.26933515072 0.968792811036,-1.56618490815 l0.466465204954,-1.62638440728 0.0151820050087,-1.64753645658 l-0.453974045813,-1.46691769361 -2.16305911541,-2.45880037546 l-1.35218858719,-0.446184799075 -2.00450479984,0.0530758174136 l-1.48701027036,0.45325756073 m27.2007489204,-3.15651088953 l-1.23334757984,0.793842747808 -1.13537400961,1.22062787414 l-1.26771122217,2.29275137186 -0.508494228125,1.87050566077 l0.427551046014,3.2979375124 0.68013086915,1.19377844036 l1.08974203467,0.946831405163 1.47213190794,0.535775087774 l1.6196398437,0.00907283974811 1.59192800522,-0.497502051294 l1.4959615469,-0.974956452847 1.18620879948,-1.31134286523 l1.00317507982,-2.22104132175 0.364094525576,-2.130613029 l-0.64293012023,-1.82457134128 -1.0219951719,-1.39251410961 l-2.97184348106,-1.95004984736 -2.05373436213,-0.346942208707 m-32.8965592384,-12.2296214104 l0.320526584983,2.85597503185 0.532358363271,4.42529052496 l0.47049690038,3.19583535194 0.35559207201,1.86633184552 l0.484373308718,1.62253260612 0.465412773192,0.935402065516 l0.379587560892,-0.682547092438 1.98999673128,-1.47825345397 l1.68073818088,-0.647229924798 2.73883193731,-0.887603536248 l0.490348376334,-0.951801538467 -1.3718418777,-6.28921985626 l-1.47207006812,-4.49963659048 -1.5445934236,-1.64934143424 l-1.69164046645,-0.15058525838 -2.62381732464,0.842503458261 m14.0302121639,-2.65024542809 l0.352412201464,8.60564827919 0.355122499168,1.27807661891 l0.502136722207,0.678949952126 3.91418814659,-0.473392568529 l4.49879676104,-1.07923433185 -0.476123206317,-3.42038661242 l-1.00583642721,-6.0588991642 -3.85557681322,-0.311543066055 l-3.54779154062,0.554356724024 m13.9843678474,-1.1478870362 l0.367574281991,7.31326758862 0.488183833659,2.80576109886 l0.906225889921,0.237372312695 4.22213822603,-1.04939095676 l3.1233227253,-0.756646245718 -0.573086962104,-3.31168472767 l-0.683359652758,-5.83113253117 -2.83975332975,-0.180244669318 l-3.85497182608,0.546367503703 m40.5339618283,3.37653558585 l0.297478325665,5.20423948765 0.798660814762,5.07103860378 l0.711541026831,5.36075532436 0.395381450653,2.72167861462 m-2.1533678472,-19.0696597099 l13.9885008335,-1.96127951145 11.5430057049,-1.5530526638 l8.77427399158,-1.0348726809 13.5696661472,-1.47231921554 l3.64558488131,-0.263627879322 0.456743501127,0.947329178452 l0.329263322055,15.1213991642 -0.238067377359,5.83201348782 l-10.0875151157,0.388373360038 -4.42788302898,0.612895004451 l-8.58367085457,1.29154741764 -8.44047904015,1.13366276026 l-7.53351807594,1.00454412401 -6.20733678341,0.949416086078 l-2.44006082416,0.340767651796 -1.35766983032,-0.0205726758577 l-0.706322714686,-0.464233979583 -0.327683128417,-1.13909184933 m8.18874776363,0.693706870079 l-1.77910149097,0.690002143383 -1.17296077311,1.11880928278 l-0.772007256746,1.27983018756 -0.387563928962,2.06532806158 l0.14946048148,1.79492935538 0.588114969432,1.48233056068 l1.02603182197,1.24043308198 1.48111090064,0.870416536927 l1.71008959413,0.410925410688 1.73766374588,-0.0512867141515 l1.69789731503,-0.454698316753 1.50326028466,-0.780217722058 l1.27589255571,-1.04320921004 1.37687399983,-1.94021448493 l0.642330572009,-1.79289415479 0.139893013984,-1.68746083975 l-0.321919322014,-1.520614326 -1.15928679705,-1.33099332452 l-1.42168328166,-0.955580472946 -2.20510751009,-0.762561485171 l-1.69337406754,-0.143986903131 -1.33661419153,0.269115511328 m31.2034654617,-3.65736991167 l-1.32339715958,0.473637096584 -1.21528886259,0.870053246617 l-1.08612030745,1.2025051564 -1.26578748226,2.32991963625 l-0.566613376141,1.98338583112 -0.124260541052,1.78743258119 l0.294931232929,1.59388259053 0.703122392297,1.23898640275 l1.09137505293,1.00131571293 1.4737406373,0.673232078552 l1.63162767887,0.16766153276 2.56961524487,-0.527609325945 l2.08224236965,-1.03793427348 1.58516585827,-1.31834298372 l1.06080673635,-1.48649901152 0.556756779552,-1.54598250985 l0.16055740416,-1.60983458161 -0.50429020077,-2.38697871566 l-1.24259479344,-1.50637194514 -2.32449322939,-1.60139217973 l-2.89832741022,-1.03762552142 m-33.2368326187,-11.6469395161 l-0.0273249135353,3.72755140066 0.348630473018,3.77242267132 l0.46204932034,3.82197320461 0.408148169518,1.43197521567 l0.39531826973,0.283262077719 2.38684594631,-0.931379571557 l3.86064589024,-1.19615726173 -0.211390703917,-3.17639410496 l-1.29032850266,-6.69257879257 -1.13349743187,-2.21186220646 l-0.901836231351,-0.375195592642 -2.08314538002,-9.87632847682e-05 l-2.29882523417,0.641312301159 -0.848736688495,0.401962995529 m13.8028049469,-1.48726135492 l0.527581274509,6.89226567745 0.681874379516,3.30649405718 l0.904741436243,0.316007547081 3.97733062506,-1.0738555342 l3.78644376993,-0.985471829772 -0.755311772227,-3.65996956825 l-0.996965020895,-5.00293910503 -1.27583429217,-1.22754506767 l-1.99399620295,0.0434049218893 -3.30942094326,0.572204627097 l-2.43755966425,0.370743982494 m57.7106186933,2.56535429276 l0.208403132856,8.83480012417 0.440486706793,3.7001273036 l0.472369939089,4.22541469336 m-1.08974277973,-17.5288057327 l15.301874876,-1.60417377949 11.2877047062,-1.07212141156 l16.0587799549,-1.26309454441 8.65153193474,-0.729795396328 l0.464458875358,0.843129232526 0.327103845775,13.1425905228 l-0.0215786788613,6.63416862488 -9.95967566967,0.546670220792 l-10.5956435204,0.429645963013 -10.4979467392,0.798690319061 l-8.78149211407,0.964802131057 -3.79971057177,0.632186681032 l-2.8685426712,0.282471496612 -1.86102718115,-0.069800298661 l-1.11578688025,-0.318732596934 -0.977482870221,-0.72795830667 l-0.638249218464,-0.866535156965 -0.388669110835,-1.19914010167 m8.59252154827,2.3444840312 l-1.4672729373,0.623443312943 -1.14652238786,1.01410232484 l-0.716833621264,1.14348784089 -0.406120307744,2.8583240509 l-7.45534362068e-05,2.17273324728 0.408074036241,1.63620784879 l1.14083565772,1.85938447714 1.40260308981,1.12807050347 l1.67017504573,0.666079595685 1.8407548964,0.171641241759 l2.627171278,-0.563324540854 1.88702091575,-1.35383859277 l1.45211935043,-1.71948418021 0.934535562992,-1.88270449638 l0.528423786163,-2.78025060892 5.82320637932e-06,-2.06637233496 l-0.424110777676,-1.68873563409 -0.779425948858,-1.35266244411 l-1.0730304569,-1.04375936091 -1.24698027968,-0.647065937519 l-2.10487172008,-0.000111451736302 -1.71270847321,0.524126701057 l-1.32847696543,0.797482058406 m30.6721186638,-2.41824492812 l-1.26979783177,0.542858093977 -1.0766069591,0.989759042859 l-1.41047254205,2.2589276731 -0.68650148809,2.02042296529 l-0.241224262863,1.91436573863 0.299209542572,2.70650058985 l0.465618669987,1.18737831712 0.875099822879,1.09113685787 l1.1873370409,0.762755051255 1.47289529443,0.391529984772 l2.02036574483,-0.000226700958592 1.90492749214,-0.437789671123 l1.71688050032,-0.828580409288 1.40475913882,-1.10981501639 l1.06568790972,-1.3550132513 0.652892440557,-1.48214280605 l0.334972776473,-1.5715791285 -0.000635950200376,-2.4532751739 l-0.779248028994,-1.80036306381 -1.50159209967,-1.44601225853 l-1.81056767702,-0.624587498605 -2.61800229549,-0.192874856293 l-1.56850844622,0.10554025881 m-1.43775478005,-17.7244138718 l0.187974516302,4.7446668148 0.394444540143,4.96500402689 l0.239242985845,3.17273050547 0.417017713189,3.0368116498 l0.573609545827,1.91180095077 0.540592372417,1.00146047771 l0.536450371146,0.0195210042875 2.50788390636,-1.22302792966 l1.71319186687,-0.60583461076 2.71571040154,-0.854570493102 l1.3588745892,-0.535259693861 0.767480134964,-0.655925422907 l0.700384676456,-2.48339027166 -0.196077674627,-6.28399729729 l-0.498235337436,-4.40494030714 -0.99245339632,-1.73486366868 l-1.32249251008,-0.589956194162 -3.11888486147,-6.20977289145e-05 l-3.22436511517,0.543420277536 -2.54734456539,0.684788003564 m-4.82627511024,1.29853233695 l0.254460368305,4.56851691008 0.667349770665,6.17845714092 l0.472918562591,3.91988396645 0.554781965911,3.53410184383 m42.5545982527,-9.81419766613 l0.0657178368419,12.1894931793 0.23993326351,1.99465692043 l0.771498009562,0.317397750914 14.7715759277,-0.876275449991 l10.6603181362,-0.57387303561 16.6416108608,-0.488398633897 l8.4619385004,-0.704818069935 -0.229862015694,-9.80789661407 l-0.457548834383,-7.19425916672 -0.71373090148,-3.59688252211 l-4.83210533857,0.478808134794 -5.92757165432,0.86316563189 l-11.2152683735,1.36707752943 -10.832118988,1.40632480383 l-8.87867689133,1.19742892683 -3.26537132263,0.413658134639 l-2.26707190275,0.246309246868 -2.27161943913,0.688023343682 l-0.901824980974,0.960424542427 -0.261917542666,1.23884893954 m9.20069515705,13.3965241909 l-0.96110291779,0.826861411333 -0.633697137237,1.18603639305 l-0.438179075718,2.13116303086 -9.63471393334e-05,2.34629884362 l0.424780249596,1.59811526537 1.26788541675,1.69131353498 l1.50009125471,0.8712811023 1.62675201893,0.286836437881 l1.62379860878,-0.575877539814 1.46025642753,-1.12734287977 l1.14251278341,-1.43106475472 0.860581696033,-2.23032072186 l-3.46325487044e-05,-2.06660553813 -0.90061314404,-1.59055367112 l-1.4543607831,-1.05264611542 -2.26630657911,-0.729836970568 l-1.71931177378,-0.00016987660274 -1.24684892595,0.450231619179 l-0.892721936107,0.717781484127 m34.6995544434,-3.76929521561 l-1.23481445014,0.604937262833 -0.993095710874,0.987714529037 l-1.13944582641,2.03308656812 -0.482746474445,1.76353156567 l-4.55091503682e-05,2.24121004343 0.488800294697,1.6359589994 l1.33224621415,1.60678058863 1.53515323997,0.884545892477 l1.70096695423,0.42996391654 1.93883821368,-0.000156337937369 l1.65595084429,-0.467997826636 1.43246784806,-0.835147127509 l1.06036119163,-1.08593508601 0.741619169712,-1.32170721889 l0.482768006623,-2.23210468888 3.71048440684e-05,-1.64953425527 l-0.379664450884,-1.45340040326 -0.665828511119,-1.27068728209 l-0.931411087513,-1.0972007364 -1.14875733852,-0.781678259373 l-2.1292193234,-0.698615312576 -1.91057026386,-0.000152777047333 l-1.50785163045,0.492156408727 -1.27089604735,0.708680525422 m-34.4301509857,-12.3995089531 l0.145014505833,3.07934254408 0.465301498771,3.10844182968 l0.899054557085,0.417297743261 3.09884011745,-0.598662644625 l2.81577199697,-0.802397206426 0.476920716465,-0.944838672876 l-0.902958661318,-3.96920800209 -1.20344549417,-1.34157255292 l-1.47402778268,-0.123686296865 -2.6092851162,0.696177780628 l-1.5053974092,0.535372234881 m12.2413086891,-1.3207475841 l0.107803465798,1.70298263431 0.480629429221,4.02480989695 l0.903312191367,0.379181243479 3.48010033369,-0.413917601109 l2.74465143681,-0.600002855062 0.489592365921,-0.956442281604 l-2.68280336968e-05,-2.09459424019 -0.573358945549,-1.53165519238 l-0.655354484916,-0.586239360273 -2.46216654778,-0.393943227828 l-2.91881293058,1.88940362023e-05 -1.55891805887,0.348813943565 m59.1120462691,3.25813002961 l-0.0262618414126,14.6755349636 0.177032239735,0.662343427539 l5.19992887974,0.00238579246798 9.60200607777,-0.238308478147 l10.1883685589,-0.529125928879 21.9932103157,-0.944444462657 l7.13928759098,-0.751549303532 -0.0693084532395,-10.6053435802 l-0.532362647355,-6.8779104948 -0.990896597505,-2.57828384638 l-6.18123173714,0.159257370979 -6.73288047314,0.601102560759 l-11.3129985332,1.34089380503 -10.0857114792,1.37675762177 l-8.69983196259,1.06700003147 -3.58915001154,0.421628989279 l-4.57162231207,0.812778919935 -1.55397802591,0.437097363174 l-0.426325760782,0.633726641536 m9.97588574886,13.9766073227 l-0.797197893262,-0.259915199131 -1.50433287024,0.312585271895 l-1.63481727242,1.36766284704 -0.7964374125,1.30659282207 l-0.506576746702,2.25749671459 -0.000119452806757,2.13553786278 l0.724283158779,2.16576501727 1.05436466634,1.41748800874 l1.34850248694,0.929975882173 1.63241773844,0.563546270132 l2.00830519199,-0.000162459509738 1.62835240364,-0.876063406467 l1.29370525479,-1.27850219607 0.972966775298,-1.55212759972 l0.620695576072,-1.73799902201 -1.89101876913e-05,-2.22737580538 l-0.46960119158,-1.87382280827 -0.856934264302,-1.5800948441 l-0.997974723577,-1.12914212048 -1.11392483115,-0.71692802012 l-1.87544882298,-0.468920022249 -1.47239521146,-7.64444212109e-05 m38.0158281326,-1.25291928649 l-1.35406851768,0.0561810610816 -1.92508265376,0.844557955861 l-1.31778284907,1.04560449719 -0.971005633473,1.24169871211 l-0.636140704155,1.44030883908 -0.325926691294,2.38442018628 l-0.000111259196274,2.34481945634 0.391103960574,1.656909585 l0.754480734468,1.37789219618 1.05824276805,0.995791181922 l1.35690227151,0.610719621181 1.52115866542,0.230725482106 l1.87882468104,-0.00016111516743 2.3972094059,-0.647319853306 l1.55172601342,-1.16820834577 1.10270924866,-1.39590188861 l0.710870325565,-1.5466439724 0.557942315936,-2.69475549459 l9.92166496872e-05,-2.29309275746 -0.741579756141,-1.70455530286 l-0.999643281102,-1.36400356889 -1.13764286041,-1.01675033569 l-1.30881637335,-0.721695870161 -2.0943236351,-0.579999648035 l-1.62390440702,-0.000147492437463 -1.22291386127,0.415802150965 m-2.48246580362,-14.8758459091 l0.223496910185,3.67964625359 0.450523532927,3.5551187396 l0.512891858816,3.51204842329 0.835224539042,0.485353469849 l1.73496156931,-0.0456529809162 3.4122684598,-0.860959589481 l1.79765999317,-0.46826377511 0.494808331132,-0.716402381659 l-0.000310686846205,-2.41888433695 -1.04394420981,-4.60374832153 l-1.053596735,-2.14089751244 -0.67838832736,-0.449090264738 l-2.65045553446,-8.1917787611e-05 -2.98659831285,0.527427867055 l-1.84255942702,0.251136962324 m-8.06183993816,0.551579222083 l0.324008651078,4.10040795803 0.337666459382,3.05206209421 l0.336858816445,3.41507256031 0.448760017753,3.29862535 l0.384959839284,2.61973917484 0.348339341581,0.913487300277 l0.416128337383,-0.869575217366 m44.9541484278,-11.8028299095 l0.042428500019,16.6512584686 0.0740156229585,0.403781309724 l10.3754210472,-0.827903077006 8.66637587547,-0.756854861975 l22.4911570549,-0.73513880372 11.0230505466,-0.727196112275 l-0.174347423017,-7.07794249058 -0.626225471497,-7.59515941143 l-0.970831811428,-3.29854130745 -0.712189003825,-0.459556952119 l-14.8041808605,-0.0931363273412 -6.4180213213,0.178074818105 l-10.2452790737,0.707803815603 -9.09277498722,0.853824838996 l-3.9532750845,0.535444132984 -2.64878422022,0.51460120827 l-1.87160417438,0.495455861092 -0.911866053939,0.740879774094 m7.37992286682,14.9514186382 l-1.22411951423,0.79043187201 -1.14975184202,1.72413557768 l-0.454727932811,1.32926955819 -8.70230815053e-05,2.13089346886 l0.897564291954,1.82801350951 1.2310411036,1.18342868984 l2.24749431014,0.941895246506 2.19176307321,-0.000124198550111 l1.52528688312,-0.919036716223 1.21522337198,-1.30308300257 l0.801897495985,-1.45860001445 0.402819551528,-1.50489807129 l-0.000135142863655,-1.87147840858 -0.881859064102,-1.39749675989 l-1.60392642021,-1.05363629758 -1.09212845564,-0.348558761179 l-2.18859627843,-0.000158964321599 -0.816190391779,0.384483151138 l-0.828045159578,1.01912349463 -0.460699237883,1.50745257735 m35.5476498604,-4.28489297628 l-1.19312182069,0.423803701997 -0.945907756686,0.815797671676 l-0.7475977391,1.10041037202 -0.682886987925,2.0272000134 l-7.14156612958e-05,2.38429799676 0.313265733421,1.07938624918 l0.701264366508,1.00036747754 1.07751622796,0.830205008388 l1.35482132435,0.484548248351 2.01248556376,-0.000124923262774 l1.42445445061,-0.70442289114 1.20858758688,-1.06371067464 l0.936585068703,-1.26763895154 0.793824568391,-2.01979726553 l5.27528754901e-05,-1.97462931275 -0.346992388368,-1.05583645403 l-0.702165216208,-1.02858297527 -1.34850665927,-0.850471556187 l-1.40836089849,-0.460314564407 -1.76785409451,-0.000150268269863 l-1.35225430131,0.601735189557 -1.03354945779,0.858012214303 m-35.3722810745,-14.0674507618 l0.100191365927,2.85774260759 0.786077156663,0.488377138972 l2.65324920416,-0.390597172081 0.711361542344,-0.640038475394 l0.159431584179,-0.822405964136 -0.000235011993936,-1.33868351579 l-0.548386014998,-0.730693861842 -1.22093170881,-0.350101850927 l-1.80511832237,-0.000173223452293 -0.604290999472,0.372494570911 l-0.196841955185,0.67170985043 m9.41117763519,-0.978497192264 l0.115255974233,0.891401097178 -0.000141886794154,2.0635831356 l0.681660175323,0.794854089618 1.83233290911,-1.37153585911e-05 l1.57269015908,-0.530930794775 1.00410193205,-0.798115730286 l-7.88371653471e-05,-1.26339450479 -0.476687252522,-0.786053389311 l-1.24746762216,-0.702657923102 -1.96932271123,-2.22857329391e-05 l-1.01618312299,0.527059957385 -0.5237518996,0.531237870455 m64.1569301445,-0.358252366328 l0.0299923843704,16.8608009815 0.0463976850733,0.30123911798 l5.72447478771,0.000430671098002 9.53756988049,-0.621017515659 l26.4346933365,-0.853395611048 3.73615860939,-0.340097360313 l9.30960893631,-0.366738773882 -0.230841767043,-11.0188853741 l-0.970107391477,-5.34775018692 -1.57299384475,-2.14150384068 l-1.08237549663,-0.186514370143 -6.82969927788,8.28600423119e-05 l-6.532548666,0.184432584792 -10.8467018604,0.603204630315 l-10.4819142818,0.829115211964 -5.13782858849,0.420726425946 l-6.56907379627,0.857187137008 -3.79490673542,-0.000120759495985 l-1.36719673872,0.395399443805 -0.491189435124,0.947231426835 m9.24512684345,14.0279960632 l-1.03169634938,0.00937753997277 -1.30261659622,0.926282778382 l-0.730385035276,1.07038654387 -0.424401648343,1.25561580062 l-0.000102670928754,2.26382985711 0.806259289384,1.84359163046 l1.12226232886,1.20433226228 1.41337007284,0.873096585274 l1.57254159451,0.449496619403 1.96931123734,-5.39025313628e-05 l1.33903160691,-0.829389244318 1.46274268627,-1.87830373645 l0.826111808419,-1.86226189137 -9.50805133471e-05,-1.92524686456 l-0.853539332747,-1.43937066197 -1.1451459676,-1.14270977676 l-1.35557800531,-0.818547680974 -1.34951367974,-0.443925149739 l-1.88254088163,-6.31851798971e-05 -0.869465991855,0.925022438169 l-0.492010079324,1.59419625998 -0.0001069803875,1.59535899758 m36.0885262489,-4.72290366888 l-1.13213390112,0.183928851038 -0.964860320091,0.551022961736 l-1.29977121949,1.57760620117 -0.637750476599,1.51345789433 l-8.91624313226e-05,2.15190306306 0.519822463393,1.59543380141 l0.903498902917,1.27694681287 1.1573587358,0.93513302505 l1.42932802439,0.626743882895 1.89016655087,-9.35047137318e-05 l1.34175419807,-0.746783316135 1.11166909337,-1.16236031055 l0.83186686039,-1.43465384841 0.480542816222,-1.51849880815 l5.51808943783e-05,-2.20335990191 -0.370901376009,-1.00681163371 l-1.124208197,-1.23331069946 -1.50659233332,-0.692328438163 l-1.4532764256,-0.308858286589 -2.01309040189,-0.000121658504213 l-1.43066704273,0.38412053138 -1.10441625118,0.694326385856 l-1.04284666479,1.30597293377 m1.45392358303,-17.5169861317 l-0.184390936047,1.63231134415 -5.00229543832e-05,2.4544391036 l0.271613877267,1.27579987049 0.624077394605,0.944822207093 l1.42629310489,0.814389437437 2.47443631291,-0.000113816768135 l1.54910102487,-0.599531233311 1.07539311051,-0.905356779695 l0.645168870687,-1.07202902436 -0.000198504603759,-1.66739553213 l-0.837535187602,-1.37399181724 -0.76687335968,-0.578638017178 l-1.0121011734,-0.374297983944 -2.6052775979,-5.64573383599e-05 l-2.07276985049,0.194257553667 -1.43969625235,0.332810655236 m-8.3897548914,-0.100991167128 l0.094151115045,3.30539613962 0.350703634322,1.39748305082 l0.836598500609,0.533795468509 1.75931751728,3.82375992558e-05 l2.23169118166,-0.959182009101 0.53971555084,-0.989896431565 l-0.000129511336127,-1.91059604287 -0.470452494919,-0.759918093681 l-1.38002246618,-0.561786852777 -2.41455063224,2.96439679914e-05 l-1.66388094425,0.693897381425 m51.0949635686,-2.2725461521 l-0.236777532846,15.4205906391 -0.203663352877,0.354590564966 l4.37344312668,0.000283637782559 9.1246253252,-0.154960202053 l24.180521965,-0.333085693419 3.79073947668,-0.206279717386 l8.92536580563,3.64287075172e-05 -0.0558068044484,-8.79120886326 l-0.0258002430201,-6.20599925518 -0.442571602762,-2.43616506457 l-4.2146089673,-0.0605491595343 -5.13504445553,0.0985026825219 l-8.49660754204,0.000116662422442 -6.02164208889,0.130400825292 l-10.644146204,-1.29409352212e-05 -4.838976264,0.103651536629 l-6.52351856232,0.623331852257 -2.3440669477,0.452867969871 l-1.44215404987,0.597833916545 -0.715745836496,0.842532739043 m8.00565958023,12.1765530109 l-1.52741804719,0.575253479183 -0.980455130339,0.850993469357 l-0.754392370582,1.07153311372 -0.62367875129,1.92905947566 l-0.00013628024135,2.20115125179 0.481780357659,1.43749505281 l0.944860354066,1.20906986296 1.26605719328,0.899776518345 l1.55020684004,0.58621302247 2.4345433712,-9.70592373051e-05 l1.41725152731,-0.941169410944 0.859677940607,-1.6324390471 l-6.6555403464e-05,-2.75214791298 -0.730383098125,-1.59223422408 l-1.30806222558,-1.33759915829 -1.63571283221,-0.78563272953 l-2.15778753161,-0.421599410474 -1.65051668882,-0.000122271503642 l-0.590319186449,0.616970695555 -0.202929340303,0.834956914186 m36.7952013016,-1.91639333963 l-1.26786649227,0.0689674122259 -1.77276685834,0.875359252095 l-1.05499580503,1.00417234004 -0.792632475495,1.23328708112 l-0.460289306939,1.35886311531 -0.000146491720443,2.14347049594 l0.847365483642,1.89663603902 1.17833837867,1.20535105467 l1.43344625831,0.788132399321 1.57138139009,0.396003462374 l2.05504253507,-5.87698605159e-05 1.30274653435,-0.748204067349 l1.53515413404,-1.74929797649 0.596934854984,-1.06280513108 l0.380832776427,-1.271302104 -1.39437315738e-05,-2.05440819263 l-0.402510091662,-1.04475989938 -0.731671378016,-1.04638278484 l-0.955301523209,-0.887104123831 -1.14197552204,-0.694630742073 l-1.61736756563,-0.408044047654 -1.92979738116,-0.000106592797238 l-0.758551806211,0.232638977468 -0.746325999498,0.569781735539 m0.847450271249,-14.0016794205 l-0.331384949386,1.55352428555 -7.63310254115e-05,2.28625148535 l-0.000264012178377,1.69350445271 0.871819481254,0.547357313335 l2.34561160207,-3.63940444004e-05 2.58676081896,-0.542594008148 l0.646652057767,-0.710975304246 -0.000201618568099,-1.87882676721 l-0.892542973161,-2.33729273081 -0.76244443655,-0.842863768339 l-0.89313596487,-0.523781441152 -2.12192043662,-6.8884155553e-05 l-1.77311629057,0.428211316466 -1.28037422895,0.546784251928 m-7.81652152538,0.130841303617 l-0.0976028013974,0.885067433119 -0.0001536581658,3.07868748903 l0.53773149848,0.814907923341 1.60880237818,-1.37679739964e-05 l1.69169142842,-3.19808782479e-05 0.708811059594,-0.594356693327 l-0.000188726862689,-1.84695988894 -0.329388231039,-0.816112905741 l-0.709354802966,-0.60334071517 -2.21863716841,-3.73838906853e-05 l-1.28851607442,0.213520750403 \" fill=\"none\" stroke=\"black\" stroke-width=\"1\"/></svg>"
      ],
      "text/plain": [
       "<IPython.core.display.SVG object>"
      ]
     },
     "metadata": {},
     "output_type": "display_data"
    }
   ],
   "source": [
    "stroke_grid = make_grid_svg(reconstructions)\n",
    "draw_strokes(stroke_grid)"
   ]
  },
  {
   "cell_type": "markdown",
   "metadata": {
    "colab_type": "text",
    "id": "flZ_OgzCFQwJ"
   },
   "source": [
    "Why stop here? Let's load the model trained on both elephants and pigs!!!"
   ]
  },
  {
   "cell_type": "code",
   "execution_count": 69,
   "metadata": {
    "colab": {},
    "colab_type": "code",
    "id": "S8WwK8FPFQwK"
   },
   "outputs": [],
   "source": [
    "model_dir = '/tmp/sketch_rnn/models/elephantpig/lstm'"
   ]
  },
  {
   "cell_type": "code",
   "execution_count": 70,
   "metadata": {
    "colab": {
     "base_uri": "https://localhost:8080/",
     "height": 255
    },
    "colab_type": "code",
    "id": "meOH4AFXFQwM",
    "outputId": "764938a7-bbdc-4732-e688-a8a278ab3089"
   },
   "outputs": [
    {
     "name": "stdout",
     "output_type": "stream",
     "text": [
      "INFO:tensorflow:Model using gpu.\n",
      "INFO:tensorflow:Input dropout mode = False.\n",
      "INFO:tensorflow:Output dropout mode = False.\n",
      "INFO:tensorflow:Recurrent dropout mode = False.\n",
      "INFO:tensorflow:Model using gpu.\n",
      "INFO:tensorflow:Input dropout mode = 0.\n",
      "INFO:tensorflow:Output dropout mode = 0.\n",
      "INFO:tensorflow:Recurrent dropout mode = 0.\n",
      "INFO:tensorflow:Model using gpu.\n",
      "INFO:tensorflow:Input dropout mode = 0.\n",
      "INFO:tensorflow:Output dropout mode = 0.\n",
      "INFO:tensorflow:Recurrent dropout mode = 0.\n",
      "INFO:tensorflow:Loading model /tmp/sketch_rnn/models/elephantpig/lstm/vector.\n",
      "INFO:tensorflow:Restoring parameters from /tmp/sketch_rnn/models/elephantpig/lstm/vector\n"
     ]
    }
   ],
   "source": [
    "[hps_model, eval_hps_model, sample_hps_model] = load_model_compatible(model_dir)\n",
    "# construct the sketch-rnn model here:\n",
    "reset_graph()\n",
    "model = Model(hps_model)\n",
    "eval_model = Model(eval_hps_model, reuse=True)\n",
    "sample_model = Model(sample_hps_model, reuse=True)\n",
    "sess = tf.InteractiveSession()\n",
    "sess.run(tf.global_variables_initializer())\n",
    "# loads the weights from checkpoint into our model\n",
    "load_checkpoint(sess, model_dir)"
   ]
  },
  {
   "cell_type": "code",
   "execution_count": 71,
   "metadata": {
    "colab": {
     "base_uri": "https://localhost:8080/",
     "height": 121
    },
    "colab_type": "code",
    "id": "foZiiYPdFQwO",
    "outputId": "a09fc4fb-110f-4280-8515-c9b673cb6b90"
   },
   "outputs": [
    {
     "data": {
      "image/svg+xml": [
       "<svg baseProfile=\"full\" height=\"96.9663326948\" version=\"1.1\" width=\"114.816848189\" xmlns=\"http://www.w3.org/2000/svg\" xmlns:ev=\"http://www.w3.org/2001/xml-events\" xmlns:xlink=\"http://www.w3.org/1999/xlink\"><defs/><rect fill=\"white\" height=\"96.9663326948\" width=\"114.816848189\" x=\"0\" y=\"0\"/><path d=\"M52.8826858568,44.5286010981 m-2.80812650919,-0.071682757698 l-4.02972519398,0.811471417546 -1.56528055668,0.681637972593 l-2.40384697914,1.83177188039 -0.929974839091,1.70601293445 l-0.000219044468395,3.12700748444 1.35947868228,1.7451480031 l3.040587008,1.57673716545 6.08804821968,0.583629012108 l1.90082073212,-0.987359136343 0.865483283997,-1.1209063977 l0.965062081814,-2.48897910118 1.41159682698e-05,-3.54063630104 l-0.71127153933,-1.2018623203 -1.32044538856,-0.923552513123 m-7.23950743675,2.55115270615 l-0.000279790583591,2.2835098207 0.351363159716,0.901557952166 l0.718764811754,0.000346110427927 m3.166051507,-2.5809392333 l0.363123305142,2.55342572927 0.226268582046,0.865861997008 m-6.83744728565,-16.242184639 l0.332714393735,4.39813362618e-06 0.73609881103,-0.606481060386 l2.14854061604,-1.89224734902 3.49677652121,-2.19840735197 l2.36121162772,-1.08121961355 2.29864701629,-0.794494375587 l6.73100352287,-0.000112065690701 2.50210553408,0.844577029347 l3.81821095943,3.10048311949 2.98829197884,3.66698622704 l1.51841849089,2.63937979937 1.74841418862,4.94208812714 l0.69916665554,3.55791598558 -4.69419273941e-05,8.12452614307 l-1.93467050791,5.02195417881 -2.04415038228,2.93520450592 l-3.58436107635,3.27984571457 -4.35352295637,2.39189729095 l-5.23068487644,1.4446631074 -5.24842202663,-2.48692708738e-05 l-1.69400319457,-0.369861759245 -3.58986526728,-1.64592519403 l-1.45154699683,-1.05360895395 -2.62145787477,-2.80015200377 l-2.60747313499,-4.08715188503 -0.683282315731,-1.86815679073 l-0.846646726131,-4.23879861832 -3.23978429151e-05,-6.51854395866 l0.60116443783,-2.48346999288 1.90822005272,-3.87841433287 l1.13387264311,-1.70702889562 1.1437445879,-1.18164971471 l0.969009771943,-0.902910679579 m-0.701157674193,0.862629339099 l-0.000185658645933,-0.0687565654516 -3.16977590322,-3.53575408459 l-1.47480294108,-2.14418172836 -2.88727968931,-4.31175321341 l-1.14378333092,-1.7573569715 -1.50386869907,-1.9180971384 l-1.65013790131,-0.973792001605 -3.77410590649,1.51402071118 l-2.00125530362,3.36633086205 -1.48317858577,4.92812275887 l-0.537285394967,5.9253436327 -0.000254928036156,7.74687588215 l1.31412237883,4.29804474115 2.93891340494,4.42736893892 l2.18330949545,2.24315688014 1.97993248701,1.32085978985 l4.93277728558,1.36889576912 3.71112406254,-0.000190689352166 l1.44959077239,-1.27954572439 m23.3962798119,-24.7337055206 l0.712236613035,-1.31944045424 3.96649688482,-4.59232926369 l3.37373703718,-2.89013206959 3.30996841192,-1.70158803463 l3.92584890127,-1.00566089153 3.55247765779,5.7281113186e-05 l1.7588147521,1.84397786856 1.07513152063,2.01600566506 l1.23608671129,4.20206278563 -7.76186971052e-05,7.61396944523 l-1.06237262487,3.4187746048 -4.51409220695,7.37655580044 l-6.01849079132,5.38115561008 -3.26375991106,1.41115531325 l-3.89892876148,0.000133004132294 -2.09907755256,-1.38172060251 m-18.6187911034,-5.61789929867 l-0.00312964490149,5.48286607227e-05 m11.2430667877,-2.06518158317 l0.00623607949819,4.87628676638e-05 \" fill=\"none\" stroke=\"black\" stroke-width=\"1\"/></svg>"
      ],
      "text/plain": [
       "<IPython.core.display.SVG object>"
      ]
     },
     "metadata": {},
     "output_type": "display_data"
    }
   ],
   "source": [
    "z_0 = np.random.randn(eval_model.hps.z_size)\n",
    "_ = decode(z_0)"
   ]
  },
  {
   "cell_type": "code",
   "execution_count": 72,
   "metadata": {
    "colab": {
     "base_uri": "https://localhost:8080/",
     "height": 163
    },
    "colab_type": "code",
    "id": "6Gaz3QG1FQwS",
    "outputId": "0cfc279c-1c59-419f-86d4-ed74d5e38a26"
   },
   "outputs": [
    {
     "data": {
      "image/svg+xml": [
       "<svg baseProfile=\"full\" height=\"115.927381549\" version=\"1.1\" width=\"135.852133995\" xmlns=\"http://www.w3.org/2000/svg\" xmlns:ev=\"http://www.w3.org/2001/xml-events\" xmlns:xlink=\"http://www.w3.org/1999/xlink\"><defs/><rect fill=\"white\" height=\"115.927381549\" width=\"135.852133995\" x=\"0\" y=\"0\"/><path d=\"M65.0089902431,36.8906471449 m-3.28663796186,1.26787245274 l-0.736328288913,0.764888897538 -2.76552259922,3.30749481916 l-1.90608918667,3.14864605665 -2.13414251804,5.30811131001 l-0.912225618958,4.25787329674 -0.418598875403,9.11959767342 l-0.333525799215,3.16854119301 -0.833237171173,3.32542419434 l-1.24981358647,2.72364199162 -1.66483908892,2.14536949992 l-3.21765989065,2.3140899837 -3.90499919653,1.35984003544 l-2.7844235301,0.20832946524 -1.70331731439,-0.126015711576 l-2.26899370551,-0.641662105918 -2.57963567972,-1.583943367 l-2.1440602839,-2.48188942671 -1.52996048331,-3.1807076931 l-0.864809975028,-3.68583828211 -1.2398172915,0.120706781745 l-1.4205147326,2.61983901262 -0.109837464988,5.7959985733 l2.38172158599,5.11590003967 2.6816880703,2.87078887224 l2.53023356199,1.75843760371 4.18335616589,1.7645457387 l4.84801411629,0.899856314063 4.89030182362,7.2831808211e-05 l3.4130948782,-1.11200042069 3.86518865824,-2.28264182806 l3.4590357542,-3.36908042431 2.49642834067,-3.97723287344 l1.80151239038,-4.62667614222 1.34122237563,-3.73999714851 l1.1762547493,-2.85792499781 1.06878750026,-1.46362528205 l2.19258084893,-1.46530732512 3.2711738348,-1.04476816952 l3.62615704536,-0.365662202239 1.07184268534,0.468745939434 l1.37479931116,1.97320178151 1.21302224696,3.94883036613 l0.782438442111,8.6763304472 0.478392057121,6.96741640568 l0.949929952621,4.44379925728 0.752341970801,1.04999914765 l1.25724956393,0.704349949956 3.01315128803,0.443167872727 l2.83848971128,-0.0855355709791 2.56088525057,-0.640015304089 l1.97118028998,-1.14985048771 1.39406055212,-1.62568375468 l1.58945977688,-3.79640072584 0.907301604748,-5.26270508766 l0.106196952984,-9.67330753803 0.320555046201,-1.73123538494 l2.35871985555,-4.58346784115 1.82765513659,-2.58665442467 l2.44767844677,-3.03158700466 2.4752035737,-3.06215256453 l2.23874151707,-3.31804007292 1.74847126007,-3.80310505629 l0.947615802288,-4.55608874559 -0.000143278002724,-3.99710953236 l-1.10295690596,-3.37809234858 -2.0113928616,-2.92647689581 l-2.85431057215,-2.41444736719 -3.56588751078,-1.94543331861 l-5.93403458595,-1.78054690361 -4.60614681244,-0.579266063869 l-8.47677946091,-0.000179555718205 -4.90168899298,0.765513852239 l-5.90419650078,1.79615065455 -3.42483848333,1.78646638989 l-3.465051651,2.84368813038 m-0.530030541122,11.9943249226 l0.0117363606114,1.96112722158 m7.08993792534,-1.23903237283 l0.0461431965232,1.3268981874 \" fill=\"none\" stroke=\"black\" stroke-width=\"1\"/></svg>"
      ],
      "text/plain": [
       "<IPython.core.display.SVG object>"
      ]
     },
     "metadata": {},
     "output_type": "display_data"
    }
   ],
   "source": [
    "z_1 = np.random.randn(eval_model.hps.z_size)\n",
    "_ = decode(z_1)"
   ]
  },
  {
   "cell_type": "markdown",
   "metadata": {
    "colab_type": "text",
    "id": "oVtr7NnGFQwU"
   },
   "source": [
    "Tribute to an episode of [South Park](https://en.wikipedia.org/wiki/An_Elephant_Makes_Love_to_a_Pig): The interpolation between an Elephant and a Pig"
   ]
  },
  {
   "cell_type": "code",
   "execution_count": 73,
   "metadata": {
    "colab": {},
    "colab_type": "code",
    "id": "lJs9JbROFQwU"
   },
   "outputs": [],
   "source": [
    "z_list = [] # interpolate spherically between z_1 and z_0\n",
    "N = 10\n",
    "for t in np.linspace(0, 1, N):\n",
    "  z_list.append(slerp(z_0, z_1, t))\n",
    "# for every latent vector in z_list, sample a vector image\n",
    "reconstructions = []\n",
    "for i in range(N):\n",
    "  reconstructions.append([decode(z_list[i], draw_mode=False, temperature=0.15), [0, i]])"
   ]
  },
  {
   "cell_type": "code",
   "execution_count": 74,
   "metadata": {
    "colab": {},
    "colab_type": "code",
    "id": "0FOuNfJMFQwW"
   },
   "outputs": [],
   "source": [
    "stroke_grid = make_grid_svg(reconstructions, grid_space_x=25.0)"
   ]
  },
  {
   "cell_type": "code",
   "execution_count": 75,
   "metadata": {
    "colab": {
     "base_uri": "https://localhost:8080/",
     "height": 130
    },
    "colab_type": "code",
    "id": "bZ6zpdiMFQwX",
    "outputId": "70679bd1-4dba-4c08-b39f-bbde81d22019"
   },
   "outputs": [
    {
     "data": {
      "image/svg+xml": [
       "<svg baseProfile=\"full\" height=\"95.4853807679\" version=\"1.1\" width=\"874.889223296\" xmlns=\"http://www.w3.org/2000/svg\" xmlns:ev=\"http://www.w3.org/2001/xml-events\" xmlns:xlink=\"http://www.w3.org/1999/xlink\"><defs/><rect fill=\"white\" height=\"95.4853807679\" width=\"874.889223296\" x=\"0\" y=\"0\"/><path d=\"M25,30.2014888719 m0.0,0.0 m27.3201460097,7.34102409371 l-1.87923371792,-0.0496076544126 -2.65645503998,0.494783222675 l-0.984883109728,0.398584678769 -1.56848698854,1.10961029927 l-0.882495641708,1.54119223356 -0.00020467681073,1.94478789965 l0.456438759963,0.822435170412 1.91126644611,1.26997411251 l3.13150803248,0.966114898523 2.64966130257,-6.20714975715e-05 l0.860713620981,-0.455697973569 1.18278433879,-1.33504470189 l0.339643284678,-0.874217251937 2.7672934569e-05,-2.4822606643 l-1.02476765712,-1.79010848204 -1.13473544518,-1.25893284877 m-4.87855831782,2.53038247426 l-0.000187909026863,1.54768000046 0.276626199484,1.18862122297 l0.580725173155,0.429511268934 0.600063999494,-0.602670262257 l4.2394058255e-05,-1.56649659077 -0.512533734242,-0.65784667929 m2.76102443536,0.463273028533 l-0.0868595888217,1.76246980826 1.14951570829,0.562573224306 l0.569194505612,-0.605728576581 4.34836844458e-05,-1.29425734282 l-0.512625624736,-0.542375693719 m-5.46650330226,-8.6612089475 l-0.377730925878,0.000114168615255 -2.71239439646,1.4339752992 l-1.94501141707,1.93074723085 -1.14855736494,1.76606317361 l-1.5338058273,5.35561760267 -0.000151890174796,5.78295548757 l0.745754987001,2.2909317414 1.03329141935,1.64578507344 l2.10696061452,2.26483881474 0.957626402378,0.675061196089 l2.24727948507,0.995570421219 3.52377414703,0.865435699622 l5.75975497564,-8.19795726178e-05 2.25017646948,-0.736276060343 l1.65216962496,-1.11711114645 1.32951418559,-1.35885059834 l1.62420302629,-2.51266638438 0.662587732077,-1.81915799777 l0.615011801322,-3.26423327128 -3.59096793545e-05,-4.91689483325 l-0.81899151206,-2.56818592548 -1.16927067439,-2.03697383404 l-1.47293676933,-1.65588080883 -2.55103687445,-1.79860591888 l-1.13310446342,-0.521565377712 -2.71286666393,-0.699807852507 l-3.4402636687,-1.82533176485e-05 -1.39758110046,0.504905680815 m-5.29306014379,3.54381839434 l-9.27313703869e-05,-0.694896479448 -0.261897668242,-1.77088916302 l-0.978369514147,-3.74015371005 -0.627471506596,-2.52740065257 l0.158082656562,-1.0804571708 1.11376225948,0.467153787613 l3.14371943474,2.95078337193 1.35429024696,1.43070568641 l0.828717599312,1.15843176842 m7.5129532814,0.505703985691 l2.79995024204,-2.62448151906 2.22911834717,-2.05110033353 l0.69453800718,0.23494216303 0.291785697142,1.04090889295 l-0.000148733355066,3.23943893115 -0.337976117929,3.72182051341 l-0.000183839923314,2.38312025865 m-14.1634162267,4.92139657338 l-0.0565791254242,-8.57761551742e-05 m9.75832541784,-0.745273729165 l0.136313810945,-0.000148610536902 m5.25512774785,-0.940556426843 l0.669883439938,-0.638816903035 2.56220738093,-1.45990957816 l1.89229806264,-0.693398068349 5.49805402756,-0.965468982855 l5.48911690712,-7.82717082378e-05 1.8230954806,0.564228643974 l2.6327051719,1.39524817467 2.36863851547,1.94282074769 l1.87969009082,2.30549653371 1.02148642143,1.76842093468 l0.903292894363,2.70808319251 0.49840554595,3.42938025792 l-0.000193271262106,5.09392937024 -1.41397804022,2.92814234893 l-1.44840141137,1.74444933732 -2.65471676985,2.01970120271 l-3.63062818845,1.60379638275 -4.06665404638,0.930809577306 l-4.43217158318,9.46637010202e-05 -4.42442496618,-0.70412427187 l-3.3148642381,-1.86161160469 -1.78757190704,-1.58156802257 l-2.03024407228,-2.73648341497 -0.52887186408,-1.18456482887 l-0.508459111055,-2.15880095959 m87.3763110683,-18.0689009443 l-2.19715952873,0.108635760844 -2.12565700213,0.714903573195 l-1.46774490674,0.861776868502 -1.05113675197,1.08556578557 l-0.97135424614,1.92841251691 -0.000149589711024,2.23600327969 l0.760233849287,1.14610185226 1.9030914704,1.11392309268 l2.44917968909,0.467587212722 2.68079479535,-3.036841008e-05 l0.829628705978,-0.389737983545 1.15027149518,-1.27189666033 l0.62953616182,-1.33911818266 4.25767628561e-06,-2.6327675581 l-0.450314631065,-0.973630944888 -1.24010622501,-1.61548594634 l-0.665110548337,-0.402225578825 m-4.96608336767,2.52694427967 l-0.000230520551365,1.72867735227 0.105552611252,1.64591232936 l0.509214202563,1.04100763798 0.718871702751,0.610510508219 l0.665988028049,-0.469140907129 0.283555363615,-0.853750209014 l2.80228293074e-05,-2.28269418081 -0.491327295701,-0.771119495233 l-0.753677884738,-0.452284465233 m3.47123344739,0.509123951197 l-0.373605340719,2.54293044408 -7.78747986866e-05,1.84088985125 l1.35545065006,0.816437552373 1.15132818619,6.23673622613e-05 l0.573689987262,-0.702339162429 6.04437870303e-05,-2.30058292548 l-0.682858179013,-1.26758337021 -0.593802680572,-0.48982322216 m-8.44659169515,-11.5751155217 l-1.06581817071,-8.20930381451e-06 -4.76400295893,2.66956686974 l-1.89934194088,1.958745718 -2.49627073606,5.02752820651 l-0.404338911176,1.75286253293 -4.91078117193e-05,5.7144065698 l0.754332145055,2.50232795874 1.0420084993,2.20441758633 l2.30580111345,3.35151910782 2.99089948336,2.99901664257 l3.54067524274,2.46447543303 2.72476991018,1.34009401004 l3.78803054492,1.08391016722 3.039782842,0.442156443993 l6.39618913333,-4.16640773437e-06 2.59963333607,-0.753655433655 l1.91728870074,-1.16045167049 2.44068384171,-2.26406534513 l1.01304690043,-1.44275446733 1.94538633029,-5.2632244428 l0.391837557157,-2.05308039983 -1.40756158847e-05,-5.50032615662 l-0.794983208179,-2.78457601865 -1.09257549047,-2.13669995467 l-1.39528433482,-1.89592480659 -2.72262533506,-2.57865965366 l-2.24263171355,-1.53673499823 -3.60780835152,-1.74491306146 l-4.08361554146,-1.31780743599 -4.2410492897,-0.62079757452 l-4.82237736384,3.51646061366e-05 -1.80183867613,0.647550225258 m-5.80742637316,3.28382571538 l-0.000174092880722,-2.12070127328 -2.68360023862e-05,-3.23432385921 l0.654794921478,-1.36449664831 0.909767945608,-0.913505057494 l0.791034698486,0.324738249183 2.09242880344,3.57501387596 l0.874281426271,1.1298579971 m15.2466249466,0.716258684794 l1.36277089516,-1.85704052448 1.880671978,-2.27843523026 l0.869552989801,-0.868119299412 1.09123458465,0.402430742979 l0.409860759974,0.973504583041 -0.000273787324356,3.71024608612 l-0.11168209215,3.20820649465 m-19.4792016347,4.99287327131 l-0.248155420025,-5.99719714955e-05 -0.300424844027,0.238128552834 l6.66951442933e-05,0.773346324762 0.652261426051,-0.316041285793 l-0.0651115737855,-0.385559250911 m10.6173880895,0.046405683582 l-0.136889703572,0.599927405516 0.230624849598,-0.437845091025 l-0.402142778039,-0.0318460290631 m81.4731847715,2.83839668016 l-2.41770843665,0.270181819797 -1.79915150007,0.862965881824 l-1.46322667599,1.08769158522 -0.701024780671,0.808467268944 l-0.919199585915,1.89970711867 -0.276059508324,2.58567710718 l1.16751223803,3.06677480539 1.05398694674,1.04830960433 l1.08220398426,0.595310479403 1.99773490429,-1.98604023656e-05 l0.839075346788,-0.356355383992 1.49011244377,-1.35453452667 l1.78978959719,-3.33707729975 0.392943322659,-1.4528832833 l5.01852870608e-05,-2.65772064527 -0.428905934095,-0.950558980306 l-0.828530589739,-0.790917327007 m-5.25202592214,-0.80673734347 l-0.332633927464,-1.03890965382 -0.768973877033,-2.7681918939 l-1.2409483393,-4.14681792259 -0.554683258136,-1.17585589488 l-1.28585745891,-1.79421643416 -1.39958848556,-1.11591279507 l-2.4014043808,-1.06163223584 -3.00313015779,-0.435315867265 l-3.1355758508,6.43757448415e-05 -1.10050896804,0.282365555565 l-2.1484041214,1.29654784997 -0.869353413582,0.814447700977 l-1.56144052744,2.30279843012 -1.27766370773,3.49420905113 l-0.241974666715,1.42520070076 -0.000180925101934,4.53596711159 l0.525051901738,2.05058217049 1.32117013137,2.60744233926 l1.97232087453,2.43449091911 4.23079808553,3.17681650321 l3.401384751,1.99104944865 1.93001627922,0.720415910085 l2.48169521491,7.7150331587e-05 1.22515867154,-0.74449668328 l0.923251609008,-1.06465230385 1.01185003916,-2.06127305826 l0.6877194345,-2.95877277851 m8.22862704595,-9.04177904129 l0.89730600516,-1.64867460728 1.99609319369,-2.16528932254 l2.68557151159,-1.66336486737 2.18057235082,-0.814006278912 l3.20826133092,-0.465835233529 3.00567408403,-5.22687817769e-05 l1.8795945247,0.842277506987 2.05756048361,1.87544683615 l1.21047357718,1.6689602534 1.16742173831,2.67709434032 l0.696647961934,3.34477980932 -5.47042812589e-05,4.80846683184 l-0.630830178658,2.31835683187 -1.09820584456,2.06957598527 l-1.54259651899,1.73041383425 -2.79609103998,1.80916726589 l-2.16097374757,0.757883687814 -3.44175696373,4.89362021957e-05 l-1.92822337151,-0.648517757654 -2.62445747852,-1.53025090694 l-2.37512409687,-2.09430336952 -1.62457625071,-2.26463854313 l-0.589028199514,-1.91672345002 m-8.83150418599,-4.47542826335 l-0.000281573011307,1.5562954545 0.392746180296,1.51019672553 l0.753254393737,1.58117403587 1.12599144379,2.19431340694 l1.4168720444,1.46971225739 1.76532586416,0.890667140484 l3.91839901606,0.840328633785 2.68910864989,-1.84010226197e-05 l1.23324652513,-0.677559971809 0.852111379306,-1.20096256336 l0.962133804957,-2.43491292 0.467212597529,-3.00104598204 l-0.000110860843658,-3.2773009936 -0.55221726497,-1.82482798894 l-0.836451252302,-1.27758304278 -1.05701794227,-0.961763759454 l-1.31379167239,-0.602132678032 -2.45701591174,3.06405217998e-05 l-0.870166222254,0.284176593026 -1.62031114101,1.12960626682 m-3.97906064987,6.0538872083 l0.0043051961499,0.000203643721761 m3.23299904664,0.235834370057 l0.00482821177381,5.62480818189e-05 m79.4564298797,-21.3391303469 l-2.83080200354,0.439814080795 -1.34822199742,0.637810130914 l-2.10755328337,1.50612791379 -0.74423879385,0.832296858231 l-0.988128582637,1.89210971196 -0.273149088025,2.87461817265 l0.956042011579,3.09312880039 0.784207334121,1.4166978995 l1.44751588504,2.11262067159 2.26093490918,1.88768565655 l0.829781691233,0.537557403247 1.43197874228,0.421832601229 l2.04661488533,-8.67554990691e-05 0.910915732384,-0.3581952552 l1.62057250738,-1.38834963242 1.04957530896,-1.4921160539 l1.04710658391,-2.66539216042 0.655183245738,-3.57443173726 l-4.90020496121e-05,-3.27878097693 -0.594321737687,-1.89406176408 l-0.918972293536,-1.48453931014 -1.74348811309,-1.71238978704 l-0.84957698981,-0.433805237214 -1.45135521889,7.77461476294e-05 m-5.97438017527,7.2887913386 l-2.1186564366,0.831854194403 -1.51497205098,1.2756634752 l-2.95185923576,3.74025583267 -2.341730992,4.88469600677 l-1.34349743525,3.449229002 -1.61100625992,5.03449559212 l-1.22865736485,4.91764982541 -0.634133021037,2.56868084272 l-0.000203782498526,2.32483526071 0.889948109786,0.437085231145 l2.0221978426,0.00013344688341 0.658988902966,-0.52015264829 l0.420434474945,-0.85790981849 1.43366108338,-4.69754338264 l1.47411425908,-3.58980894089 1.62087659041,-3.35381666819 l1.66342546542,-3.17169348399 1.8884285291,-2.97032733758 l1.74075245857,-2.17628578345 0.753729045391,-0.942145486673 l0.759865542253,-0.743303100268 1.45294487476,-1.08526269595 m0.323415249586,-4.89123185476 l0.292939047019,-0.294465546807 0.642816821734,-0.833855072657 l0.659704357386,-0.941359698772 1.84456348419,-1.78537329038 l2.25292066733,-1.25652343035 2.68334567547,-0.881358087063 l1.87104125818,-0.320679073532 4.62454716365,-5.22292975802e-05 l1.97192907333,0.62071065108 2.55696495374,1.51877492666 l2.17241505782,2.01037923495 1.20477785667,1.60302927097 l0.814352581898,1.5642285347 0.847624739011,2.69463876883 l0.540349284808,3.55833768845 -0.000220630972763,4.48971509933 l-0.644227166971,2.37388392289 -1.15915983915,1.95995748043 l-2.35110660394,2.24151094755 -3.07569404443,1.50939216216 l-3.93040259679,0.885442594687 -4.1896323363,0.0889500665168 l-2.59772698085,-0.466490238905 -3.65612188975,-1.37173463901 l-1.63654059172,-1.20625754197 -1.94067041079,-2.24244773388 l-0.951828857263,-1.95947567622 -0.713518112898,-3.04986814658 l-0.00010826154418,-3.31789771716 0.594225525856,-2.37282256285 m3.19142282009,10.2013079325 l-0.000551284028916,5.14620065689 m4.20871496201,-2.35299766064 l-0.000445652161337,5.00269850095 m11.3870549202,-4.99410748482 l-0.000142727112689,3.82202466329 0.197207505504,3.07695527871 m4.37750180562,-7.94336398443 l0.969275832176,4.48479334513 0.968701740106,3.79225293795 m52.1016558148,-25.8525535965 l-2.91709025701,0.589637607336 -1.09020849069,0.59213762482 l-2.15570251147,1.70145849387 -0.833844145139,0.978803932667 l-1.01452936729,2.0982815822 -0.274555459619,3.09942622979 l0.812458048264,3.64358186722 1.12870732943,3.19755693277 l0.702115893364,2.77552505334 -0.000146079667805,2.64595270157 l-0.497303803762,1.61245336135 -0.930349032084,1.29192640384 l-1.30725761255,1.01098676523 -1.52004251877,0.575555910667 l-3.37298353513,0.277223115166 -1.59727235635,-0.413657004635 l-1.22782240311,-0.687095026175 -2.14850127697,-2.20454514027 l-0.90991795063,-0.83961079518 -1.08016798894,-1.45562122265 l-0.649064779282,-0.738978236914 -1.38969630003,-1.66966974735 l-0.751275469859,-0.373751024405 -0.699782917897,0.875281790892 l-0.000117301848756,2.937926054 1.82695527871,4.20828739802 l1.87768956025,2.28349049886 2.61551996072,1.67530794938 l2.88017332554,0.872935156027 2.24395910899,0.278322895368 l3.29559981823,0.000120436646588 1.70300900936,-0.587879170974 l2.1257019043,-1.40794853369 1.79932594299,-2.22415824731 l1.00676645835,-1.94684823354 0.850737293561,-2.95804262161 l0.367380206784,-3.55391899745 -4.94511186844e-05,-3.81767471631 l0.246936132511,-2.2797926267 0.483616292477,-0.87902545929 l1.25376790762,-1.01434995731 m-1.6212451458,-12.9728619258 l0.237006247044,-0.808293620745 0.945368210475,-1.02119157712 l1.34785026312,-0.992478728294 2.76579399904,-1.25544160604 l3.35127313932,-0.816437949737 3.68542114894,1.22315911237e-05 l1.77988409996,0.68281441927 2.13811576366,1.60212934017 l1.56895091136,1.95773979028 1.31473511457,2.65503545602 l0.787129998207,3.066051205 0.290392562747,3.75165263812 l-0.000108005406219,4.86999233564 -0.584077984095,2.46472597122 l-1.02942963441,1.93697869778 -1.26337140799,1.33021672567 l-1.61396215359,0.933044652144 -2.96679993471,0.747517098983 l-3.77831101418,-1.38434188557e-05 -1.67954802513,-0.697102198998 l-1.35286768277,-1.16474817197 -1.52010540167,-2.17701117198 l-1.10109398762,-2.87772615751 -0.000116354434188,-2.53343602022 m15.6614685059,-11.9922367732 l0.976260403792,-0.590129295985 3.56180906296,-1.45134319862 l4.33959047,-0.712351202965 4.95586832364,2.92019709984e-05 l2.94635375341,0.478151192268 3.38061769803,1.19298925002 l1.84553802013,1.01734817028 2.15969065825,1.87948703766 l1.59042616685,2.42628057798 1.18289182583,2.90052115917 l0.68590203921,3.41928243637 -0.000203185615343,5.5285636584 l-0.573372940222,2.6281452179 -0.962763826052,2.22424129645 l-2.11373388767,2.81723360221 -2.8711938858,2.27765937646 l-3.45227599144,1.53942644596 -4.25420681636,0.941027005514 l-4.89219109217,0.3190236787 -5.00516057014,-4.66532734814e-05 l-2.56649812063,-0.502093434334 -3.40118606885,-1.2159555157 l-1.86117768288,-1.14729185899 -0.722221682469,-0.737029512723 l-1.10255171855,-1.84270044168 -0.99172492822,-2.75797605515 m78.3353184426,-20.9503549793 l-2.89133628209,0.716058164835 -0.91550976038,0.58994675676 l-2.00543820858,1.82454228401 -1.18233809868,1.59609268109 l-1.20612988869,2.75313536326 -0.484886815151,3.19570163886 l-1.69470604305e-05,3.10856362184 0.898803869883,3.22575807571 l0.77327221632,3.05845618248 0.422802021106,3.40039809545 l-0.262057781219,1.85220261415 -0.718844582637,1.36223663886 l-1.04894975821,1.01139068604 -1.3348253568,0.612561255693 l-3.27690025171,0.362180819114 -1.34960869948,-0.326681459943 l-1.14187439283,-0.65231675903 -1.46168480317,-1.54589851697 l-1.21965507666,-2.32264121373 -0.600056300561,-1.60125315189 l-0.603187928597,-2.40716000398 -0.527736147245,-0.590076893568 l-0.833543737729,0.281897907456 -0.802555878957,1.68240249157 l0.171750833591,4.04468576113 1.8458600839,3.99474104246 l2.11075703303,2.29530096054 2.29789634546,1.30880226692 l3.05099884669,0.9781858325 3.92130057017,3.56757300324e-05 l1.76927367846,-0.662908405066 2.1614420414,-1.47562722365 l1.37414316336,-1.43536557754 1.51132881641,-2.58321583271 l1.10699733098,-3.35238575935 0.472201506297,-3.49980354309 l9.50940981663e-06,-3.22541713715 0.134698289136,-2.43796169758 l0.466529677312,-2.16015676657 1.07979923487,-2.24838475386 l0.982670883338,-1.21676812569 1.60897930463,-1.23286346594 m2.09146479766,-6.51784141858 l0.859881142775,-1.39775594076 1.27358992894,-1.10425422589 l2.84242630005,-1.63014660279 1.98285420736,-0.650156488021 l3.05920998255,-0.473814209302 4.04817978541,-3.21407151205e-05 l2.32438663642,0.741620510817 2.64371911685,1.53099358082 l2.21614519755,2.10913538933 1.80985589822,2.66881724199 l0.962078670661,2.05910861492 0.88943918546,3.12458554904 l0.498721301556,3.63874634107 -0.000151115600602,4.24306591352 l-0.63759163022,2.57294297218 -1.07823133469,2.07482258479 l-1.41896943251,1.63550496101 -1.87672138214,1.28679792086 l-3.43729376793,1.17785235246 -4.1322294871,0.422723044952 l-5.28904517492,-5.14960265718e-05 -2.51412212849,-0.50513813893 l-2.3005960385,-0.947801371415 -2.57111310959,-1.75442934036 l-2.0810542504,-2.28956500689 -0.643804818392,-1.1410249273 l-0.881254772345,-2.58883078893 -0.475335220496,-3.2679305474 l-8.99790029507e-05,-3.52098186811 m0.473431547483,0.762062420448 l-0.000283832244653,3.12972684701 m3.89796853065,0.811678518852 l-0.000217646180924,3.3077810208 m75.999177051,-22.251848592 l-2.82058894634,0.829731325308 -0.756018211444,0.557713309924 l-2.04114933809,2.0467855533 -1.20088785887,1.74649298191 l-1.25745852788,3.0297601223 -0.445591211319,2.47420946757 l3.44822759265e-05,3.51735631625 0.579698930184,3.48822593689 l0.410685688257,3.6759463946 -0.170603307585,2.10464815299 l-0.628926207622,1.69982711474 -1.02506220341,1.42801781495 l-1.22580210368,0.918157796065 -3.55757673581,1.16385956605 l-1.77324771881,0.0900933146477 -1.13783935706,0.0419472996145 l-1.61718934774,-0.164640856286 -0.969681143761,-0.121755426129 l-1.22963229815,-0.179451281826 -0.806412051121,0.296886265278 l-0.624470661084,1.04940483967 -0.000251191280161,2.07478324572 l1.9434384505,1.5084780256 1.77067617575,0.774990965923 l4.38576777776,0.752810239792 6.08987291654,-0.785565376282 l2.01680660248,-1.04401816924 1.46861950556,-1.20166440805 l1.6901109616,-2.24578142166 1.33377661308,-2.97793050607 l0.860575338205,-3.46219499906 0.647763212522,-3.85657548904 l0.635604759057,-2.91996479034 0.509849836429,-0.996703803539 l1.37187530597,-1.25643750032 2.03972836336,-0.975782672564 l2.26265112559,-0.523867656787 2.04615910848,7.88964280218e-05 l1.09372178713,0.204051410158 1.59048904975,0.724101314942 l1.10683272282,0.685126334429 1.51663899422,1.28752181927 l1.60336186488,1.79522713025 1.36657396952,2.02792684237 l1.15375737349,2.45062688986 0.754562964042,2.79564420382 l0.774223705133,3.78633300463 0.690344472726,3.49944790204 l0.67434206605,3.41677149137 0.983426074187,1.78348819415 l1.08229587475,1.05797946453 1.17409666379,0.607416580121 l2.1918797493,0.503164033095 3.0679911375,-3.64020365851e-06 l0.954034129779,-0.42840719223 1.28473371267,-1.50001486142 l1.18856817484,-3.09699277083 0.445416122675,-2.55539834499 l-1.10567528585e-05,-6.30306720734 -0.475456515948,-3.07334522406 l-2.13454405467,-6.87181552251 -2.55140682062,-4.71435546875 l-2.0042548577,-2.51824259758 -2.3326253891,-2.19351510207 l-3.60177874565,-2.34311163425 -4.28599715233,-1.73422694206 l-6.56393051147,-1.38042241335 -3.03827325503,-0.180997264882 l-3.76000444094,1.76661872805e-05 -1.73424065113,0.176726803184 m-0.104786107937,5.02049207687 l-0.000124761354527,1.23034616311 m5.69038748741,-0.810094028711 l-0.000135586427253,1.04591012001 m-5.2994676431,6.30985339483 l0.616996139288,1.79139931997 0.595201353232,2.94460674127 l0.231906399131,3.30260475477 -9.49002302756e-05,4.25988316536 l-0.293378531933,3.68128140767 -0.580568164587,2.36235797405 l-0.804157753785,1.83479944865 -1.00131173929,1.33289049069 l-1.30810846885,1.01284364859 -1.50997738043,0.625781565905 l-3.92842253049,0.570702552795 -2.71014769872,6.73650417108e-05 l-1.76654954751,-0.763900329669 -2.13042318821,-1.82244718075 l-1.84966623783,-2.53526628017 -1.50020261606,-3.27404658 l-0.622455676397,-2.63444781303 -0.000192599582078,-3.78445108732 m94.5539777113,-22.9687192786 l-2.68387913704,0.86964994669 -0.665189325809,0.508767714103 l-1.86934431394,1.90440575282 -1.24223530293,1.81686580181 l-0.854291518529,1.98578079542 -0.765169908603,5.16397039096 l3.05471773269e-05,4.14150476456 0.00634102306018,2.00853149096 l-0.0682777476807,4.31639393171 -0.452289829652,2.21357107162 l-0.783012708028,1.72137856483 -1.03764633338,1.29842778047 l-2.04320212205,1.31794154644 -2.60561386744,0.681819419066 l-1.71279271444,-8.09518254149e-05 -1.06004496415,-0.169067457318 l-2.1921090285,-1.01963698864 -0.927194356918,-0.300663833817 l-0.654510507981,0.505391756694 0.122479299704,3.29801420371 l0.808551659187,1.22099598249 0.961964627107,0.844834645589 l1.94978793462,0.934444268545 2.75837639968,0.625566889842 l3.85422229767,4.14692628207e-05 2.0679016908,-0.611630727847 l1.69174651305,-0.853257576625 2.14182694753,-1.76551024119 l1.84004207452,-2.41117159526 1.38427664836,-2.99313525359 l0.885774791241,-3.50342551867 0.826392769814,-3.10951689879 l0.733947902918,-2.47430503368 0.788768927256,-1.75436000029 l1.31807287534,-1.67070706685 1.18124643962,-0.971151789029 l1.88824633757,-0.946319202582 2.32958277067,-0.690706123908 l2.46208151182,-0.392273540298 2.33177065849,-0.239596764247 l0.797402411699,0.161210459967 1.23691836993,0.73048055172 l1.61660939455,1.62084410588 1.57496194045,2.29156434536 l1.36477013429,2.71108110746 1.08866492907,2.92120873928 l0.843579471111,3.17913532257 0.778410832087,3.54185938835 l0.704640696446,3.15802752972 0.827600012223,2.55323092143 l1.17880711953,2.56290574869 1.07460339864,1.54451171557 l1.59795731306,1.55878106753 1.43451442321,0.867866277695 l3.7816798687,0.939716001352 2.69943118095,0.196053087711 l5.62606811523,-0.944570302963 1.10744297504,-0.58331951499 l1.48506323497,-1.57523264488 1.14791274071,-2.6115556558 l0.471007227898,-2.19204545021 0.0337279774249,-6.60545388858 l-0.669698417187,-3.41702540716 -0.964429279168,-2.70649969578 l-3.33582679431,-6.01805051168 -3.31018527349,-4.13615187009 l-4.037078619,-3.63974849383 -6.60205761592,-4.33639645576 l-7.68661975861,-2.944581906 -3.17650834719,-0.78352500995 l-7.17566172282,-0.430989911159 -2.76599844297,0.282557507356 l-1.64577494065,0.528384943803 m1.03213588397,11.1288348834 l-7.5861565468e-05,1.673660477 -0.00192689282509,1.81338508924 l0.341406191389,1.56894197067 0.620746264855,1.44845406214 l1.04194313288,1.15104417006 1.08390172323,0.614830156167 l1.14572584629,0.232477510969 0.818110704422,-0.250503569841 l0.707084536552,-0.644736836354 0.947467287381,-1.83741251628 l0.448455661535,-2.67590324084 -7.67975325289e-05,-2.3347055912 l-0.584207425515,-1.65579468012 -0.955705444018,-1.23334040244 l-1.14996900161,-0.683134446541 -2.11009860039,-0.437737852335 l-2.08796600501,0.000112026985638 m90.9527137852,-4.23875930798 l-2.47525175412,0.874534845352 -0.573554982742,0.509135226409 l-1.94397052129,2.19024837017 -1.88041667144,3.14254879951 l-0.907544791698,2.49643405279 -0.417946030696,2.4901620547 l5.21488133624e-05,3.64446957906 0.0859296880662,2.11562712987 l0.465055257082,5.11608044306 -0.175267619391,4.38303430875 l-0.612447013458,2.27143724759 -0.857803324858,1.66681845983 l-1.1839261651,1.35746786992 -3.26299389203,1.74171765645 l-1.67996903261,0.247691149513 -1.42051021258,-0.218101143837 l-1.02820714315,-0.511088917653 -1.84846162796,-1.82379961014 l-0.666731099288,-0.548344353835 -0.967443486055,-0.892112453779 l-0.710705071688,-0.264729931951 -1.02157553037,0.00735471490771 l-0.715706497431,1.12471888463 0.776409655809,3.83870681127 l2.01491375764,2.60649343332 1.99293454488,1.17193073034 l1.84333761533,0.63528701663 2.87802735964,0.385771915317 l3.80568504333,-7.90370374186e-06 2.28085021178,-0.638144314289 l2.43410428365,-1.30082090696 2.26242740949,-2.03794062138 l1.79907639821,-2.65369554361 1.29674126705,-3.32923134168 l0.684178769588,-3.59625975291 0.142335357765,-3.8486301899 l0.455754995346,-2.5076576074 0.991214215755,-2.15089956919 l1.05504105488,-1.28175407648 1.69442137082,-1.20824317137 l2.14211086432,-0.973758796851 2.35228300095,-0.664205700159 l2.24468111992,-0.427370369434 2.39371836185,-0.492103099823 l2.38522748152,-0.804903109868 2.17848479748,-1.3515218099 l2.01033433278,-2.0924838384 1.3370235761,-2.58054971695 l0.558158953985,-2.21716900667 0.11474998047,-3.10642023881 l-0.64782500267,-1.93395356337 -1.19916111231,-1.500086387 l-1.78763826688,-1.18177394072 -3.44614982605,-1.20557288329 l-2.71280189355,-0.400197332104 -4.70806042353,-2.59757204428e-05 l-2.17982033888,0.509343892336 -1.63817812999,0.904866755009 l-1.86301966508,1.78441405296 m-0.384356925885,9.56770737966 l-0.32280874749,1.99419558048 -0.452448228995,3.23439200719 l-1.67889177799,7.42881615957 -1.19174997012,5.20906488101 l-0.888353983561,3.42038114866 -0.597051729759,2.76429990927 l0.317892084519,0.667271316051 1.36583288511,0.749565760295 l1.59338037173,0.444328933954 1.58096363147,0.102738197893 l0.815555502971,-0.354794164499 1.13751649857,-1.40942504009 l1.15924865007,-2.8042169412 1.45129183928,-6.3713101546 l0.726867268483,-5.31778772672 0.207395975788,-3.55292518934 l-0.0348763819784,-2.53692169984 -0.242967406909,-1.88023308913 m-0.662941982349,-3.88765931129 l0.26351471742,0.955152114232 m66.236867678,-9.30624838082 l-2.20981895924,0.845241844654 -0.482819130023,0.486854662498 l-1.77477399508,2.06882357597 -1.26664916674,2.05750644207 l-1.38101051251,3.43088746071 -0.829958120982,4.09968217214 l-0.33080033958,3.8372862339 -0.176205001771,5.34382303556 l-0.516022890806,2.71089593569 -0.789862722158,2.03620354335 l-0.935983459155,1.34084016085 -2.05045143763,1.55990123749 l-1.67536397775,0.610624154409 -1.53178383907,0.100864842534 l-1.11292739709,-0.108343809843 -2.06565101941,-0.945136547089 l-0.973968903224,-0.504539658626 -1.27381106218,-0.966279606024 l-1.16718222698,-1.55341694752 -0.817405333122,-2.04078872999 l-0.937334795793,0.0374323191742 -0.813163369894,1.8347265323 l0.133309451242,3.23462665081 1.78525666396,3.16937247912 l1.9920784235,1.79718255997 2.58244415124,1.06656879187 l3.20875644684,0.568338384231 3.4295407931,-3.5856434503e-06 l2.09219376246,-0.595437983672 2.42586612701,-1.34354005257 l2.34030723572,-2.11422085762 2.07661708196,-2.93767571449 l2.0813135306,-5.16983230909 0.999179085096,-2.57991552353 l0.79555913806,-1.83145026366 1.26624534527,-1.96913917859 l1.13273262978,-1.05753660202 1.79555634658,-0.894944469134 l2.25038369497,-0.510599762201 2.34368979931,-0.0962019152939 l2.52994894981,0.259290809433 2.55035698414,0.750902245442 l1.67741378148,0.624388605356 2.13014821211,1.08709444602 l2.12794105212,1.40758593877 1.87426408132,1.76215628783 l1.74827019374,2.24713087082 1.54991646608,2.6041785876 l1.35053068399,2.95967062314 1.19527290265,3.20031781991 l1.07600172361,2.35122799873 2.13366786639,3.22846273581 l1.46780441205,1.53579115868 1.36435925961,0.892608761787 l1.9632323583,0.663102865219 1.75552586714,0.201093864938 l2.70627001921,-0.207259121041 1.09491676092,-0.463536679745 l1.50026549896,-1.27203087012 1.29147479932,-2.2670118014 l0.860121150812,-3.30020149549 0.186018447081,-2.59638269742 l-0.371044278145,-3.90811284383 -0.7865691185,-2.8426895539 l-4.32126164436,-8.53360017141 -5.23612260818,-6.22535268466 l-2.34941065311,-2.27606356144 -3.74744613965,-2.73694336414 l-4.28966442744,-2.14693248272 -4.58072384199,-1.42180353403 l-3.42064539591,-0.592597474655 -3.60452532768,-8.59239116835e-05 l-5.55383880933,1.13853921493 -2.07796613375,0.446840375662 m1.02597633998,9.57906881968 l-0.43420150876,1.19588752588 -0.730342616638,1.85044288635 l-0.367047140996,1.60960425933 0.27585208416,1.56362046798 l0.841973423958,0.645375500123 1.05857710044,0.221046557029 l0.842175583045,-0.327163288991 0.744133045276,-0.752508491278 l0.795345306396,-1.82527641455 0.228049531579,-1.71044449011 l-0.297606562575,-2.11165885131 -0.712745587031,-1.03541870912 l-0.876801411311,-0.440447231134 \" fill=\"none\" stroke=\"black\" stroke-width=\"1\"/></svg>"
      ],
      "text/plain": [
       "<IPython.core.display.SVG object>"
      ]
     },
     "metadata": {},
     "output_type": "display_data"
    }
   ],
   "source": [
    "draw_strokes(stroke_grid, factor=0.3)"
   ]
  }
 ],
 "metadata": {
  "colab": {
   "name": "Sketch_RNN.ipynb",
   "provenance": [],
   "version": "0.3.2"
  },
  "kernelspec": {
   "display_name": "Python 2",
   "language": "python",
   "name": "python2"
  },
  "language_info": {
   "codemirror_mode": {
    "name": "ipython",
    "version": 2
   },
   "file_extension": ".py",
   "mimetype": "text/x-python",
   "name": "python",
   "nbconvert_exporter": "python",
   "pygments_lexer": "ipython2",
   "version": "2.7.15"
  }
 },
 "nbformat": 4,
 "nbformat_minor": 2
}
